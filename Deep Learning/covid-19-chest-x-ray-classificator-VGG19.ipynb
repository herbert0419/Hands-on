{
 "cells": [
  {
   "cell_type": "code",
   "execution_count": 31,
   "metadata": {},
   "outputs": [
    {
     "name": "stdout",
     "output_type": "stream",
     "text": [
      "Collecting keras==2.4.3\n",
      "  Using cached Keras-2.4.3-py2.py3-none-any.whl (36 kB)\n",
      "Requirement already satisfied: numpy>=1.9.1 in c:\\users\\91700\\anaconda3\\lib\\site-packages (from keras==2.4.3) (1.19.5)\n",
      "Requirement already satisfied: pyyaml in c:\\users\\91700\\anaconda3\\lib\\site-packages (from keras==2.4.3) (5.4.1)\n",
      "Requirement already satisfied: h5py in c:\\users\\91700\\anaconda3\\lib\\site-packages (from keras==2.4.3) (3.1.0)\n",
      "Requirement already satisfied: scipy>=0.14 in c:\\users\\91700\\anaconda3\\lib\\site-packages (from keras==2.4.3) (1.4.1)\n",
      "Installing collected packages: keras\n",
      "Successfully installed keras-2.4.3\n"
     ]
    }
   ],
   "source": [
    "!pip install keras==2.4.3"
   ]
  },
  {
   "cell_type": "code",
   "execution_count": 33,
   "metadata": {},
   "outputs": [
    {
     "name": "stdout",
     "output_type": "stream",
     "text": [
      "Requirement already satisfied: keras in c:\\users\\91700\\anaconda3\\lib\\site-packages (2.4.3)\n",
      "Requirement already satisfied: h5py in c:\\users\\91700\\anaconda3\\lib\\site-packages (from keras) (3.1.0)\n",
      "Requirement already satisfied: pyyaml in c:\\users\\91700\\anaconda3\\lib\\site-packages (from keras) (5.4.1)\n",
      "Requirement already satisfied: scipy>=0.14 in c:\\users\\91700\\anaconda3\\lib\\site-packages (from keras) (1.4.1)\n",
      "Requirement already satisfied: numpy>=1.9.1 in c:\\users\\91700\\anaconda3\\lib\\site-packages (from keras) (1.19.5)\n",
      "Requirement already satisfied: keras-nightly in c:\\users\\91700\\anaconda3\\lib\\site-packages (2.5.0.dev2021032900)\n",
      "Requirement already satisfied: keras-Preprocessing in c:\\users\\91700\\anaconda3\\lib\\site-packages (1.1.2)\n",
      "Requirement already satisfied: six>=1.9.0 in c:\\users\\91700\\anaconda3\\lib\\site-packages (from keras-Preprocessing) (1.15.0)\n",
      "Requirement already satisfied: numpy>=1.9.1 in c:\\users\\91700\\anaconda3\\lib\\site-packages (from keras-Preprocessing) (1.19.5)\n",
      "Collecting keras-vis\n",
      "  Downloading keras_vis-0.4.1-py2.py3-none-any.whl (30 kB)\n",
      "Requirement already satisfied: keras in c:\\users\\91700\\anaconda3\\lib\\site-packages (from keras-vis) (2.4.3)\n",
      "Requirement already satisfied: scikit-image in c:\\users\\91700\\anaconda3\\lib\\site-packages (from keras-vis) (0.18.1)\n",
      "Requirement already satisfied: six in c:\\users\\91700\\anaconda3\\lib\\site-packages (from keras-vis) (1.15.0)\n",
      "Requirement already satisfied: matplotlib in c:\\users\\91700\\anaconda3\\lib\\site-packages (from keras-vis) (3.3.4)\n",
      "Requirement already satisfied: h5py in c:\\users\\91700\\anaconda3\\lib\\site-packages (from keras-vis) (3.1.0)\n",
      "Requirement already satisfied: numpy>=1.17.5 in c:\\users\\91700\\anaconda3\\lib\\site-packages (from h5py->keras-vis) (1.19.5)\n",
      "Requirement already satisfied: pyyaml in c:\\users\\91700\\anaconda3\\lib\\site-packages (from keras->keras-vis) (5.4.1)\n",
      "Requirement already satisfied: scipy>=0.14 in c:\\users\\91700\\anaconda3\\lib\\site-packages (from keras->keras-vis) (1.4.1)\n",
      "Requirement already satisfied: python-dateutil>=2.1 in c:\\users\\91700\\anaconda3\\lib\\site-packages (from matplotlib->keras-vis) (2.8.1)\n",
      "Requirement already satisfied: kiwisolver>=1.0.1 in c:\\users\\91700\\anaconda3\\lib\\site-packages (from matplotlib->keras-vis) (1.3.1)\n",
      "Requirement already satisfied: cycler>=0.10 in c:\\users\\91700\\anaconda3\\lib\\site-packages (from matplotlib->keras-vis) (0.10.0)\n",
      "Requirement already satisfied: pyparsing!=2.0.4,!=2.1.2,!=2.1.6,>=2.0.3 in c:\\users\\91700\\anaconda3\\lib\\site-packages (from matplotlib->keras-vis) (2.4.7)\n",
      "Requirement already satisfied: pillow>=6.2.0 in c:\\users\\91700\\anaconda3\\lib\\site-packages (from matplotlib->keras-vis) (8.2.0)\n",
      "Requirement already satisfied: networkx>=2.0 in c:\\users\\91700\\anaconda3\\lib\\site-packages (from scikit-image->keras-vis) (2.5)\n",
      "Requirement already satisfied: imageio>=2.3.0 in c:\\users\\91700\\anaconda3\\lib\\site-packages (from scikit-image->keras-vis) (2.9.0)\n",
      "Requirement already satisfied: tifffile>=2019.7.26 in c:\\users\\91700\\anaconda3\\lib\\site-packages (from scikit-image->keras-vis) (2021.4.8)\n",
      "Requirement already satisfied: PyWavelets>=1.1.1 in c:\\users\\91700\\anaconda3\\lib\\site-packages (from scikit-image->keras-vis) (1.1.1)\n",
      "Requirement already satisfied: decorator>=4.3.0 in c:\\users\\91700\\anaconda3\\lib\\site-packages (from networkx>=2.0->scikit-image->keras-vis) (5.0.6)\n",
      "Installing collected packages: keras-vis\n",
      "Successfully installed keras-vis-0.4.1\n",
      "Collecting tensorflow\n",
      "  Using cached tensorflow-2.5.0-cp38-cp38-win_amd64.whl (422.6 MB)\n",
      "Requirement already satisfied: wheel~=0.35 in c:\\users\\91700\\anaconda3\\lib\\site-packages (from tensorflow) (0.36.2)\n",
      "Requirement already satisfied: google-pasta~=0.2 in c:\\users\\91700\\anaconda3\\lib\\site-packages (from tensorflow) (0.2.0)\n",
      "Requirement already satisfied: astunparse~=1.6.3 in c:\\users\\91700\\anaconda3\\lib\\site-packages (from tensorflow) (1.6.3)\n",
      "Requirement already satisfied: termcolor~=1.1.0 in c:\\users\\91700\\anaconda3\\lib\\site-packages (from tensorflow) (1.1.0)\n",
      "Requirement already satisfied: wrapt~=1.12.1 in c:\\users\\91700\\anaconda3\\lib\\site-packages (from tensorflow) (1.12.1)\n",
      "Requirement already satisfied: opt-einsum~=3.3.0 in c:\\users\\91700\\anaconda3\\lib\\site-packages (from tensorflow) (3.3.0)\n",
      "Requirement already satisfied: grpcio~=1.34.0 in c:\\users\\91700\\anaconda3\\lib\\site-packages (from tensorflow) (1.34.1)\n",
      "Requirement already satisfied: tensorboard~=2.5 in c:\\users\\91700\\anaconda3\\lib\\site-packages (from tensorflow) (2.5.0)\n",
      "Requirement already satisfied: gast==0.4.0 in c:\\users\\91700\\anaconda3\\lib\\site-packages (from tensorflow) (0.4.0)\n",
      "Requirement already satisfied: keras-preprocessing~=1.1.2 in c:\\users\\91700\\anaconda3\\lib\\site-packages (from tensorflow) (1.1.2)\n",
      "Requirement already satisfied: flatbuffers~=1.12.0 in c:\\users\\91700\\anaconda3\\lib\\site-packages (from tensorflow) (1.12)\n",
      "Requirement already satisfied: protobuf>=3.9.2 in c:\\users\\91700\\anaconda3\\lib\\site-packages (from tensorflow) (3.17.3)\n",
      "Requirement already satisfied: six~=1.15.0 in c:\\users\\91700\\anaconda3\\lib\\site-packages (from tensorflow) (1.15.0)\n",
      "Requirement already satisfied: keras-nightly~=2.5.0.dev in c:\\users\\91700\\anaconda3\\lib\\site-packages (from tensorflow) (2.5.0.dev2021032900)\n",
      "Requirement already satisfied: typing-extensions~=3.7.4 in c:\\users\\91700\\anaconda3\\lib\\site-packages (from tensorflow) (3.7.4.3)\n",
      "Requirement already satisfied: absl-py~=0.10 in c:\\users\\91700\\anaconda3\\lib\\site-packages (from tensorflow) (0.12.0)\n",
      "Requirement already satisfied: tensorflow-estimator<2.6.0,>=2.5.0rc0 in c:\\users\\91700\\anaconda3\\lib\\site-packages (from tensorflow) (2.5.0)\n",
      "Requirement already satisfied: h5py~=3.1.0 in c:\\users\\91700\\anaconda3\\lib\\site-packages (from tensorflow) (3.1.0)\n",
      "Requirement already satisfied: numpy~=1.19.2 in c:\\users\\91700\\anaconda3\\lib\\site-packages (from tensorflow) (1.19.5)\n",
      "Requirement already satisfied: setuptools>=41.0.0 in c:\\users\\91700\\anaconda3\\lib\\site-packages (from tensorboard~=2.5->tensorflow) (52.0.0.post20210125)\n",
      "Requirement already satisfied: tensorboard-plugin-wit>=1.6.0 in c:\\users\\91700\\anaconda3\\lib\\site-packages (from tensorboard~=2.5->tensorflow) (1.8.0)\n",
      "Requirement already satisfied: werkzeug>=0.11.15 in c:\\users\\91700\\anaconda3\\lib\\site-packages (from tensorboard~=2.5->tensorflow) (1.0.1)\n",
      "Requirement already satisfied: google-auth-oauthlib<0.5,>=0.4.1 in c:\\users\\91700\\anaconda3\\lib\\site-packages (from tensorboard~=2.5->tensorflow) (0.4.4)\n",
      "Requirement already satisfied: markdown>=2.6.8 in c:\\users\\91700\\anaconda3\\lib\\site-packages (from tensorboard~=2.5->tensorflow) (3.3.4)\n",
      "Requirement already satisfied: google-auth<2,>=1.6.3 in c:\\users\\91700\\anaconda3\\lib\\site-packages (from tensorboard~=2.5->tensorflow) (1.31.0)\n",
      "Requirement already satisfied: tensorboard-data-server<0.7.0,>=0.6.0 in c:\\users\\91700\\anaconda3\\lib\\site-packages (from tensorboard~=2.5->tensorflow) (0.6.1)\n",
      "Requirement already satisfied: requests<3,>=2.21.0 in c:\\users\\91700\\anaconda3\\lib\\site-packages (from tensorboard~=2.5->tensorflow) (2.25.1)\n",
      "Requirement already satisfied: rsa<5,>=3.1.4 in c:\\users\\91700\\anaconda3\\lib\\site-packages (from google-auth<2,>=1.6.3->tensorboard~=2.5->tensorflow) (4.7.2)\n",
      "Requirement already satisfied: cachetools<5.0,>=2.0.0 in c:\\users\\91700\\anaconda3\\lib\\site-packages (from google-auth<2,>=1.6.3->tensorboard~=2.5->tensorflow) (4.2.2)\n",
      "Requirement already satisfied: pyasn1-modules>=0.2.1 in c:\\users\\91700\\anaconda3\\lib\\site-packages (from google-auth<2,>=1.6.3->tensorboard~=2.5->tensorflow) (0.2.8)\n",
      "Requirement already satisfied: requests-oauthlib>=0.7.0 in c:\\users\\91700\\anaconda3\\lib\\site-packages (from google-auth-oauthlib<0.5,>=0.4.1->tensorboard~=2.5->tensorflow) (1.3.0)\n",
      "Requirement already satisfied: pyasn1<0.5.0,>=0.4.6 in c:\\users\\91700\\anaconda3\\lib\\site-packages (from pyasn1-modules>=0.2.1->google-auth<2,>=1.6.3->tensorboard~=2.5->tensorflow) (0.4.8)\n",
      "Requirement already satisfied: certifi>=2017.4.17 in c:\\users\\91700\\anaconda3\\lib\\site-packages (from requests<3,>=2.21.0->tensorboard~=2.5->tensorflow) (2020.12.5)\n",
      "Requirement already satisfied: idna<3,>=2.5 in c:\\users\\91700\\anaconda3\\lib\\site-packages (from requests<3,>=2.21.0->tensorboard~=2.5->tensorflow) (2.10)\n",
      "Requirement already satisfied: chardet<5,>=3.0.2 in c:\\users\\91700\\anaconda3\\lib\\site-packages (from requests<3,>=2.21.0->tensorboard~=2.5->tensorflow) (4.0.0)\n",
      "Requirement already satisfied: urllib3<1.27,>=1.21.1 in c:\\users\\91700\\anaconda3\\lib\\site-packages (from requests<3,>=2.21.0->tensorboard~=2.5->tensorflow) (1.26.4)\n",
      "Requirement already satisfied: oauthlib>=3.0.0 in c:\\users\\91700\\anaconda3\\lib\\site-packages (from requests-oauthlib>=0.7.0->google-auth-oauthlib<0.5,>=0.4.1->tensorboard~=2.5->tensorflow) (3.1.1)\n",
      "Installing collected packages: tensorflow\n"
     ]
    },
    {
     "name": "stderr",
     "output_type": "stream",
     "text": [
      "ERROR: Could not install packages due to an OSError: [WinError 5] Access is denied: 'C:\\\\Users\\\\91700\\\\anaconda3\\\\Lib\\\\site-packages\\\\tensorflow\\\\lite\\\\experimental\\\\microfrontend\\\\python\\\\ops\\\\_audio_microfrontend_op.so'\n",
      "Consider using the `--user` option or check the permissions.\n",
      "\n"
     ]
    }
   ],
   "source": [
    "!pip install keras \n",
    "!pip install keras-nightly \n",
    "!pip install keras-Preprocessing \n",
    "!pip install keras-vis \n",
    "!pip install tensorflow "
   ]
  },
  {
   "cell_type": "code",
   "execution_count": 35,
   "metadata": {},
   "outputs": [
    {
     "name": "stdout",
     "output_type": "stream",
     "text": [
      "Requirement already satisfied: keras==2.4.3 in c:\\users\\91700\\anaconda3\\lib\\site-packages (2.4.3)\n",
      "Requirement already satisfied: pyyaml in c:\\users\\91700\\anaconda3\\lib\\site-packages (from keras==2.4.3) (5.4.1)\n",
      "Requirement already satisfied: h5py in c:\\users\\91700\\anaconda3\\lib\\site-packages (from keras==2.4.3) (3.1.0)\n",
      "Requirement already satisfied: scipy>=0.14 in c:\\users\\91700\\anaconda3\\lib\\site-packages (from keras==2.4.3) (1.4.1)\n",
      "Requirement already satisfied: numpy>=1.9.1 in c:\\users\\91700\\anaconda3\\lib\\site-packages (from keras==2.4.3) (1.19.5)\n"
     ]
    }
   ],
   "source": [
    "!pip install keras==2.4.3"
   ]
  },
  {
   "cell_type": "code",
   "execution_count": 36,
   "metadata": {},
   "outputs": [
    {
     "data": {
      "text/plain": [
       "'2.4.0'"
      ]
     },
     "execution_count": 36,
     "metadata": {},
     "output_type": "execute_result"
    }
   ],
   "source": [
    "keras.__version__"
   ]
  },
  {
   "cell_type": "code",
   "execution_count": 1,
   "metadata": {
    "execution": {
     "iopub.execute_input": "2021-06-06T19:24:19.462182Z",
     "iopub.status.busy": "2021-06-06T19:24:19.461788Z",
     "iopub.status.idle": "2021-06-06T19:24:25.265568Z",
     "shell.execute_reply": "2021-06-06T19:24:25.264545Z",
     "shell.execute_reply.started": "2021-06-06T19:24:19.46208Z"
    },
    "id": "FsnRv7nhukeT",
    "papermill": {
     "duration": 6.899546,
     "end_time": "2021-06-06T02:17:38.314192",
     "exception": false,
     "start_time": "2021-06-06T02:17:31.414646",
     "status": "completed"
    },
    "tags": []
   },
   "outputs": [],
   "source": [
    "import os\n",
    "import zipfile\n",
    "import datetime\n",
    "from collections import Counter\n",
    "\n",
    "import sklearn\n",
    "import numpy as np\n",
    "import pandas as pd\n",
    "from sklearn.model_selection import StratifiedShuffleSplit\n",
    "import tensorflow as tf\n",
    "from tensorflow.keras.preprocessing.image import ImageDataGenerator\n",
    "from tensorflow import keras\n",
    "from tensorflow.keras import models,layers\n",
    "from tensorflow.keras.utils import plot_model\n",
    "\n",
    "\n",
    "import matplotlib.pyplot as plt\n",
    "import PIL.Image\n",
    "from IPython.display import Image\n",
    "import matplotlib.pyplot as plt"
   ]
  },
  {
   "cell_type": "markdown",
   "metadata": {
    "id": "3SJJyotWWKyT",
    "papermill": {
     "duration": 0.026274,
     "end_time": "2021-06-06T02:17:38.368373",
     "exception": false,
     "start_time": "2021-06-06T02:17:38.342099",
     "status": "completed"
    },
    "tags": []
   },
   "source": [
    "# Dataset"
   ]
  },
  {
   "cell_type": "markdown",
   "metadata": {
    "id": "nPWve_BmWYSR",
    "papermill": {
     "duration": 0.027233,
     "end_time": "2021-06-06T02:17:38.423409",
     "exception": false,
     "start_time": "2021-06-06T02:17:38.396176",
     "status": "completed"
    },
    "tags": []
   },
   "source": [
    "## Data visualization"
   ]
  },
  {
   "cell_type": "code",
   "execution_count": 2,
   "metadata": {
    "execution": {
     "iopub.execute_input": "2021-06-06T19:24:25.277763Z",
     "iopub.status.busy": "2021-06-06T19:24:25.275666Z",
     "iopub.status.idle": "2021-06-06T19:24:26.098417Z",
     "shell.execute_reply": "2021-06-06T19:24:26.097566Z",
     "shell.execute_reply.started": "2021-06-06T19:24:25.277721Z"
    },
    "id": "fbetneDaKbvr",
    "outputId": "a2dbe8a8-2270-4b76-8e6b-b144c38fcd0a",
    "papermill": {
     "duration": 1.198333,
     "end_time": "2021-06-06T02:17:39.648961",
     "exception": false,
     "start_time": "2021-06-06T02:17:38.450628",
     "status": "completed"
    },
    "tags": []
   },
   "outputs": [
    {
     "name": "stdout",
     "output_type": "stream",
     "text": [
      "Normal chest x-ray\n"
     ]
    },
    {
     "data": {
      "image/png": "[encoded data removed]",
      "text/plain": [
       "<Figure size 432x288 with 1 Axes>"
      ]
     },
     "metadata": {
      "needs_background": "light"
     },
     "output_type": "display_data"
    },
    {
     "name": "stdout",
     "output_type": "stream",
     "text": [
      "Covid chest x-ray\n"
     ]
    },
    {
     "data": {
      "image/png": "[encoded data removed]",
      "text/plain": [
       "<Figure size 432x288 with 1 Axes>"
      ]
     },
     "metadata": {
      "needs_background": "light"
     },
     "output_type": "display_data"
    },
    {
     "name": "stdout",
     "output_type": "stream",
     "text": [
      "Viral Pneumonia chest x-ray\n"
     ]
    },
    {
     "data": {
      "image/png": "[encoded data removed]",
      "text/plain": [
       "<Figure size 432x288 with 1 Axes>"
      ]
     },
     "metadata": {
      "needs_background": "light"
     },
     "output_type": "display_data"
    }
   ],
   "source": [
    "img_path = 'D:/Machine Learning_Deep Learning/archive (1)/COVID-19_Radiography_Dataset/'\n",
    "covid_imgs = os.listdir(img_path+'/COVID')\n",
    "normal_imgs = os.listdir(img_path+'/Normal')\n",
    "pneumonia_imgs = os.listdir(img_path + '/Viral Pneumonia')\n",
    "\n",
    "print(\"Normal chest x-ray\")\n",
    "im = PIL.Image.open(os.path.join(img_path,'Normal',normal_imgs[0]))\n",
    "plt.imshow(im,cmap=\"gray\")\n",
    "plt.show()\n",
    "\n",
    "print(\"Covid chest x-ray\")\n",
    "im = PIL.Image.open(os.path.join(img_path,'COVID',covid_imgs[0]))\n",
    "plt.imshow(im,cmap=\"gray\")\n",
    "plt.show()\n",
    "\n",
    "print(\"Viral Pneumonia chest x-ray\")\n",
    "im = PIL.Image.open(os.path.join(img_path,'Viral Pneumonia',pneumonia_imgs[0]))\n",
    "plt.imshow(im,cmap=\"gray\")\n",
    "plt.show()\n"
   ]
  },
  {
   "cell_type": "markdown",
   "metadata": {
    "id": "7goqWd4kWrGS",
    "papermill": {
     "duration": 0.031732,
     "end_time": "2021-06-06T02:17:39.714166",
     "exception": false,
     "start_time": "2021-06-06T02:17:39.682434",
     "status": "completed"
    },
    "tags": []
   },
   "source": [
    "## Image pre-processing and train-test split"
   ]
  },
  {
   "cell_type": "code",
   "execution_count": 3,
   "metadata": {
    "execution": {
     "iopub.execute_input": "2021-06-06T19:24:26.100373Z",
     "iopub.status.busy": "2021-06-06T19:24:26.100026Z",
     "iopub.status.idle": "2021-06-06T19:24:26.104704Z",
     "shell.execute_reply": "2021-06-06T19:24:26.103901Z",
     "shell.execute_reply.started": "2021-06-06T19:24:26.100335Z"
    },
    "id": "g-OYeO1HP1cs",
    "papermill": {
     "duration": 0.040293,
     "end_time": "2021-06-06T02:17:39.786671",
     "exception": false,
     "start_time": "2021-06-06T02:17:39.746378",
     "status": "completed"
    },
    "tags": []
   },
   "outputs": [],
   "source": [
    "BATCH_SIZE = 20\n",
    "IMAGE_SIZE = 224\n",
    "input_shape = (IMAGE_SIZE,IMAGE_SIZE,3)"
   ]
  },
  {
   "cell_type": "code",
   "execution_count": 4,
   "metadata": {
    "execution": {
     "iopub.execute_input": "2021-06-06T19:24:26.106833Z",
     "iopub.status.busy": "2021-06-06T19:24:26.106456Z",
     "iopub.status.idle": "2021-06-06T19:24:26.336069Z",
     "shell.execute_reply": "2021-06-06T19:24:26.335358Z",
     "shell.execute_reply.started": "2021-06-06T19:24:26.106795Z"
    },
    "id": "l8taOepASakP",
    "outputId": "3c05db09-f90f-422d-e3fa-d2357bf2c0e9",
    "papermill": {
     "duration": 0.314082,
     "end_time": "2021-06-06T02:17:40.132559",
     "exception": false,
     "start_time": "2021-06-06T02:17:39.818477",
     "status": "completed"
    },
    "tags": []
   },
   "outputs": [
    {
     "data": {
      "text/html": [
       "<div>\n",
       "<style scoped>\n",
       "    .dataframe tbody tr th:only-of-type {\n",
       "        vertical-align: middle;\n",
       "    }\n",
       "\n",
       "    .dataframe tbody tr th {\n",
       "        vertical-align: top;\n",
       "    }\n",
       "\n",
       "    .dataframe thead th {\n",
       "        text-align: right;\n",
       "    }\n",
       "</style>\n",
       "<table border=\"1\" class=\"dataframe\">\n",
       "  <thead>\n",
       "    <tr style=\"text-align: right;\">\n",
       "      <th></th>\n",
       "      <th>id</th>\n",
       "      <th>label</th>\n",
       "    </tr>\n",
       "  </thead>\n",
       "  <tbody>\n",
       "    <tr>\n",
       "      <th>count</th>\n",
       "      <td>21165</td>\n",
       "      <td>21165</td>\n",
       "    </tr>\n",
       "    <tr>\n",
       "      <th>unique</th>\n",
       "      <td>21165</td>\n",
       "      <td>4</td>\n",
       "    </tr>\n",
       "    <tr>\n",
       "      <th>top</th>\n",
       "      <td>COVID\\COVID-2275.png</td>\n",
       "      <td>Normal</td>\n",
       "    </tr>\n",
       "    <tr>\n",
       "      <th>freq</th>\n",
       "      <td>1</td>\n",
       "      <td>10192</td>\n",
       "    </tr>\n",
       "  </tbody>\n",
       "</table>\n",
       "</div>"
      ],
      "text/plain": [
       "                          id   label\n",
       "count                  21165   21165\n",
       "unique                 21165       4\n",
       "top     COVID\\COVID-2275.png  Normal\n",
       "freq                       1   10192"
      ]
     },
     "execution_count": 4,
     "metadata": {},
     "output_type": "execute_result"
    }
   ],
   "source": [
    "list_files = []\n",
    "for dir in os.listdir(img_path):\n",
    "  aux_dir = os.path.join(img_path,dir)\n",
    "  \n",
    "  if os.path.isdir(aux_dir):\n",
    "    for img in os.listdir(aux_dir):\n",
    "      list_files.append([os.path.join(dir,img),dir])\n",
    "df = pd.DataFrame(list_files, columns=['id','label'])\n",
    "df.describe()"
   ]
  },
  {
   "cell_type": "code",
   "execution_count": 5,
   "metadata": {
    "execution": {
     "iopub.execute_input": "2021-06-06T19:24:26.338374Z",
     "iopub.status.busy": "2021-06-06T19:24:26.338026Z",
     "iopub.status.idle": "2021-06-06T19:24:26.355469Z",
     "shell.execute_reply": "2021-06-06T19:24:26.354535Z",
     "shell.execute_reply.started": "2021-06-06T19:24:26.338337Z"
    },
    "id": "Sx7i8Zqp-jFg",
    "outputId": "1a8cc1b1-15f1-4120-df2a-0d897629a67a",
    "papermill": {
     "duration": 0.055318,
     "end_time": "2021-06-06T02:17:40.221237",
     "exception": false,
     "start_time": "2021-06-06T02:17:40.165919",
     "status": "completed"
    },
    "tags": []
   },
   "outputs": [
    {
     "data": {
      "text/html": [
       "<div>\n",
       "<style scoped>\n",
       "    .dataframe tbody tr th:only-of-type {\n",
       "        vertical-align: middle;\n",
       "    }\n",
       "\n",
       "    .dataframe tbody tr th {\n",
       "        vertical-align: top;\n",
       "    }\n",
       "\n",
       "    .dataframe thead th {\n",
       "        text-align: right;\n",
       "    }\n",
       "</style>\n",
       "<table border=\"1\" class=\"dataframe\">\n",
       "  <thead>\n",
       "    <tr style=\"text-align: right;\">\n",
       "      <th></th>\n",
       "      <th>Label</th>\n",
       "      <th>Frequência absoluta</th>\n",
       "      <th>Frequência relativa</th>\n",
       "    </tr>\n",
       "  </thead>\n",
       "  <tbody>\n",
       "    <tr>\n",
       "      <th>0</th>\n",
       "      <td>COVID</td>\n",
       "      <td>3616</td>\n",
       "      <td>0.170848</td>\n",
       "    </tr>\n",
       "    <tr>\n",
       "      <th>1</th>\n",
       "      <td>Lung_Opacity</td>\n",
       "      <td>6012</td>\n",
       "      <td>0.284054</td>\n",
       "    </tr>\n",
       "    <tr>\n",
       "      <th>2</th>\n",
       "      <td>Normal</td>\n",
       "      <td>10192</td>\n",
       "      <td>0.481550</td>\n",
       "    </tr>\n",
       "    <tr>\n",
       "      <th>3</th>\n",
       "      <td>Viral Pneumonia</td>\n",
       "      <td>1345</td>\n",
       "      <td>0.063548</td>\n",
       "    </tr>\n",
       "  </tbody>\n",
       "</table>\n",
       "</div>"
      ],
      "text/plain": [
       "             Label  Frequência absoluta  Frequência relativa\n",
       "0            COVID                 3616             0.170848\n",
       "1     Lung_Opacity                 6012             0.284054\n",
       "2           Normal                10192             0.481550\n",
       "3  Viral Pneumonia                 1345             0.063548"
      ]
     },
     "execution_count": 5,
     "metadata": {},
     "output_type": "execute_result"
    }
   ],
   "source": [
    "def frequency_plot(df):\n",
    "  freq_abs = Counter(df.label);\n",
    "  freq_a = pd.DataFrame.from_dict(freq_abs, orient='index').reset_index()\n",
    "  total = len(df.index)\n",
    "  freq_r = freq_a[0]/total\n",
    "  freq_a[1] = freq_r\n",
    "  freq_a.columns = ['Label','Frequência absoluta','Frequência relativa']\n",
    "  return freq_a\n",
    "frequency_plot(df)"
   ]
  },
  {
   "cell_type": "markdown",
   "metadata": {
    "id": "pBg8gCQlJPf3",
    "papermill": {
     "duration": 0.032419,
     "end_time": "2021-06-06T02:17:40.285945",
     "exception": false,
     "start_time": "2021-06-06T02:17:40.253526",
     "status": "completed"
    },
    "tags": []
   },
   "source": [
    "## Undersampling classes\n",
    "\n",
    "O conjunto de dados está desequilibrado. Como nosso foco é a classe COVID, iremos subamostrar as classes com mais exemplos do que a classe COVID e manter as classes com menos exemplos.\n",
    "\n",
    "**English**\n",
    "\n",
    "The dataset is unbalanced. As our focus is the COVID class, we will undersample classes with more examples than the COVID class and keep classes with less examples."
   ]
  },
  {
   "cell_type": "code",
   "execution_count": 6,
   "metadata": {
    "execution": {
     "iopub.execute_input": "2021-06-06T19:24:28.337503Z",
     "iopub.status.busy": "2021-06-06T19:24:28.337156Z",
     "iopub.status.idle": "2021-06-06T19:24:28.368863Z",
     "shell.execute_reply": "2021-06-06T19:24:28.367991Z",
     "shell.execute_reply.started": "2021-06-06T19:24:28.337471Z"
    },
    "id": "3OA5VMuFKqyC",
    "outputId": "2e72ecf9-2ed0-4478-9fbe-138903635d1c",
    "papermill": {
     "duration": 0.078598,
     "end_time": "2021-06-06T02:17:40.398092",
     "exception": false,
     "start_time": "2021-06-06T02:17:40.319494",
     "status": "completed"
    },
    "tags": []
   },
   "outputs": [
    {
     "data": {
      "text/html": [
       "<div>\n",
       "<style scoped>\n",
       "    .dataframe tbody tr th:only-of-type {\n",
       "        vertical-align: middle;\n",
       "    }\n",
       "\n",
       "    .dataframe tbody tr th {\n",
       "        vertical-align: top;\n",
       "    }\n",
       "\n",
       "    .dataframe thead th {\n",
       "        text-align: right;\n",
       "    }\n",
       "</style>\n",
       "<table border=\"1\" class=\"dataframe\">\n",
       "  <thead>\n",
       "    <tr style=\"text-align: right;\">\n",
       "      <th></th>\n",
       "      <th>Label</th>\n",
       "      <th>Frequência absoluta</th>\n",
       "      <th>Frequência relativa</th>\n",
       "    </tr>\n",
       "  </thead>\n",
       "  <tbody>\n",
       "    <tr>\n",
       "      <th>0</th>\n",
       "      <td>COVID</td>\n",
       "      <td>3616</td>\n",
       "      <td>0.254773</td>\n",
       "    </tr>\n",
       "    <tr>\n",
       "      <th>1</th>\n",
       "      <td>Lung_Opacity</td>\n",
       "      <td>4616</td>\n",
       "      <td>0.325231</td>\n",
       "    </tr>\n",
       "    <tr>\n",
       "      <th>2</th>\n",
       "      <td>Normal</td>\n",
       "      <td>4616</td>\n",
       "      <td>0.325231</td>\n",
       "    </tr>\n",
       "    <tr>\n",
       "      <th>3</th>\n",
       "      <td>Viral Pneumonia</td>\n",
       "      <td>1345</td>\n",
       "      <td>0.094765</td>\n",
       "    </tr>\n",
       "  </tbody>\n",
       "</table>\n",
       "</div>"
      ],
      "text/plain": [
       "             Label  Frequência absoluta  Frequência relativa\n",
       "0            COVID                 3616             0.254773\n",
       "1     Lung_Opacity                 4616             0.325231\n",
       "2           Normal                 4616             0.325231\n",
       "3  Viral Pneumonia                 1345             0.094765"
      ]
     },
     "execution_count": 6,
     "metadata": {},
     "output_type": "execute_result"
    }
   ],
   "source": [
    "def balance_dataset(focus_class, df):\n",
    "  classes = df.label.unique()\n",
    "  classes_df_list = []\n",
    "  focus_class_df = df[df.label == focus_class]\n",
    "  classes_df_list.append(focus_class_df)\n",
    "  count_focus_class = len(focus_class_df)\n",
    "  ##Divide by class\n",
    "  for classe in classes:\n",
    "    class_df = df[df.label == classe]\n",
    "    count_class = len(class_df)\n",
    "    if classe == focus_class:\n",
    "      continue\n",
    "    if count_class > count_focus_class+1000:\n",
    "      class_df = class_df.sample(count_focus_class+1000)\n",
    "    classes_df_list.append(class_df)\n",
    "  df_under = pd.concat(classes_df_list, axis=0) \n",
    "  return df_under\n",
    "\n",
    "\n",
    "df = balance_dataset('COVID',df)\n",
    "\n",
    "frequency_plot(df)"
   ]
  },
  {
   "cell_type": "code",
   "execution_count": 7,
   "metadata": {
    "execution": {
     "iopub.execute_input": "2021-06-06T19:24:30.285181Z",
     "iopub.status.busy": "2021-06-06T19:24:30.284841Z",
     "iopub.status.idle": "2021-06-06T19:24:30.333121Z",
     "shell.execute_reply": "2021-06-06T19:24:30.332192Z",
     "shell.execute_reply.started": "2021-06-06T19:24:30.285152Z"
    },
    "id": "YDJCJdnc5wml",
    "papermill": {
     "duration": 0.0893,
     "end_time": "2021-06-06T02:17:40.52173",
     "exception": false,
     "start_time": "2021-06-06T02:17:40.43243",
     "status": "completed"
    },
    "tags": []
   },
   "outputs": [],
   "source": [
    "def split_dataset(df,test_size,random_state = 101):\n",
    "  sss = StratifiedShuffleSplit(n_splits=1, test_size=test_size, random_state=random_state)\n",
    "  df = df.reset_index()\n",
    "  for train_index, test_index in sss.split(df['id'], df['label']):\n",
    "    X_train, X_test = df['id'][train_index], df['id'][test_index]\n",
    "    y_train, y_test = df['label'][train_index], df['label'][test_index]\n",
    "  traindf = pd.concat([X_train, y_train], axis=1)\n",
    "  testdf = pd.concat([X_test, y_test], axis=1)\n",
    "  return traindf,testdf\n",
    "\n",
    "#divide train/val/test in 80/10/10\n",
    "traindf,testdf = split_dataset(df,test_size = 0.25)\n",
    "valdf,testdf= split_dataset(testdf,test_size = 0.50)\n",
    "# traindf = balance_dataset('COVID',df)\n",
    "\n",
    "\n",
    "traindf.id = img_path + traindf.id\n",
    "valdf.id = img_path + valdf.id\n",
    "testdf.id = img_path + testdf.id"
   ]
  },
  {
   "cell_type": "code",
   "execution_count": 8,
   "metadata": {
    "execution": {
     "iopub.execute_input": "2021-06-06T02:17:40.596948Z",
     "iopub.status.busy": "2021-06-06T02:17:40.595853Z",
     "iopub.status.idle": "2021-06-06T02:17:40.60731Z",
     "shell.execute_reply": "2021-06-06T02:17:40.607951Z",
     "shell.execute_reply.started": "2021-06-06T01:29:44.400142Z"
    },
    "id": "ikfr1UZr_g3k",
    "outputId": "22c889e1-6d88-46e1-8fb2-dd3ba16dccb8",
    "papermill": {
     "duration": 0.05285,
     "end_time": "2021-06-06T02:17:40.608134",
     "exception": false,
     "start_time": "2021-06-06T02:17:40.555284",
     "status": "completed"
    },
    "tags": []
   },
   "outputs": [
    {
     "data": {
      "text/html": [
       "<div>\n",
       "<style scoped>\n",
       "    .dataframe tbody tr th:only-of-type {\n",
       "        vertical-align: middle;\n",
       "    }\n",
       "\n",
       "    .dataframe tbody tr th {\n",
       "        vertical-align: top;\n",
       "    }\n",
       "\n",
       "    .dataframe thead th {\n",
       "        text-align: right;\n",
       "    }\n",
       "</style>\n",
       "<table border=\"1\" class=\"dataframe\">\n",
       "  <thead>\n",
       "    <tr style=\"text-align: right;\">\n",
       "      <th></th>\n",
       "      <th>Label</th>\n",
       "      <th>Frequência absoluta</th>\n",
       "      <th>Frequência relativa</th>\n",
       "    </tr>\n",
       "  </thead>\n",
       "  <tbody>\n",
       "    <tr>\n",
       "      <th>0</th>\n",
       "      <td>COVID</td>\n",
       "      <td>2712</td>\n",
       "      <td>0.254791</td>\n",
       "    </tr>\n",
       "    <tr>\n",
       "      <th>1</th>\n",
       "      <td>Lung_Opacity</td>\n",
       "      <td>3462</td>\n",
       "      <td>0.325254</td>\n",
       "    </tr>\n",
       "    <tr>\n",
       "      <th>2</th>\n",
       "      <td>Viral Pneumonia</td>\n",
       "      <td>1008</td>\n",
       "      <td>0.094701</td>\n",
       "    </tr>\n",
       "    <tr>\n",
       "      <th>3</th>\n",
       "      <td>Normal</td>\n",
       "      <td>3462</td>\n",
       "      <td>0.325254</td>\n",
       "    </tr>\n",
       "  </tbody>\n",
       "</table>\n",
       "</div>"
      ],
      "text/plain": [
       "             Label  Frequência absoluta  Frequência relativa\n",
       "0            COVID                 2712             0.254791\n",
       "1     Lung_Opacity                 3462             0.325254\n",
       "2  Viral Pneumonia                 1008             0.094701\n",
       "3           Normal                 3462             0.325254"
      ]
     },
     "execution_count": 8,
     "metadata": {},
     "output_type": "execute_result"
    }
   ],
   "source": [
    "frequency_plot(traindf)"
   ]
  },
  {
   "cell_type": "code",
   "execution_count": 9,
   "metadata": {
    "execution": {
     "iopub.execute_input": "2021-06-06T02:17:40.686047Z",
     "iopub.status.busy": "2021-06-06T02:17:40.684926Z",
     "iopub.status.idle": "2021-06-06T02:17:40.6939Z",
     "shell.execute_reply": "2021-06-06T02:17:40.693385Z",
     "shell.execute_reply.started": "2021-06-06T01:29:46.124932Z"
    },
    "id": "Vb1rjnf_k_dE",
    "outputId": "7fa95705-fd93-44a7-afab-528bc58b2fdd",
    "papermill": {
     "duration": 0.051911,
     "end_time": "2021-06-06T02:17:40.694049",
     "exception": false,
     "start_time": "2021-06-06T02:17:40.642138",
     "status": "completed"
    },
    "tags": []
   },
   "outputs": [
    {
     "data": {
      "text/html": [
       "<div>\n",
       "<style scoped>\n",
       "    .dataframe tbody tr th:only-of-type {\n",
       "        vertical-align: middle;\n",
       "    }\n",
       "\n",
       "    .dataframe tbody tr th {\n",
       "        vertical-align: top;\n",
       "    }\n",
       "\n",
       "    .dataframe thead th {\n",
       "        text-align: right;\n",
       "    }\n",
       "</style>\n",
       "<table border=\"1\" class=\"dataframe\">\n",
       "  <thead>\n",
       "    <tr style=\"text-align: right;\">\n",
       "      <th></th>\n",
       "      <th>Label</th>\n",
       "      <th>Frequência absoluta</th>\n",
       "      <th>Frequência relativa</th>\n",
       "    </tr>\n",
       "  </thead>\n",
       "  <tbody>\n",
       "    <tr>\n",
       "      <th>0</th>\n",
       "      <td>COVID</td>\n",
       "      <td>452</td>\n",
       "      <td>0.254791</td>\n",
       "    </tr>\n",
       "    <tr>\n",
       "      <th>1</th>\n",
       "      <td>Lung_Opacity</td>\n",
       "      <td>577</td>\n",
       "      <td>0.325254</td>\n",
       "    </tr>\n",
       "    <tr>\n",
       "      <th>2</th>\n",
       "      <td>Viral Pneumonia</td>\n",
       "      <td>168</td>\n",
       "      <td>0.094701</td>\n",
       "    </tr>\n",
       "    <tr>\n",
       "      <th>3</th>\n",
       "      <td>Normal</td>\n",
       "      <td>577</td>\n",
       "      <td>0.325254</td>\n",
       "    </tr>\n",
       "  </tbody>\n",
       "</table>\n",
       "</div>"
      ],
      "text/plain": [
       "             Label  Frequência absoluta  Frequência relativa\n",
       "0            COVID                  452             0.254791\n",
       "1     Lung_Opacity                  577             0.325254\n",
       "2  Viral Pneumonia                  168             0.094701\n",
       "3           Normal                  577             0.325254"
      ]
     },
     "execution_count": 9,
     "metadata": {},
     "output_type": "execute_result"
    }
   ],
   "source": [
    "frequency_plot(valdf)"
   ]
  },
  {
   "cell_type": "code",
   "execution_count": 10,
   "metadata": {
    "execution": {
     "iopub.execute_input": "2021-06-06T02:17:40.775231Z",
     "iopub.status.busy": "2021-06-06T02:17:40.774131Z",
     "iopub.status.idle": "2021-06-06T02:17:40.7794Z",
     "shell.execute_reply": "2021-06-06T02:17:40.778854Z",
     "shell.execute_reply.started": "2021-06-06T01:29:49.079466Z"
    },
    "id": "tKYfIO_Jk_pE",
    "outputId": "734e959b-2c78-4def-f464-ae443d2e7aa6",
    "papermill": {
     "duration": 0.051147,
     "end_time": "2021-06-06T02:17:40.779529",
     "exception": false,
     "start_time": "2021-06-06T02:17:40.728382",
     "status": "completed"
    },
    "tags": []
   },
   "outputs": [
    {
     "data": {
      "text/html": [
       "<div>\n",
       "<style scoped>\n",
       "    .dataframe tbody tr th:only-of-type {\n",
       "        vertical-align: middle;\n",
       "    }\n",
       "\n",
       "    .dataframe tbody tr th {\n",
       "        vertical-align: top;\n",
       "    }\n",
       "\n",
       "    .dataframe thead th {\n",
       "        text-align: right;\n",
       "    }\n",
       "</style>\n",
       "<table border=\"1\" class=\"dataframe\">\n",
       "  <thead>\n",
       "    <tr style=\"text-align: right;\">\n",
       "      <th></th>\n",
       "      <th>Label</th>\n",
       "      <th>Frequência absoluta</th>\n",
       "      <th>Frequência relativa</th>\n",
       "    </tr>\n",
       "  </thead>\n",
       "  <tbody>\n",
       "    <tr>\n",
       "      <th>0</th>\n",
       "      <td>Normal</td>\n",
       "      <td>577</td>\n",
       "      <td>0.325070</td>\n",
       "    </tr>\n",
       "    <tr>\n",
       "      <th>1</th>\n",
       "      <td>Lung_Opacity</td>\n",
       "      <td>577</td>\n",
       "      <td>0.325070</td>\n",
       "    </tr>\n",
       "    <tr>\n",
       "      <th>2</th>\n",
       "      <td>COVID</td>\n",
       "      <td>452</td>\n",
       "      <td>0.254648</td>\n",
       "    </tr>\n",
       "    <tr>\n",
       "      <th>3</th>\n",
       "      <td>Viral Pneumonia</td>\n",
       "      <td>169</td>\n",
       "      <td>0.095211</td>\n",
       "    </tr>\n",
       "  </tbody>\n",
       "</table>\n",
       "</div>"
      ],
      "text/plain": [
       "             Label  Frequência absoluta  Frequência relativa\n",
       "0           Normal                  577             0.325070\n",
       "1     Lung_Opacity                  577             0.325070\n",
       "2            COVID                  452             0.254648\n",
       "3  Viral Pneumonia                  169             0.095211"
      ]
     },
     "execution_count": 10,
     "metadata": {},
     "output_type": "execute_result"
    }
   ],
   "source": [
    "frequency_plot(testdf)"
   ]
  },
  {
   "cell_type": "markdown",
   "metadata": {
    "id": "s1aBqZMAKsjZ",
    "papermill": {
     "duration": 0.034628,
     "end_time": "2021-06-06T02:17:40.849399",
     "exception": false,
     "start_time": "2021-06-06T02:17:40.814771",
     "status": "completed"
    },
    "tags": []
   },
   "source": [
    "## Image Data Generator"
   ]
  },
  {
   "cell_type": "code",
   "execution_count": 11,
   "metadata": {
    "execution": {
     "iopub.execute_input": "2021-06-06T02:17:40.923716Z",
     "iopub.status.busy": "2021-06-06T02:17:40.922836Z",
     "iopub.status.idle": "2021-06-06T02:17:40.926804Z",
     "shell.execute_reply": "2021-06-06T02:17:40.926276Z",
     "shell.execute_reply.started": "2021-06-06T01:30:00.167955Z"
    },
    "papermill": {
     "duration": 0.042555,
     "end_time": "2021-06-06T02:17:40.926948",
     "exception": false,
     "start_time": "2021-06-06T02:17:40.884393",
     "status": "completed"
    },
    "tags": []
   },
   "outputs": [],
   "source": [
    "BATCH_SIZE = 20\n",
    "IMAGE_SIZE = 224\n",
    "input_shape = (IMAGE_SIZE,IMAGE_SIZE,3)"
   ]
  },
  {
   "cell_type": "code",
   "execution_count": 12,
   "metadata": {
    "execution": {
     "iopub.execute_input": "2021-06-06T02:17:41.032199Z",
     "iopub.status.busy": "2021-06-06T02:17:41.019738Z",
     "iopub.status.idle": "2021-06-06T02:17:55.456336Z",
     "shell.execute_reply": "2021-06-06T02:17:55.455737Z",
     "shell.execute_reply.started": "2021-06-06T02:16:09.315508Z"
    },
    "id": "32SjmuIUOMeW",
    "outputId": "f3452f73-bd17-4018-a2f8-689b58cbdbc0",
    "papermill": {
     "duration": 14.495208,
     "end_time": "2021-06-06T02:17:55.45649",
     "exception": false,
     "start_time": "2021-06-06T02:17:40.961282",
     "status": "completed"
    },
    "tags": []
   },
   "outputs": [
    {
     "name": "stdout",
     "output_type": "stream",
     "text": [
      "Creating train generator...\n",
      "Found 10644 validated image filenames belonging to 4 classes.\n",
      "Found 1775 validated image filenames belonging to 4 classes.\n",
      "\n",
      "Creating val generator...\n",
      "Found 1774 validated image filenames belonging to 4 classes.\n"
     ]
    }
   ],
   "source": [
    "BATCH_SIZE=50\n",
    "\n",
    "\"\"\"\n",
    "train_datagen = ImageDataGenerator(          \n",
    "    rotation_range = 40,\n",
    "    width_shift_range = 0.2,\n",
    "  height_shift_range=0.2,\n",
    "  shear_range = 0.2,\n",
    "  zoom_range = 0.1,\n",
    "  fill_mode = 'nearest',\n",
    ")\n",
    "\"\"\"\n",
    "train_datagen = ImageDataGenerator(rescale=1./255)\n",
    "test_datagen = ImageDataGenerator(rescale=1./255)\n",
    "\n",
    "\n",
    "print(\"Creating train generator...\")\n",
    "train_generator = train_datagen.flow_from_dataframe(\n",
    "    dataframe=traindf,\n",
    "    directory=\"COVID-19_Radiography_Dataset\",\n",
    "    x_col=\"id\",\n",
    "    y_col=\"label\",\n",
    "    batch_size=BATCH_SIZE,\n",
    "    color_mode=\"rgb\",\n",
    "    seed=5,\n",
    "    shuffle=True,\n",
    "    class_mode=\"categorical\",\n",
    "    target_size=(IMAGE_SIZE,IMAGE_SIZE)\n",
    ")\n",
    "\n",
    "\n",
    "val_datagen = ImageDataGenerator(rescale=1./255)\n",
    "\n",
    "test_generator = test_datagen.flow_from_dataframe(\n",
    "    dataframe=testdf,\n",
    "    directory=\"COVID-19_Radiography_Dataset\",\n",
    "    x_col=\"id\",\n",
    "    y_col=\"label\",\n",
    "    color_mode=\"rgb\",\n",
    "    seed=5,\n",
    "    shuffle = False,\n",
    "    batch_size=30,\n",
    "    class_mode=\"categorical\",\n",
    "    target_size=(IMAGE_SIZE,IMAGE_SIZE)\n",
    ")\n",
    "\n",
    "print(\"\\nCreating val generator...\")\n",
    "val_generator = val_datagen.flow_from_dataframe(\n",
    "    dataframe=valdf,\n",
    "    directory=\"COVID-19_Radiography_Dataset\",\n",
    "    x_col=\"id\",\n",
    "    y_col=\"label\",\n",
    "    batch_size=5,\n",
    "    color_mode=\"rgb\",\n",
    "    seed=5,\n",
    "    shuffle=True,\n",
    "    class_mode=\"categorical\",\n",
    "    target_size=(IMAGE_SIZE,IMAGE_SIZE)\n",
    ")\n",
    "\n",
    "\n"
   ]
  },
  {
   "cell_type": "markdown",
   "metadata": {
    "id": "kjvVaq5KXEuB",
    "papermill": {
     "duration": 0.03553,
     "end_time": "2021-06-06T02:17:55.602316",
     "exception": false,
     "start_time": "2021-06-06T02:17:55.566786",
     "status": "completed"
    },
    "tags": []
   },
   "source": [
    "## Importing VGG19 model"
   ]
  },
  {
   "cell_type": "code",
   "execution_count": 15,
   "metadata": {
    "execution": {
     "iopub.execute_input": "2021-06-06T19:49:46.229066Z",
     "iopub.status.busy": "2021-06-06T19:49:46.228737Z",
     "iopub.status.idle": "2021-06-06T19:49:47.162433Z",
     "shell.execute_reply": "2021-06-06T19:49:47.161488Z",
     "shell.execute_reply.started": "2021-06-06T19:49:46.229034Z"
    },
    "id": "7bOmGKhQzCYV",
    "outputId": "af8da77a-7f69-44e0-ff73-b1044afe0e45",
    "papermill": {
     "duration": 4.530817,
     "end_time": "2021-06-06T02:18:00.169333",
     "exception": false,
     "start_time": "2021-06-06T02:17:55.638516",
     "status": "completed"
    },
    "tags": []
   },
   "outputs": [
    {
     "name": "stdout",
     "output_type": "stream",
     "text": [
      "Downloading data from https://storage.googleapis.com/tensorflow/keras-applications/vgg19/vgg19_weights_tf_dim_ordering_tf_kernels_notop.h5\n",
      "80142336/80134624 [==============================] - 21s 0us/step\n",
      "Model: \"vgg19\"\n",
      "_________________________________________________________________\n",
      "Layer (type)                 Output Shape              Param #   \n",
      "=================================================================\n",
      "input_1 (InputLayer)         [(None, 224, 224, 3)]     0         \n",
      "_________________________________________________________________\n",
      "block1_conv1 (Conv2D)        (None, 224, 224, 64)      1792      \n",
      "_________________________________________________________________\n",
      "block1_conv2 (Conv2D)        (None, 224, 224, 64)      36928     \n",
      "_________________________________________________________________\n",
      "block1_pool (MaxPooling2D)   (None, 112, 112, 64)      0         \n",
      "_________________________________________________________________\n",
      "block2_conv1 (Conv2D)        (None, 112, 112, 128)     73856     \n",
      "_________________________________________________________________\n",
      "block2_conv2 (Conv2D)        (None, 112, 112, 128)     147584    \n",
      "_________________________________________________________________\n",
      "block2_pool (MaxPooling2D)   (None, 56, 56, 128)       0         \n",
      "_________________________________________________________________\n",
      "block3_conv1 (Conv2D)        (None, 56, 56, 256)       295168    \n",
      "_________________________________________________________________\n",
      "block3_conv2 (Conv2D)        (None, 56, 56, 256)       590080    \n",
      "_________________________________________________________________\n",
      "block3_conv3 (Conv2D)        (None, 56, 56, 256)       590080    \n",
      "_________________________________________________________________\n",
      "block3_conv4 (Conv2D)        (None, 56, 56, 256)       590080    \n",
      "_________________________________________________________________\n",
      "block3_pool (MaxPooling2D)   (None, 28, 28, 256)       0         \n",
      "_________________________________________________________________\n",
      "block4_conv1 (Conv2D)        (None, 28, 28, 512)       1180160   \n",
      "_________________________________________________________________\n",
      "block4_conv2 (Conv2D)        (None, 28, 28, 512)       2359808   \n",
      "_________________________________________________________________\n",
      "block4_conv3 (Conv2D)        (None, 28, 28, 512)       2359808   \n",
      "_________________________________________________________________\n",
      "block4_conv4 (Conv2D)        (None, 28, 28, 512)       2359808   \n",
      "_________________________________________________________________\n",
      "block4_pool (MaxPooling2D)   (None, 14, 14, 512)       0         \n",
      "_________________________________________________________________\n",
      "block5_conv1 (Conv2D)        (None, 14, 14, 512)       2359808   \n",
      "_________________________________________________________________\n",
      "block5_conv2 (Conv2D)        (None, 14, 14, 512)       2359808   \n",
      "_________________________________________________________________\n",
      "block5_conv3 (Conv2D)        (None, 14, 14, 512)       2359808   \n",
      "_________________________________________________________________\n",
      "block5_conv4 (Conv2D)        (None, 14, 14, 512)       2359808   \n",
      "_________________________________________________________________\n",
      "block5_pool (MaxPooling2D)   (None, 7, 7, 512)         0         \n",
      "=================================================================\n",
      "Total params: 20,024,384\n",
      "Trainable params: 0\n",
      "Non-trainable params: 20,024,384\n",
      "_________________________________________________________________\n"
     ]
    }
   ],
   "source": [
    "from keras.applications.vgg19 import VGG19\n",
    "base_convnet = VGG19(include_top=False, input_shape=(224, 224, 3))\n",
    "\n",
    "\n",
    "#Freeze base convolutional layers\n",
    "base_convnet.trainable = False\n",
    "base_convnet.summary()"
   ]
  },
  {
   "cell_type": "markdown",
   "metadata": {
    "id": "UzY4I7NIXzxa",
    "papermill": {
     "duration": 0.040644,
     "end_time": "2021-06-06T02:18:00.255158",
     "exception": false,
     "start_time": "2021-06-06T02:18:00.214514",
     "status": "completed"
    },
    "tags": []
   },
   "source": [
    "## Addition of fully connected layers"
   ]
  },
  {
   "cell_type": "code",
   "execution_count": 16,
   "metadata": {
    "execution": {
     "iopub.execute_input": "2021-06-06T02:18:00.349865Z",
     "iopub.status.busy": "2021-06-06T02:18:00.347017Z",
     "iopub.status.idle": "2021-06-06T02:18:00.50612Z",
     "shell.execute_reply": "2021-06-06T02:18:00.50482Z",
     "shell.execute_reply.started": "2021-06-06T01:34:31.05204Z"
    },
    "id": "oHzbzxLZKWdU",
    "outputId": "bcd4d858-297e-46d1-f58d-0729ca43b877",
    "papermill": {
     "duration": 0.209972,
     "end_time": "2021-06-06T02:18:00.506339",
     "exception": false,
     "start_time": "2021-06-06T02:18:00.296367",
     "status": "completed"
    },
    "tags": []
   },
   "outputs": [
    {
     "name": "stdout",
     "output_type": "stream",
     "text": [
      "Model: \"sequential\"\n",
      "_________________________________________________________________\n",
      "Layer (type)                 Output Shape              Param #   \n",
      "=================================================================\n",
      "vgg19 (Functional)           (None, 7, 7, 512)         20024384  \n",
      "_________________________________________________________________\n",
      "flatten (Flatten)            (None, 25088)             0         \n",
      "_________________________________________________________________\n",
      "dense (Dense)                (None, 1024)              25691136  \n",
      "_________________________________________________________________\n",
      "dropout (Dropout)            (None, 1024)              0         \n",
      "_________________________________________________________________\n",
      "dense_1 (Dense)              (None, 1024)              1049600   \n",
      "_________________________________________________________________\n",
      "dropout_1 (Dropout)          (None, 1024)              0         \n",
      "_________________________________________________________________\n",
      "fc_out (Dense)               (None, 4)                 4100      \n",
      "=================================================================\n",
      "Total params: 46,769,220\n",
      "Trainable params: 26,744,836\n",
      "Non-trainable params: 20,024,384\n",
      "_________________________________________________________________\n"
     ]
    }
   ],
   "source": [
    "model = models.Sequential()\n",
    "model.add(base_convnet)\n",
    "\n",
    "\"\"\"\n",
    "model.add(layers.BatchNormalization())\n",
    "model.add(layers.Conv2D(256, 3,padding='same',activation='relu'))\n",
    "model.add(layers.Dropout(0.30))\n",
    "model.add(layers.BatchNormalization())\n",
    "model.add(layers.Conv2D(256, 3,padding='same',activation='relu'))\n",
    "model.add(layers.Dropout(0.30))\n",
    "\"\"\"\n",
    "\n",
    "# model.add(layers.Conv2D(64, 3, activation='relu'))\n",
    "model.add(layers.Flatten())\n",
    "\n",
    "model.add(layers.Dense(1024, activation='relu'))\n",
    "model.add(layers.Dropout(0.30))\n",
    "model.add(layers.Dense(1024, activation='relu'))\n",
    "model.add(layers.Dropout(0.30))\n",
    "model.add(layers.Dense(4, activation='softmax',name=\"fc_out\"))\n",
    "\n",
    "model.summary()\n",
    "\n",
    "\n"
   ]
  },
  {
   "cell_type": "markdown",
   "metadata": {
    "id": "nUI79sL9aazi",
    "papermill": {
     "duration": 0.043637,
     "end_time": "2021-06-06T02:18:01.472701",
     "exception": false,
     "start_time": "2021-06-06T02:18:01.429064",
     "status": "completed"
    },
    "tags": []
   },
   "source": [
    "\n",
    "## Training the classification model"
   ]
  },
  {
   "cell_type": "code",
   "execution_count": 17,
   "metadata": {
    "execution": {
     "iopub.execute_input": "2021-06-06T02:18:01.56929Z",
     "iopub.status.busy": "2021-06-06T02:18:01.568398Z",
     "iopub.status.idle": "2021-06-06T02:18:01.572246Z",
     "shell.execute_reply": "2021-06-06T02:18:01.571702Z",
     "shell.execute_reply.started": "2021-06-06T02:16:45.629644Z"
    },
    "id": "g-TxXPeyd3pp",
    "papermill": {
     "duration": 0.054626,
     "end_time": "2021-06-06T02:18:01.572382",
     "exception": false,
     "start_time": "2021-06-06T02:18:01.517756",
     "status": "completed"
    },
    "tags": []
   },
   "outputs": [],
   "source": [
    "checkpoints_path = '/kaggle/output/models_checkpoints/covid_project'\n",
    "model_checkpoint_callback = tf.keras.callbacks.ModelCheckpoint(\n",
    "    filepath=checkpoints_path,\n",
    "    save_weights_only=True,\n",
    "    monitor='val_accuracy',\n",
    "    mode='max',\n",
    "    save_best_only=True)\n",
    "#to avoid overfitting\n",
    "early = tf.keras.callbacks.EarlyStopping(monitor='val_loss',patience=7)\n",
    "mcp_save = tf.keras.callbacks.ModelCheckpoint('.mdl_wts.hdf5', save_best_only=True, monitor='val_loss', mode='min')"
   ]
  },
  {
   "cell_type": "code",
   "execution_count": 18,
   "metadata": {
    "execution": {
     "iopub.execute_input": "2021-06-06T02:18:01.674847Z",
     "iopub.status.busy": "2021-06-06T02:18:01.673672Z",
     "iopub.status.idle": "2021-06-06T02:24:00.936769Z",
     "shell.execute_reply": "2021-06-06T02:24:00.938408Z",
     "shell.execute_reply.started": "2021-06-06T01:34:37.074135Z"
    },
    "papermill": {
     "duration": 359.32059,
     "end_time": "2021-06-06T02:24:00.938697",
     "exception": false,
     "start_time": "2021-06-06T02:18:01.618107",
     "status": "completed"
    },
    "tags": []
   },
   "outputs": [
    {
     "name": "stdout",
     "output_type": "stream",
     "text": [
      "WARNING:tensorflow:From <ipython-input-18-f07f24625a09>:13: Model.fit_generator (from tensorflow.python.keras.engine.training) is deprecated and will be removed in a future version.\n",
      "Instructions for updating:\n",
      "Please use Model.fit, which supports generators.\n",
      "Epoch 1/50\n",
      "50/50 [==============================] - ETA: 0s - loss: 1.2072 - recall: 0.2044 - precision: 0.5579 - acc: 0.4540WARNING:tensorflow:Can save best model only with val_accuracy available, skipping.\n",
      "50/50 [==============================] - 59s 1s/step - loss: 1.2072 - recall: 0.2044 - precision: 0.5579 - acc: 0.4540 - val_loss: 0.9479 - val_recall: 0.2600 - val_precision: 0.8025 - val_acc: 0.6600\n",
      "Epoch 2/50\n",
      "50/50 [==============================] - ETA: 0s - loss: 0.9323 - recall: 0.4132 - precision: 0.7275 - acc: 0.6072WARNING:tensorflow:Can save best model only with val_accuracy available, skipping.\n",
      "50/50 [==============================] - 58s 1s/step - loss: 0.9323 - recall: 0.4132 - precision: 0.7275 - acc: 0.6072 - val_loss: 0.7567 - val_recall: 0.5760 - val_precision: 0.8276 - val_acc: 0.7400\n",
      "Epoch 3/50\n",
      "50/50 [==============================] - ETA: 0s - loss: 0.7668 - recall: 0.5754 - precision: 0.7898 - acc: 0.7109WARNING:tensorflow:Can save best model only with val_accuracy available, skipping.\n",
      "50/50 [==============================] - 55s 1s/step - loss: 0.7668 - recall: 0.5754 - precision: 0.7898 - acc: 0.7109 - val_loss: 0.6325 - val_recall: 0.7240 - val_precision: 0.8619 - val_acc: 0.7920\n",
      "Epoch 4/50\n",
      "50/50 [==============================] - ETA: 0s - loss: 0.6880 - recall: 0.6484 - precision: 0.8061 - acc: 0.7476WARNING:tensorflow:Can save best model only with val_accuracy available, skipping.\n",
      "50/50 [==============================] - 51s 1s/step - loss: 0.6880 - recall: 0.6484 - precision: 0.8061 - acc: 0.7476 - val_loss: 0.5383 - val_recall: 0.7600 - val_precision: 0.8756 - val_acc: 0.8440\n",
      "Epoch 5/50\n",
      "50/50 [==============================] - ETA: 0s - loss: 0.6219 - recall: 0.6900 - precision: 0.8171 - acc: 0.7664WARNING:tensorflow:Can save best model only with val_accuracy available, skipping.\n",
      "50/50 [==============================] - 51s 1s/step - loss: 0.6219 - recall: 0.6900 - precision: 0.8171 - acc: 0.7664 - val_loss: 0.6096 - val_recall: 0.7320 - val_precision: 0.8356 - val_acc: 0.7920\n",
      "Epoch 6/50\n",
      "50/50 [==============================] - ETA: 0s - loss: 0.5627 - recall: 0.7224 - precision: 0.8323 - acc: 0.7908WARNING:tensorflow:Can save best model only with val_accuracy available, skipping.\n",
      "50/50 [==============================] - 34s 686ms/step - loss: 0.5627 - recall: 0.7224 - precision: 0.8323 - acc: 0.7908 - val_loss: 0.5384 - val_recall: 0.7400 - val_precision: 0.8409 - val_acc: 0.7920\n",
      "Epoch 7/50\n",
      "50/50 [==============================] - ETA: 0s - loss: 0.5342 - recall: 0.7460 - precision: 0.8412 - acc: 0.8064WARNING:tensorflow:Can save best model only with val_accuracy available, skipping.\n",
      "50/50 [==============================] - 34s 689ms/step - loss: 0.5342 - recall: 0.7460 - precision: 0.8412 - acc: 0.8064 - val_loss: 0.4860 - val_recall: 0.7920 - val_precision: 0.8534 - val_acc: 0.8280\n",
      "Epoch 8/50\n",
      "50/50 [==============================] - ETA: 0s - loss: 0.5185 - recall: 0.7672 - precision: 0.8547 - acc: 0.8212WARNING:tensorflow:Can save best model only with val_accuracy available, skipping.\n",
      "50/50 [==============================] - 45s 907ms/step - loss: 0.5185 - recall: 0.7672 - precision: 0.8547 - acc: 0.8212 - val_loss: 0.5105 - val_recall: 0.7800 - val_precision: 0.8590 - val_acc: 0.8160\n",
      "Epoch 9/50\n",
      "50/50 [==============================] - ETA: 0s - loss: 0.4852 - recall: 0.7884 - precision: 0.8592 - acc: 0.8268WARNING:tensorflow:Can save best model only with val_accuracy available, skipping.\n",
      "50/50 [==============================] - 38s 753ms/step - loss: 0.4852 - recall: 0.7884 - precision: 0.8592 - acc: 0.8268 - val_loss: 0.4756 - val_recall: 0.8160 - val_precision: 0.8644 - val_acc: 0.8560\n",
      "Epoch 10/50\n",
      "50/50 [==============================] - ETA: 0s - loss: 0.4599 - recall: 0.8000 - precision: 0.8628 - acc: 0.8400WARNING:tensorflow:Can save best model only with val_accuracy available, skipping.\n",
      "50/50 [==============================] - 40s 791ms/step - loss: 0.4599 - recall: 0.8000 - precision: 0.8628 - acc: 0.8400 - val_loss: 0.4702 - val_recall: 0.7760 - val_precision: 0.8472 - val_acc: 0.8200\n",
      "Epoch 11/50\n",
      "50/50 [==============================] - ETA: 0s - loss: 0.4423 - recall: 0.8056 - precision: 0.8711 - acc: 0.8444WARNING:tensorflow:Can save best model only with val_accuracy available, skipping.\n",
      "50/50 [==============================] - 32s 645ms/step - loss: 0.4423 - recall: 0.8056 - precision: 0.8711 - acc: 0.8444 - val_loss: 0.4654 - val_recall: 0.8120 - val_precision: 0.8252 - val_acc: 0.8160\n",
      "Epoch 12/50\n",
      "50/50 [==============================] - ETA: 0s - loss: 0.4345 - recall: 0.8144 - precision: 0.8734 - acc: 0.8488WARNING:tensorflow:Can save best model only with val_accuracy available, skipping.\n",
      "50/50 [==============================] - 31s 627ms/step - loss: 0.4345 - recall: 0.8144 - precision: 0.8734 - acc: 0.8488 - val_loss: 0.4241 - val_recall: 0.8200 - val_precision: 0.8506 - val_acc: 0.8400\n",
      "Epoch 13/50\n",
      "50/50 [==============================] - ETA: 0s - loss: 0.4295 - recall: 0.8111 - precision: 0.8653 - acc: 0.8460WARNING:tensorflow:Can save best model only with val_accuracy available, skipping.\n",
      "50/50 [==============================] - 26s 525ms/step - loss: 0.4295 - recall: 0.8111 - precision: 0.8653 - acc: 0.8460 - val_loss: 0.4528 - val_recall: 0.8080 - val_precision: 0.8523 - val_acc: 0.8200\n",
      "Epoch 14/50\n",
      "50/50 [==============================] - ETA: 0s - loss: 0.4090 - recall: 0.8248 - precision: 0.8778 - acc: 0.8512WARNING:tensorflow:Can save best model only with val_accuracy available, skipping.\n",
      "50/50 [==============================] - 27s 542ms/step - loss: 0.4090 - recall: 0.8248 - precision: 0.8778 - acc: 0.8512 - val_loss: 0.3485 - val_recall: 0.8520 - val_precision: 0.8802 - val_acc: 0.8680\n",
      "Epoch 15/50\n",
      "50/50 [==============================] - ETA: 0s - loss: 0.3907 - recall: 0.8324 - precision: 0.8784 - acc: 0.8560WARNING:tensorflow:Can save best model only with val_accuracy available, skipping.\n",
      "50/50 [==============================] - 26s 529ms/step - loss: 0.3907 - recall: 0.8324 - precision: 0.8784 - acc: 0.8560 - val_loss: 0.4450 - val_recall: 0.8280 - val_precision: 0.8589 - val_acc: 0.8560\n",
      "Epoch 16/50\n",
      "50/50 [==============================] - ETA: 0s - loss: 0.3848 - recall: 0.8472 - precision: 0.8881 - acc: 0.8704WARNING:tensorflow:Can save best model only with val_accuracy available, skipping.\n",
      "50/50 [==============================] - 27s 531ms/step - loss: 0.3848 - recall: 0.8472 - precision: 0.8881 - acc: 0.8704 - val_loss: 0.3760 - val_recall: 0.8640 - val_precision: 0.8963 - val_acc: 0.8800\n",
      "Epoch 17/50\n",
      "50/50 [==============================] - ETA: 0s - loss: 0.3599 - recall: 0.8516 - precision: 0.8942 - acc: 0.8752WARNING:tensorflow:Can save best model only with val_accuracy available, skipping.\n",
      "50/50 [==============================] - 27s 540ms/step - loss: 0.3599 - recall: 0.8516 - precision: 0.8942 - acc: 0.8752 - val_loss: 0.3476 - val_recall: 0.8720 - val_precision: 0.8971 - val_acc: 0.8880\n",
      "Epoch 18/50\n",
      "50/50 [==============================] - ETA: 0s - loss: 0.3525 - recall: 0.8548 - precision: 0.8941 - acc: 0.8744WARNING:tensorflow:Can save best model only with val_accuracy available, skipping.\n",
      "50/50 [==============================] - 29s 577ms/step - loss: 0.3525 - recall: 0.8548 - precision: 0.8941 - acc: 0.8744 - val_loss: 0.3607 - val_recall: 0.8440 - val_precision: 0.8903 - val_acc: 0.8720\n",
      "Epoch 19/50\n",
      "50/50 [==============================] - ETA: 0s - loss: 0.3643 - recall: 0.8468 - precision: 0.8887 - acc: 0.8708WARNING:tensorflow:Can save best model only with val_accuracy available, skipping.\n",
      "50/50 [==============================] - 29s 580ms/step - loss: 0.3643 - recall: 0.8468 - precision: 0.8887 - acc: 0.8708 - val_loss: 0.3587 - val_recall: 0.8640 - val_precision: 0.8963 - val_acc: 0.8760\n",
      "Epoch 20/50\n",
      "50/50 [==============================] - ETA: 0s - loss: 0.3693 - recall: 0.8456 - precision: 0.8795 - acc: 0.8641WARNING:tensorflow:Can save best model only with val_accuracy available, skipping.\n",
      "50/50 [==============================] - 26s 517ms/step - loss: 0.3693 - recall: 0.8456 - precision: 0.8795 - acc: 0.8641 - val_loss: 0.3605 - val_recall: 0.8720 - val_precision: 0.9046 - val_acc: 0.8920\n",
      "Epoch 21/50\n",
      "50/50 [==============================] - ETA: 0s - loss: 0.3516 - recall: 0.8516 - precision: 0.8860 - acc: 0.8668WARNING:tensorflow:Can save best model only with val_accuracy available, skipping.\n",
      "50/50 [==============================] - 28s 552ms/step - loss: 0.3516 - recall: 0.8516 - precision: 0.8860 - acc: 0.8668 - val_loss: 0.3772 - val_recall: 0.8280 - val_precision: 0.8697 - val_acc: 0.8400\n",
      "Epoch 22/50\n",
      "50/50 [==============================] - ETA: 0s - loss: 0.3471 - recall: 0.8545 - precision: 0.8901 - acc: 0.8749WARNING:tensorflow:Can save best model only with val_accuracy available, skipping.\n",
      "50/50 [==============================] - 26s 514ms/step - loss: 0.3471 - recall: 0.8545 - precision: 0.8901 - acc: 0.8749 - val_loss: 0.3567 - val_recall: 0.8600 - val_precision: 0.8996 - val_acc: 0.8840\n",
      "Epoch 23/50\n",
      "50/50 [==============================] - ETA: 0s - loss: 0.3288 - recall: 0.8712 - precision: 0.9052 - acc: 0.8916WARNING:tensorflow:Can save best model only with val_accuracy available, skipping.\n",
      "50/50 [==============================] - 26s 522ms/step - loss: 0.3288 - recall: 0.8712 - precision: 0.9052 - acc: 0.8916 - val_loss: 0.3720 - val_recall: 0.8440 - val_precision: 0.8792 - val_acc: 0.8680\n",
      "Epoch 24/50\n",
      "50/50 [==============================] - ETA: 0s - loss: 0.3359 - recall: 0.8540 - precision: 0.8903 - acc: 0.8752WARNING:tensorflow:Can save best model only with val_accuracy available, skipping.\n",
      "50/50 [==============================] - 31s 614ms/step - loss: 0.3359 - recall: 0.8540 - precision: 0.8903 - acc: 0.8752 - val_loss: 0.3480 - val_recall: 0.8720 - val_precision: 0.8971 - val_acc: 0.8840\n"
     ]
    }
   ],
   "source": [
    "EPOCHS = 50\n",
    "LEARNING_RATE = 1e-5\n",
    "DECAY= LEARNING_RATE/EPOCHS\n",
    "model.compile(\n",
    "    loss='categorical_crossentropy',\n",
    "    # optimizer = tf.keras.optimizers.RMSprop(lr=2e-5),\n",
    "     optimizer = tf.keras.optimizers.Nadam(lr=LEARNING_RATE),\n",
    "    metrics=[tf.keras.metrics.Recall(),tf.keras.metrics.Precision(),\n",
    "             'acc']\n",
    ")\n",
    "\n",
    "callbacks = [model_checkpoint_callback,early,mcp_save]\n",
    "history1 = model.fit_generator(\n",
    "    train_generator,\n",
    "    steps_per_epoch = BATCH_SIZE,\n",
    "    epochs=EPOCHS,\n",
    "    callbacks=callbacks,\n",
    "    validation_data = val_generator,\n",
    "    validation_steps=BATCH_SIZE,\n",
    "    verbose=1\n",
    ")"
   ]
  },
  {
   "cell_type": "code",
   "execution_count": 20,
   "metadata": {
    "execution": {
     "iopub.execute_input": "2021-06-06T02:24:01.89914Z",
     "iopub.status.busy": "2021-06-06T02:24:01.897501Z",
     "iopub.status.idle": "2021-06-06T02:24:01.899877Z",
     "shell.execute_reply": "2021-06-06T02:24:01.900429Z",
     "shell.execute_reply.started": "2021-06-06T01:54:03.343894Z"
    },
    "papermill": {
     "duration": 0.454845,
     "end_time": "2021-06-06T02:24:01.90059",
     "exception": false,
     "start_time": "2021-06-06T02:24:01.445745",
     "status": "completed"
    },
    "tags": []
   },
   "outputs": [],
   "source": [
    "callbacks = [model_checkpoint_callback,early,mcp_save]\n"
   ]
  },
  {
   "cell_type": "markdown",
   "metadata": {
    "papermill": {
     "duration": 0.438734,
     "end_time": "2021-06-06T02:24:02.782336",
     "exception": false,
     "start_time": "2021-06-06T02:24:02.343602",
     "status": "completed"
    },
    "tags": []
   },
   "source": [
    "## Fine-tuning\n",
    "\n",
    "<p> Será realizado um fine tuning no modelo, descongelando as camadas do vgg16 e treinando <\\p>\n",
    "    \n",
    "**English**\n",
    "    \n",
    "<p> The model will be fine tuned, unfreezing the vgg16 layers and training <\\p>"
   ]
  },
  {
   "cell_type": "code",
   "execution_count": 21,
   "metadata": {
    "execution": {
     "iopub.execute_input": "2021-06-06T02:24:03.710873Z",
     "iopub.status.busy": "2021-06-06T02:24:03.709667Z",
     "iopub.status.idle": "2021-06-06T02:30:24.100602Z",
     "shell.execute_reply": "2021-06-06T02:30:24.101295Z",
     "shell.execute_reply.started": "2021-06-06T01:46:07.594938Z"
    },
    "papermill": {
     "duration": 380.872195,
     "end_time": "2021-06-06T02:30:24.101512",
     "exception": false,
     "start_time": "2021-06-06T02:24:03.229317",
     "status": "completed"
    },
    "tags": []
   },
   "outputs": [
    {
     "name": "stdout",
     "output_type": "stream",
     "text": [
      "Epoch 1/50\n",
      "50/50 [==============================] - ETA: 0s - loss: 0.3226 - recall: 0.8656 - precision: 0.8983 - acc: 0.8832WARNING:tensorflow:Can save best model only with val_accuracy available, skipping.\n",
      "50/50 [==============================] - 33s 664ms/step - loss: 0.3226 - recall: 0.8656 - precision: 0.8983 - acc: 0.8832 - val_loss: 0.3966 - val_recall: 0.8440 - val_precision: 0.8719 - val_acc: 0.8720\n",
      "Epoch 2/50\n",
      "50/50 [==============================] - ETA: 0s - loss: 0.3063 - recall: 0.8749 - precision: 0.9017 - acc: 0.8909WARNING:tensorflow:Can save best model only with val_accuracy available, skipping.\n",
      "50/50 [==============================] - 29s 578ms/step - loss: 0.3063 - recall: 0.8749 - precision: 0.9017 - acc: 0.8909 - val_loss: 0.3240 - val_recall: 0.8840 - val_precision: 0.9057 - val_acc: 0.8960\n",
      "Epoch 3/50\n",
      "50/50 [==============================] - ETA: 0s - loss: 0.3035 - recall: 0.8744 - precision: 0.9044 - acc: 0.8912WARNING:tensorflow:Can save best model only with val_accuracy available, skipping.\n",
      "50/50 [==============================] - 36s 713ms/step - loss: 0.3035 - recall: 0.8744 - precision: 0.9044 - acc: 0.8912 - val_loss: 0.3391 - val_recall: 0.8520 - val_precision: 0.8875 - val_acc: 0.8680\n",
      "Epoch 4/50\n",
      "50/50 [==============================] - ETA: 0s - loss: 0.3149 - recall: 0.8744 - precision: 0.9014 - acc: 0.8856WARNING:tensorflow:Can save best model only with val_accuracy available, skipping.\n",
      "50/50 [==============================] - 29s 581ms/step - loss: 0.3149 - recall: 0.8744 - precision: 0.9014 - acc: 0.8856 - val_loss: 0.2600 - val_recall: 0.9040 - val_precision: 0.9113 - val_acc: 0.9120\n",
      "Epoch 5/50\n",
      "50/50 [==============================] - ETA: 0s - loss: 0.2871 - recall: 0.8896 - precision: 0.9096 - acc: 0.8984WARNING:tensorflow:Can save best model only with val_accuracy available, skipping.\n",
      "50/50 [==============================] - 26s 525ms/step - loss: 0.2871 - recall: 0.8896 - precision: 0.9096 - acc: 0.8984 - val_loss: 0.3894 - val_recall: 0.8680 - val_precision: 0.8750 - val_acc: 0.8760\n",
      "Epoch 6/50\n",
      "50/50 [==============================] - ETA: 0s - loss: 0.2881 - recall: 0.8808 - precision: 0.9062 - acc: 0.8932WARNING:tensorflow:Can save best model only with val_accuracy available, skipping.\n",
      "50/50 [==============================] - 26s 516ms/step - loss: 0.2881 - recall: 0.8808 - precision: 0.9062 - acc: 0.8932 - val_loss: 0.3242 - val_recall: 0.8840 - val_precision: 0.9057 - val_acc: 0.8960\n",
      "Epoch 7/50\n",
      "50/50 [==============================] - ETA: 0s - loss: 0.3010 - recall: 0.8724 - precision: 0.8979 - acc: 0.8852WARNING:tensorflow:Can save best model only with val_accuracy available, skipping.\n",
      "50/50 [==============================] - 26s 520ms/step - loss: 0.3010 - recall: 0.8724 - precision: 0.8979 - acc: 0.8852 - val_loss: 0.3548 - val_recall: 0.8520 - val_precision: 0.8765 - val_acc: 0.8680\n",
      "Epoch 8/50\n",
      "50/50 [==============================] - ETA: 0s - loss: 0.2961 - recall: 0.8860 - precision: 0.9097 - acc: 0.8976WARNING:tensorflow:Can save best model only with val_accuracy available, skipping.\n",
      "50/50 [==============================] - 26s 515ms/step - loss: 0.2961 - recall: 0.8860 - precision: 0.9097 - acc: 0.8976 - val_loss: 0.3728 - val_recall: 0.8720 - val_precision: 0.8826 - val_acc: 0.8840\n",
      "Epoch 9/50\n",
      "50/50 [==============================] - ETA: 0s - loss: 0.2603 - recall: 0.8921 - precision: 0.9153 - acc: 0.9042WARNING:tensorflow:Can save best model only with val_accuracy available, skipping.\n",
      "50/50 [==============================] - 25s 508ms/step - loss: 0.2603 - recall: 0.8921 - precision: 0.9153 - acc: 0.9042 - val_loss: 0.3108 - val_recall: 0.8680 - val_precision: 0.8857 - val_acc: 0.8760\n",
      "Epoch 10/50\n",
      "50/50 [==============================] - ETA: 0s - loss: 0.2795 - recall: 0.8912 - precision: 0.9120 - acc: 0.9012WARNING:tensorflow:Can save best model only with val_accuracy available, skipping.\n",
      "50/50 [==============================] - 25s 509ms/step - loss: 0.2795 - recall: 0.8912 - precision: 0.9120 - acc: 0.9012 - val_loss: 0.3551 - val_recall: 0.8480 - val_precision: 0.8833 - val_acc: 0.8760\n",
      "Epoch 11/50\n",
      "50/50 [==============================] - ETA: 0s - loss: 0.2800 - recall: 0.8884 - precision: 0.9125 - acc: 0.9040WARNING:tensorflow:Can save best model only with val_accuracy available, skipping.\n",
      "50/50 [==============================] - 25s 510ms/step - loss: 0.2800 - recall: 0.8884 - precision: 0.9125 - acc: 0.9040 - val_loss: 0.3219 - val_recall: 0.8680 - val_precision: 0.8821 - val_acc: 0.8720\n"
     ]
    }
   ],
   "source": [
    "base_convnet.trainable= True\n",
    "EPOCHS = 50\n",
    "\n",
    "history2 = model.fit_generator(\n",
    "    train_generator,\n",
    "    steps_per_epoch = BATCH_SIZE,\n",
    "    epochs=EPOCHS,\n",
    "    callbacks=callbacks,\n",
    "    validation_data = val_generator,\n",
    "    validation_steps=BATCH_SIZE,\n",
    "    verbose=1\n",
    ")"
   ]
  },
  {
   "cell_type": "code",
   "execution_count": 22,
   "metadata": {
    "execution": {
     "iopub.execute_input": "2021-06-06T02:30:26.314659Z",
     "iopub.status.busy": "2021-06-06T02:30:26.313602Z",
     "iopub.status.idle": "2021-06-06T02:30:26.316645Z",
     "shell.execute_reply": "2021-06-06T02:30:26.316041Z",
     "shell.execute_reply.started": "2021-06-06T02:14:39.467935Z"
    },
    "papermill": {
     "duration": 1.264046,
     "end_time": "2021-06-06T02:30:26.316836",
     "exception": false,
     "start_time": "2021-06-06T02:30:25.05279",
     "status": "completed"
    },
    "tags": []
   },
   "outputs": [],
   "source": [
    "vgg19_model = model"
   ]
  },
  {
   "cell_type": "markdown",
   "metadata": {
    "papermill": {
     "duration": 0.973091,
     "end_time": "2021-06-06T02:30:28.231414",
     "exception": false,
     "start_time": "2021-06-06T02:30:27.258323",
     "status": "completed"
    },
    "tags": []
   },
   "source": [
    "# Evaluate Model"
   ]
  },
  {
   "cell_type": "code",
   "execution_count": 23,
   "metadata": {
    "execution": {
     "iopub.execute_input": "2021-06-06T02:30:30.118333Z",
     "iopub.status.busy": "2021-06-06T02:30:30.116839Z",
     "iopub.status.idle": "2021-06-06T02:30:45.748681Z",
     "shell.execute_reply": "2021-06-06T02:30:45.747611Z",
     "shell.execute_reply.started": "2021-06-06T02:14:41.916546Z"
    },
    "id": "BIYE-Mq668I6",
    "outputId": "32a65041-b3a4-473d-cb73-560039782d53",
    "papermill": {
     "duration": 16.584644,
     "end_time": "2021-06-06T02:30:45.748856",
     "exception": false,
     "start_time": "2021-06-06T02:30:29.164212",
     "status": "completed"
    },
    "tags": []
   },
   "outputs": [
    {
     "name": "stdout",
     "output_type": "stream",
     "text": [
      "60/60 [==============================] - 34s 558ms/step - loss: 0.3111 - recall: 0.8777 - precision: 0.8949 - acc: 0.8839\n"
     ]
    },
    {
     "data": {
      "text/plain": [
       "[0.3110973536968231,\n",
       " 0.8777464628219604,\n",
       " 0.8948879837989807,\n",
       " 0.8839436769485474]"
      ]
     },
     "execution_count": 23,
     "metadata": {},
     "output_type": "execute_result"
    }
   ],
   "source": [
    "vgg19_model.evaluate(test_generator)"
   ]
  },
  {
   "cell_type": "code",
   "execution_count": 24,
   "metadata": {
    "execution": {
     "iopub.execute_input": "2021-06-06T02:30:47.88015Z",
     "iopub.status.busy": "2021-06-06T02:30:47.879149Z",
     "iopub.status.idle": "2021-06-06T02:30:54.822748Z",
     "shell.execute_reply": "2021-06-06T02:30:54.821869Z",
     "shell.execute_reply.started": "2021-06-06T02:14:59.523737Z"
    },
    "id": "96OPILeRWvPZ",
    "outputId": "9106bb9d-78c8-4944-e045-5cf50067e302",
    "papermill": {
     "duration": 8.110156,
     "end_time": "2021-06-06T02:30:54.823008",
     "exception": false,
     "start_time": "2021-06-06T02:30:46.712852",
     "status": "completed"
    },
    "tags": []
   },
   "outputs": [
    {
     "name": "stdout",
     "output_type": "stream",
     "text": [
      "              precision    recall  f1-score   support\n",
      "\n",
      "           0       0.95      0.88      0.91       452\n",
      "           1       0.86      0.88      0.87       577\n",
      "           2       0.84      0.88      0.86       577\n",
      "           3       0.95      0.95      0.95       169\n",
      "\n",
      "    accuracy                           0.88      1775\n",
      "   macro avg       0.90      0.89      0.90      1775\n",
      "weighted avg       0.89      0.88      0.88      1775\n",
      "\n",
      "{'COVID': 0, 'Lung_Opacity': 1, 'Normal': 2, 'Viral Pneumonia': 3}\n"
     ]
    }
   ],
   "source": [
    "from sklearn.metrics import classification_report\n",
    "\n",
    "test_pred_raw = vgg19_model.predict(test_generator)\n",
    "test_labels = np.asarray(test_generator.classes)\n",
    "test_pred = np.argmax(test_pred_raw, axis=1)\n",
    "\n",
    "class_names = list(test_generator.class_indices.keys())\n",
    "print(classification_report(test_labels, test_pred))\n",
    "print(test_generator.class_indices)\n"
   ]
  },
  {
   "cell_type": "markdown",
   "metadata": {
    "id": "4Ablr6SnYFbG",
    "papermill": {
     "duration": 0.947887,
     "end_time": "2021-06-06T02:30:56.725036",
     "exception": false,
     "start_time": "2021-06-06T02:30:55.777149",
     "status": "completed"
    },
    "tags": []
   },
   "source": [
    "### confusion matrix code"
   ]
  },
  {
   "cell_type": "code",
   "execution_count": 25,
   "metadata": {
    "execution": {
     "iopub.execute_input": "2021-06-06T02:30:58.936905Z",
     "iopub.status.busy": "2021-06-06T02:30:58.935755Z",
     "iopub.status.idle": "2021-06-06T02:30:58.947281Z",
     "shell.execute_reply": "2021-06-06T02:30:58.948051Z",
     "shell.execute_reply.started": "2021-06-06T02:15:14.138186Z"
    },
    "id": "lEQEgE-vcqNE",
    "papermill": {
     "duration": 1.256992,
     "end_time": "2021-06-06T02:30:58.948276",
     "exception": false,
     "start_time": "2021-06-06T02:30:57.691284",
     "status": "completed"
    },
    "tags": []
   },
   "outputs": [],
   "source": [
    "import matplotlib.pyplot as plt\n",
    "import numpy as np\n",
    "import itertools\n",
    "\n",
    "def plot_confusion_matrix(cm,\n",
    "                          target_names,\n",
    "                          title='Confusion matrix',\n",
    "                          cmap=None,\n",
    "                          normalize=True):\n",
    "    \n",
    "\n",
    "\n",
    "    accuracy = np.trace(cm) / np.sum(cm).astype('float')\n",
    "    misclass = 1 - accuracy\n",
    "\n",
    "    if cmap is None:\n",
    "        cmap = plt.get_cmap('Blues')\n",
    "\n",
    "    plt.figure(figsize=(8, 6))\n",
    "    plt.imshow(cm, interpolation='nearest', cmap=cmap)\n",
    "    plt.title(title)\n",
    "    plt.colorbar()\n",
    "\n",
    "    if target_names is not None:\n",
    "        tick_marks = np.arange(len(target_names))\n",
    "        plt.xticks(tick_marks, target_names, rotation=45)\n",
    "        plt.yticks(tick_marks, target_names)\n",
    "\n",
    "    if normalize:\n",
    "      cm = cm / np.expand_dims(cm.sum(axis=1),axis=1)\n",
    "        # cm = cm.astype('float') / cm.sum(axis=1)[:, np.newaxis]\n",
    "      pass\n",
    "\n",
    "    thresh = cm.max() / 1.5 if normalize else cm.max() / 2\n",
    "    for i, j in itertools.product(range(cm.shape[0]), range(cm.shape[1])):\n",
    "        if normalize:\n",
    "            plt.text(j, i, \"{:0.4f}\".format(cm[i, j]),\n",
    "                     horizontalalignment=\"center\",\n",
    "                     color=\"white\" if cm[i, j] > thresh else \"black\")\n",
    "        else:\n",
    "            plt.text(j, i, \"{:,}\".format(cm[i, j]),\n",
    "                     horizontalalignment=\"center\",\n",
    "                     color=\"white\" if cm[i, j] > thresh else \"black\")\n",
    "\n",
    "\n",
    "    plt.tight_layout()\n",
    "    plt.ylabel('True label')\n",
    "    plt.xlabel('Predicted label\\naccuracy={:0.4f}; misclass={:0.4f}'.format(accuracy, misclass))\n",
    "    plt.show()"
   ]
  },
  {
   "cell_type": "markdown",
   "metadata": {
    "id": "wD_6_aoVYNvZ",
    "papermill": {
     "duration": 0.958333,
     "end_time": "2021-06-06T02:31:00.937387",
     "exception": false,
     "start_time": "2021-06-06T02:30:59.979054",
     "status": "completed"
    },
    "tags": []
   },
   "source": [
    "### Confusion Matrix"
   ]
  },
  {
   "cell_type": "code",
   "execution_count": 26,
   "metadata": {
    "execution": {
     "iopub.execute_input": "2021-06-06T02:31:02.852536Z",
     "iopub.status.busy": "2021-06-06T02:31:02.851538Z",
     "iopub.status.idle": "2021-06-06T02:31:03.178136Z",
     "shell.execute_reply": "2021-06-06T02:31:03.178699Z",
     "shell.execute_reply.started": "2021-06-06T02:15:17.123077Z"
    },
    "id": "UVCSjF00HUny",
    "outputId": "535c2394-0f6e-4e36-fff3-af6ce65fec3e",
    "papermill": {
     "duration": 1.287052,
     "end_time": "2021-06-06T02:31:03.178859",
     "exception": false,
     "start_time": "2021-06-06T02:31:01.891807",
     "status": "completed"
    },
    "tags": []
   },
   "outputs": [
    {
     "data": {
      "image/png": "[encoded data removed]",
      "text/plain": [
       "<Figure size 576x432 with 2 Axes>"
      ]
     },
     "metadata": {
      "needs_background": "light"
     },
     "output_type": "display_data"
    }
   ],
   "source": [
    "cm = sklearn.metrics.confusion_matrix(test_labels, test_pred)\n",
    "plot_confusion_matrix(cm,class_names)"
   ]
  }
 ],
 "metadata": {
  "kernelspec": {
   "display_name": "Python 3",
   "language": "python",
   "name": "python3"
  },
  "language_info": {
   "codemirror_mode": {
    "name": "ipython",
    "version": 3
   },
   "file_extension": ".py",
   "mimetype": "text/x-python",
   "name": "python",
   "nbconvert_exporter": "python",
   "pygments_lexer": "ipython3",
   "version": "3.8.8"
  }
 },
 "nbformat": 4,
 "nbformat_minor": 4
}
