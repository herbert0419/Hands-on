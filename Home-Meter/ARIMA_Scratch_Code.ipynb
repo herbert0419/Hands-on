{
  "nbformat": 4,
  "nbformat_minor": 0,
  "metadata": {
    "colab": {
      "provenance": [],
      "gpuType": "T4"
    },
    "kernelspec": {
      "name": "python3",
      "display_name": "Python 3"
    },
    "language_info": {
      "name": "python"
    },
    "accelerator": "GPU",
    "gpuClass": "standard"
  },
  "cells": [
    {
      "cell_type": "code",
      "source": [
        "from datetime import datetime, timedelta, timezone\n",
        "import matplotlib.pyplot as plt\n",
        "import numpy as np\n",
        "import pandas as pd\n",
        "import seaborn as sns\n",
        "import time"
      ],
      "metadata": {
        "id": "ZZQKoPpgzPMJ"
      },
      "execution_count": 1,
      "outputs": []
    },
    {
      "cell_type": "markdown",
      "source": [
        "* Defines a function called head that takes two arguments - a file path and an optional argument n (default value 5). \n",
        "\n",
        "* The function reads a CSV file from the given path using the csv.reader function.\n",
        "\n",
        "Refer the code below:"
      ],
      "metadata": {
        "id": "-fnRF2plc9fj"
      }
    },
    {
      "cell_type": "code",
      "source": [
        "import csv\n",
        "\n",
        "def head(file_path, n=5):\n",
        "    with open(file_path) as f:\n",
        "        reader = csv.reader(f)\n",
        "        headers = next(reader)\n",
        "        print('\\t'.join(headers))\n",
        "        for i, row in enumerate(reader):\n",
        "            if i >= n:\n",
        "                break\n",
        "            print('\\t'.join(row))"
      ],
      "metadata": {
        "id": "lFH_Ek4F24ye"
      },
      "execution_count": 2,
      "outputs": []
    },
    {
      "cell_type": "code",
      "source": [
        "head('HomeC-meter1_2015.csv', n=10)"
      ],
      "metadata": {
        "colab": {
          "base_uri": "https://localhost:8080/"
        },
        "id": "5oodHRZb35U-",
        "outputId": "aedfc189-4082-4d5c-8d9c-4e8579eaea8c"
      },
      "execution_count": 3,
      "outputs": [
        {
          "output_type": "stream",
          "name": "stdout",
          "text": [
            "Date & Time\tuse [kW]\tgen [kW]\tHouse overall [kW]\tDishwasher [kW]\tFurnace 1 [kW]\tFurnace 2 [kW]\tHome office [kW]\tFridge [kW]\tWine cellar [kW]\tGarage door [kW]\tKitchen 12 [kW]\tKitchen 14 [kW]\tKitchen 38 [kW]\tBarn [kW]\tWell [kW]\tMicrowave [kW]\tLiving room [kW]\tSolar [kW]\n",
            "01-01-2015 00:00\t1.167223333\t0\t1.167223333\t0.000235556\t0.229378889\t0.331326111\t0.01859\t0.067467222\t0.00442\t0.009903889\t0.000437222\t6.00E-05\t7.22E-06\t0\t0\t0\t0\t0\n",
            "01-01-2015 00:30\t1.171444444\t0\t1.171444444\t0.000225\t0.228757778\t0.300047778\t0.018603889\t0.108881111\t0.004456111\t0.010001111\t0.000347222\t8.72E-05\t7.22E-06\t0\t0\t0\t0\t0\n",
            "01-01-2015 01:00\t1.151473889\t0\t1.151473889\t0.000229444\t0.229445556\t0.323098889\t0.01862\t0.005851111\t0.004449444\t0.009916111\t0.000611667\t3.06E-05\t6.67E-06\t0\t0\t0\t0\t0\n",
            "01-01-2015 01:30\t1.398982222\t0\t1.398982222\t0.000208889\t0.277065556\t0.314398889\t0.018593333\t0.005925\t0.004457222\t0.009871667\t0.000693333\t3.89E-06\t7.22E-06\t0\t0\t0\t0\t0\n",
            "01-01-2015 02:00\t1.080775\t0\t1.080775\t0.000238889\t0.228736111\t0.30856\t0.018637778\t0.062216667\t0.004477778\t0.010045556\t0.000496667\t3.17E-05\t5.56E-06\t0\t0\t0\t0\t0\n",
            "01-01-2015 02:30\t1.173611667\t0\t1.173611667\t0.000254444\t0.209623333\t0.358982778\t0.018591667\t0.110752222\t0.004536667\t0.010161667\t0.000368333\t0.000111111\t7.22E-06\t0\t0\t0\t0\t0\n",
            "01-01-2015 03:00\t1.056086667\t0\t1.056086667\t0.000220556\t0.261721111\t0.325927222\t0.018624444\t0.005887778\t0.004487222\t0.010067222\t0.000661667\t1.33E-05\t7.78E-06\t0\t0\t0\t0\t0\n",
            "01-01-2015 03:30\t1.001421667\t0\t1.001421667\t0.000207778\t0.273024444\t0.291184444\t0.018645\t0.005926667\t0.004463333\t0.010021667\t0.000685556\t3.39E-05\t6.67E-06\t0\t0\t0\t0\t0\n",
            "01-01-2015 04:00\t1.109527778\t0\t1.109527778\t0.000258889\t0.203049444\t0.384788333\t0.018597778\t0.055397222\t0.004558889\t0.010197778\t0.00053\t0.000102222\t7.78E-06\t0\t0\t0\t0\t0\n",
            "01-01-2015 04:30\t1.003241667\t0\t1.003241667\t0.000315\t0.061896667\t0.358863889\t0.018564444\t0.109689444\t0.004613333\t0.010371667\t0.000367778\t0.000239444\t7.22E-06\t0\t0\t0\t0\t0\n"
          ]
        }
      ]
    },
    {
      "cell_type": "code",
      "source": [
        "dataset = pd.read_csv('HomeC-meter1_2015.csv')"
      ],
      "metadata": {
        "id": "gD3H-oaz5ydX"
      },
      "execution_count": 4,
      "outputs": []
    },
    {
      "cell_type": "code",
      "source": [
        "# Drop the line with missing values\n",
        "dataset.dropna(inplace=True)"
      ],
      "metadata": {
        "id": "vg79KwK54Ayr"
      },
      "execution_count": 5,
      "outputs": []
    },
    {
      "cell_type": "code",
      "source": [
        "dataset['Date & Time'].head()"
      ],
      "metadata": {
        "colab": {
          "base_uri": "https://localhost:8080/"
        },
        "id": "x48g8EYN4XaY",
        "outputId": "502a9449-a825-4a01-b6e3-1500d03f3abe"
      },
      "execution_count": 6,
      "outputs": [
        {
          "output_type": "execute_result",
          "data": {
            "text/plain": [
              "0    01-01-2015 00:00\n",
              "1    01-01-2015 00:30\n",
              "2    01-01-2015 01:00\n",
              "3    01-01-2015 01:30\n",
              "4    01-01-2015 02:00\n",
              "Name: Date & Time, dtype: object"
            ]
          },
          "metadata": {},
          "execution_count": 6
        }
      ]
    },
    {
      "cell_type": "code",
      "source": [
        "time_index = pd.date_range('2016-01-01 05:00', periods=len(dataset),  freq='min')  \n",
        "time_index = pd.DatetimeIndex(time_index)\n",
        "dataset = dataset.set_index(time_index)\n",
        "dataset = dataset.drop(['Date & Time'], axis=1)\n",
        "dataset.iloc[np.r_[0:5,-5:0]].iloc[:,0]"
      ],
      "metadata": {
        "colab": {
          "base_uri": "https://localhost:8080/"
        },
        "id": "G0uWVKeEcLjg",
        "outputId": "2f2b2a11-681f-4263-baf9-a5485208e816"
      },
      "execution_count": 7,
      "outputs": [
        {
          "output_type": "execute_result",
          "data": {
            "text/plain": [
              "2016-01-01 05:00:00    1.167223\n",
              "2016-01-01 05:01:00    1.171444\n",
              "2016-01-01 05:02:00    1.151474\n",
              "2016-01-01 05:03:00    1.398982\n",
              "2016-01-01 05:04:00    1.080775\n",
              "2016-02-01 11:11:00    1.136050\n",
              "2016-02-01 11:12:00    0.949633\n",
              "2016-02-01 11:13:00    0.944700\n",
              "2016-02-01 11:14:00    0.945417\n",
              "2016-02-01 11:15:00    0.936550\n",
              "Name: use [kW], dtype: float64"
            ]
          },
          "metadata": {},
          "execution_count": 7
        }
      ]
    },
    {
      "cell_type": "code",
      "source": [
        "# dataset = dataset.drop(columns=['Date & Time'])\n",
        "# dataset.shape"
      ],
      "metadata": {
        "id": "AUDK7wF07M47"
      },
      "execution_count": 8,
      "outputs": []
    },
    {
      "cell_type": "code",
      "source": [
        "dataset.isna().sum()"
      ],
      "metadata": {
        "colab": {
          "base_uri": "https://localhost:8080/"
        },
        "id": "Eomzmjgb7fG8",
        "outputId": "0cc2822c-4953-4b8a-c6c8-6c2dab812c35"
      },
      "execution_count": 9,
      "outputs": [
        {
          "output_type": "execute_result",
          "data": {
            "text/plain": [
              "use [kW]              0\n",
              "gen [kW]              0\n",
              "House overall [kW]    0\n",
              "Dishwasher [kW]       0\n",
              "Furnace 1 [kW]        0\n",
              "Furnace 2 [kW]        0\n",
              "Home office [kW]      0\n",
              "Fridge [kW]           0\n",
              "Wine cellar [kW]      0\n",
              "Garage door [kW]      0\n",
              "Kitchen 12 [kW]       0\n",
              "Kitchen 14 [kW]       0\n",
              "Kitchen 38 [kW]       0\n",
              "Barn [kW]             0\n",
              "Well [kW]             0\n",
              "Microwave [kW]        0\n",
              "Living room [kW]      0\n",
              "Solar [kW]            0\n",
              "dtype: int64"
            ]
          },
          "metadata": {},
          "execution_count": 9
        }
      ]
    },
    {
      "cell_type": "code",
      "source": [
        "dataset.columns = [col.replace(' [kW]', '') for col in dataset.columns]\n",
        "dataset.columns"
      ],
      "metadata": {
        "colab": {
          "base_uri": "https://localhost:8080/"
        },
        "id": "rvIAhJST7mJ0",
        "outputId": "8bd36c67-f267-48d7-d3c5-ce25107efa96"
      },
      "execution_count": 10,
      "outputs": [
        {
          "output_type": "execute_result",
          "data": {
            "text/plain": [
              "Index(['use', 'gen', 'House overall', 'Dishwasher', 'Furnace 1', 'Furnace 2',\n",
              "       'Home office', 'Fridge', 'Wine cellar', 'Garage door', 'Kitchen 12',\n",
              "       'Kitchen 14', 'Kitchen 38', 'Barn', 'Well', 'Microwave', 'Living room',\n",
              "       'Solar'],\n",
              "      dtype='object')"
            ]
          },
          "metadata": {},
          "execution_count": 10
        }
      ]
    },
    {
      "cell_type": "code",
      "source": [
        "data_daily = dataset['House overall'].resample('d').mean()"
      ],
      "metadata": {
        "id": "NXHuUFeJa2dK"
      },
      "execution_count": 11,
      "outputs": []
    },
    {
      "cell_type": "code",
      "source": [
        "import numpy as np\n",
        "\n",
        "class ARIMA:\n",
        "    def __init__(self, p, d, q):\n",
        "        self.p = p\n",
        "        self.d = d\n",
        "        self.q = q\n",
        "    \n",
        "    def fit(self, data):\n",
        "      self.data = np.array(data).reshape(-1, 1)\n",
        "      self.n = len(self.data)\n",
        "      self.mu = np.mean(self.data)\n",
        "      self.phi = np.zeros((self.p,))\n",
        "      self.theta = np.zeros((self.q,))\n",
        "    \n",
        "    # Initialize residuals\n",
        "      self.residuals = np.zeros((self.n,))\n",
        "      self.residuals[:self.p] = self.data[:self.p] - self.mu\n",
        "    \n",
        "    # Fit AR(p) model\n",
        "      if self.p > 0:\n",
        "          for i in range(self.p, self.n):\n",
        "              y = self.data[i-self.p:i]\n",
        "              self.phi = np.linalg.inv(y.T @ y) @ y.T @ self.residuals[i-1]\n",
        "              self.residuals[i] = self.data[i] - self.mu - self.phi @ self.residuals[i-self.p:i][::-1]\n",
        "            \n",
        "    # Fit MA(q) model\n",
        "      if self.q > 0:\n",
        "          for i in range(self.q, self.n):\n",
        "              y = self.residuals[i-self.q:i]\n",
        "              self.theta = np.linalg.inv(y.T @ y) @ y.T @ self.residuals[i]\n",
        "              self.residuals[i] -= self.theta @ self.residuals[i-self.q:i][::-1]\n",
        "\n",
        "                \n",
        "    def predict(self, n):\n",
        "        forecast = np.zeros((n,))\n",
        "        for i in range(n):\n",
        "            if self.p > 0 and i >= self.p:\n",
        "                ar = self.residuals[i-self.p:i][::-1] @ self.phi\n",
        "            else:\n",
        "                ar = 0\n",
        "                \n",
        "            if self.q > 0 and i >= self.q:\n",
        "                ma = self.residuals[i-self.q:i][::-1] @ self.theta\n",
        "            else:\n",
        "                ma = 0\n",
        "                \n",
        "            forecast[i] = self.mu + ar + ma\n",
        "        \n",
        "        return forecast\n"
      ],
      "metadata": {
        "id": "6Xh5zA3N7usR"
      },
      "execution_count": 12,
      "outputs": []
    },
    {
      "cell_type": "markdown",
      "source": [
        "The ARIMA class is defined, which takes three parameters: p (the order of the AR component), d (the degree of differencing), and q (the order of the MA component).\n",
        "\n",
        "* The fit method is defined, which takes in a one-dimensional array of time-series data and pre-processes it for use in the ARIMA model. Specifically, it reshapes the data to a column vector, sets the length of the data, calculates the mean of the data, and initializes the model parameters (phi and theta) and residuals.\n",
        "\n",
        "* The AR(p) and MA(q) models are fit using two for-loops. For the AR(p) model, the loop iterates over the length of the data and computes the phi parameter using least squares regression. For the MA(q) model, the loop iterates over the length of the data and computes the theta parameter using least squares regression.\n",
        "\n",
        "* The predict method is defined, which takes in the number of time-steps to forecast and returns an array of forecasted values. The method uses the AR(p) and MA(q) parameters to compute the forecasted values, given the current residuals and mean.\n",
        "\n",
        "On a broader level, the code implements a basic ARIMA model, which is a popular time-series forecasting method. <br>\n",
        "\n",
        "The model uses autoregressive (AR) and moving average (MA) components to capture trends and patterns in the data, and can be tuned using the order of these components (p and q) as well as the degree of differencing (d)."
      ],
      "metadata": {
        "id": "NjLsISMobc_r"
      }
    },
    {
      "cell_type": "code",
      "source": [
        "size = int(len(data_daily)*0.7)\n",
        "train = data_daily[:size]\n",
        "test = data_daily[size:]\n",
        "print('Number of points in series:', len(data_daily))\n",
        "print('Number of points in train:', len(train))\n",
        "print('Number of points in test:', len(test))"
      ],
      "metadata": {
        "colab": {
          "base_uri": "https://localhost:8080/"
        },
        "id": "U0MpyaTG8Lls",
        "outputId": "95d5c6eb-314f-4033-c603-237d3ee06c3a"
      },
      "execution_count": 13,
      "outputs": [
        {
          "output_type": "stream",
          "name": "stdout",
          "text": [
            "Number of points in series: 32\n",
            "Number of points in train: 22\n",
            "Number of points in test: 10\n"
          ]
        }
      ]
    },
    {
      "cell_type": "markdown",
      "source": [
        "* len(data_daily) returns the length of the time series data stored in the data_daily variable.\n",
        "* size = **int(len(data_daily)*0.7)** calculates 70% of the length of the time series data and stores it in the size variable.\n",
        "* train = **data_daily[:size]** extracts the first 70% of the time series data and stores it in the train variable.\n",
        "* test = data_daily[size:] extracts the remaining 30% of the time series data and stores it in the test variable.\n",
        "\n",
        "print('Number of points in series:', len(data_daily)) prints the length of the entire time series.\n",
        "print('Number of points in train:', len(train)) prints the length of the training set.\n",
        "print('Number of points in test:', len(test)) prints the length of the test set.\n",
        "\n",
        "On a broader level, this code is splitting the time series data into a training set and a test set, with the training set consisting of the first 70% of the data and the test set consisting of the remaining 30%. The code also prints out the number of data points in each set."
      ],
      "metadata": {
        "id": "uV9xYueQcCGy"
      }
    },
    {
      "cell_type": "code",
      "source": [
        "arima = ARIMA(p=1, d=0, q=1)"
      ],
      "metadata": {
        "id": "-okZIiHo8S0z"
      },
      "execution_count": 14,
      "outputs": []
    },
    {
      "cell_type": "code",
      "source": [
        "# arima.fit(data_daily)"
      ],
      "metadata": {
        "id": "XEIS-MZQFliJ"
      },
      "execution_count": 16,
      "outputs": []
    },
    {
      "cell_type": "code",
      "source": [
        "forecasts = arima.predict(n=3)\n",
        "print(forecasts)"
      ],
      "metadata": {
        "colab": {
          "base_uri": "https://localhost:8080/"
        },
        "id": "faoz35uYd197",
        "outputId": "5c143f6d-5f88-4a03-9a14-6f77abe92384"
      },
      "execution_count": 17,
      "outputs": [
        {
          "output_type": "stream",
          "name": "stdout",
          "text": [
            "[0.93039385 0.93039385 0.93039385]\n"
          ]
        }
      ]
    },
    {
      "cell_type": "markdown",
      "source": [
        "* The predict method of the arima object which was previously defined as an instance of the ARIMA class.\n",
        "* The predict method takes one argument n which specifies the number of future time steps to predict.\n",
        "\n",
        "* In this case, n=3, so the method will predict the values for the next 3 time steps.\n",
        "The predicted values are then stored in the forecasts variable.\n",
        "\n",
        "Finally, the predicted values are printed using the print() function."
      ],
      "metadata": {
        "id": "rfYQFjd7cnaN"
      }
    },
    {
      "cell_type": "code",
      "source": [],
      "metadata": {
        "id": "6U5PUpNjdoFy"
      },
      "execution_count": null,
      "outputs": []
    }
  ]
}