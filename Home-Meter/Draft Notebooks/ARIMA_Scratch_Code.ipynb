{
 "cells": [
  {
   "cell_type": "code",
   "execution_count": 1,
   "metadata": {
    "id": "ZZQKoPpgzPMJ"
   },
   "outputs": [],
   "source": [
    "from datetime import datetime, timedelta, timezone\n",
    "import matplotlib.pyplot as plt\n",
    "import numpy as np\n",
    "import pandas as pd\n",
    "import seaborn as sns\n",
    "import time"
   ]
  },
  {
   "cell_type": "code",
   "execution_count": 2,
   "metadata": {
    "id": "lFH_Ek4F24ye"
   },
   "outputs": [],
   "source": [
    "import csv\n",
    "\n",
    "def head(file_path, n=5):\n",
    "    with open(file_path) as f:\n",
    "        reader = csv.reader(f)\n",
    "        headers = next(reader)\n",
    "        print('\\t'.join(headers))\n",
    "        for i, row in enumerate(reader):\n",
    "            if i >= n:\n",
    "                break\n",
    "            print('\\t'.join(row))"
   ]
  },
  {
   "cell_type": "code",
   "execution_count": 3,
   "metadata": {
    "colab": {
     "base_uri": "https://localhost:8080/"
    },
    "id": "5oodHRZb35U-",
    "outputId": "71e56b49-828c-4bd6-b65c-9c368a38d4f4"
   },
   "outputs": [
    {
     "name": "stdout",
     "output_type": "stream",
     "text": [
      "Date & Time\tuse [kW]\tgen [kW]\tHouse overall [kW]\tDishwasher [kW]\tFurnace 1 [kW]\tFurnace 2 [kW]\tHome office [kW]\tFridge [kW]\tWine cellar [kW]\tGarage door [kW]\tKitchen 12 [kW]\tKitchen 14 [kW]\tKitchen 38 [kW]\tBarn [kW]\tWell [kW]\tMicrowave [kW]\tLiving room [kW]\tSolar [kW]\n",
      "01-01-2015 00:00\t1.167223333\t0\t1.167223333\t0.000235556\t0.229378889\t0.331326111\t0.01859\t0.067467222\t0.00442\t0.009903889\t0.000437222\t6.00E-05\t7.22E-06\t0\t0\t0\t0\t0\n",
      "01-01-2015 00:30\t1.171444444\t0\t1.171444444\t0.000225\t0.228757778\t0.300047778\t0.018603889\t0.108881111\t0.004456111\t0.010001111\t0.000347222\t8.72E-05\t7.22E-06\t0\t0\t0\t0\t0\n",
      "01-01-2015 01:00\t1.151473889\t0\t1.151473889\t0.000229444\t0.229445556\t0.323098889\t0.01862\t0.005851111\t0.004449444\t0.009916111\t0.000611667\t3.06E-05\t6.67E-06\t0\t0\t0\t0\t0\n",
      "01-01-2015 01:30\t1.398982222\t0\t1.398982222\t0.000208889\t0.277065556\t0.314398889\t0.018593333\t0.005925\t0.004457222\t0.009871667\t0.000693333\t3.89E-06\t7.22E-06\t0\t0\t0\t0\t0\n",
      "01-01-2015 02:00\t1.080775\t0\t1.080775\t0.000238889\t0.228736111\t0.30856\t0.018637778\t0.062216667\t0.004477778\t0.010045556\t0.000496667\t3.17E-05\t5.56E-06\t0\t0\t0\t0\t0\n",
      "01-01-2015 02:30\t1.173611667\t0\t1.173611667\t0.000254444\t0.209623333\t0.358982778\t0.018591667\t0.110752222\t0.004536667\t0.010161667\t0.000368333\t0.000111111\t7.22E-06\t0\t0\t0\t0\t0\n",
      "01-01-2015 03:00\t1.056086667\t0\t1.056086667\t0.000220556\t0.261721111\t0.325927222\t0.018624444\t0.005887778\t0.004487222\t0.010067222\t0.000661667\t1.33E-05\t7.78E-06\t0\t0\t0\t0\t0\n",
      "01-01-2015 03:30\t1.001421667\t0\t1.001421667\t0.000207778\t0.273024444\t0.291184444\t0.018645\t0.005926667\t0.004463333\t0.010021667\t0.000685556\t3.39E-05\t6.67E-06\t0\t0\t0\t0\t0\n",
      "01-01-2015 04:00\t1.109527778\t0\t1.109527778\t0.000258889\t0.203049444\t0.384788333\t0.018597778\t0.055397222\t0.004558889\t0.010197778\t0.00053\t0.000102222\t7.78E-06\t0\t0\t0\t0\t0\n",
      "01-01-2015 04:30\t1.003241667\t0\t1.003241667\t0.000315\t0.061896667\t0.358863889\t0.018564444\t0.109689444\t0.004613333\t0.010371667\t0.000367778\t0.000239444\t7.22E-06\t0\t0\t0\t0\t0\n"
     ]
    }
   ],
   "source": [
    "head('HomeC-meter1_2015.csv', n=10)"
   ]
  },
  {
   "cell_type": "code",
   "execution_count": 4,
   "metadata": {
    "id": "gD3H-oaz5ydX"
   },
   "outputs": [],
   "source": [
    "dataset = pd.read_csv('HomeC-meter1_2015.csv')"
   ]
  },
  {
   "cell_type": "code",
   "execution_count": 5,
   "metadata": {
    "id": "vg79KwK54Ayr"
   },
   "outputs": [],
   "source": [
    "# Drop the line with missing values\n",
    "dataset.dropna(inplace=True)"
   ]
  },
  {
   "cell_type": "code",
   "execution_count": 6,
   "metadata": {
    "colab": {
     "base_uri": "https://localhost:8080/"
    },
    "id": "x48g8EYN4XaY",
    "outputId": "20d27006-f733-485e-db8a-295adba7e471"
   },
   "outputs": [
    {
     "data": {
      "text/plain": [
       "0    01-01-2015 00:00\n",
       "1    01-01-2015 00:30\n",
       "2    01-01-2015 01:00\n",
       "3    01-01-2015 01:30\n",
       "4    01-01-2015 02:00\n",
       "Name: Date & Time, dtype: object"
      ]
     },
     "execution_count": 6,
     "metadata": {},
     "output_type": "execute_result"
    }
   ],
   "source": [
    "dataset['Date & Time'].head()"
   ]
  },
  {
   "cell_type": "code",
   "execution_count": 7,
   "metadata": {
    "colab": {
     "base_uri": "https://localhost:8080/"
    },
    "id": "G0uWVKeEcLjg",
    "outputId": "4d948cf6-e9d1-4a41-88c4-aea4111f5af1"
   },
   "outputs": [
    {
     "data": {
      "text/plain": [
       "2016-01-01 05:00:00    1.167223\n",
       "2016-01-01 05:01:00    1.171444\n",
       "2016-01-01 05:02:00    1.151474\n",
       "2016-01-01 05:03:00    1.398982\n",
       "2016-01-01 05:04:00    1.080775\n",
       "2016-02-01 11:11:00    1.136050\n",
       "2016-02-01 11:12:00    0.949633\n",
       "2016-02-01 11:13:00    0.944700\n",
       "2016-02-01 11:14:00    0.945417\n",
       "2016-02-01 11:15:00    0.936550\n",
       "Name: use [kW], dtype: float64"
      ]
     },
     "execution_count": 7,
     "metadata": {},
     "output_type": "execute_result"
    }
   ],
   "source": [
    "time_index = pd.date_range('2016-01-01 05:00', periods=len(dataset),  freq='min')  \n",
    "time_index = pd.DatetimeIndex(time_index)\n",
    "dataset = dataset.set_index(time_index)\n",
    "dataset = dataset.drop(['Date & Time'], axis=1)\n",
    "dataset.iloc[np.r_[0:5,-5:0]].iloc[:,0]"
   ]
  },
  {
   "cell_type": "code",
   "execution_count": 8,
   "metadata": {
    "id": "AUDK7wF07M47"
   },
   "outputs": [],
   "source": [
    "# dataset = dataset.drop(columns=['Date & Time'])\n",
    "# dataset.shape"
   ]
  },
  {
   "cell_type": "code",
   "execution_count": 9,
   "metadata": {
    "colab": {
     "base_uri": "https://localhost:8080/"
    },
    "id": "Eomzmjgb7fG8",
    "outputId": "511e2232-ded1-46bc-df0e-29697fbfb46e"
   },
   "outputs": [
    {
     "data": {
      "text/plain": [
       "use [kW]              0\n",
       "gen [kW]              0\n",
       "House overall [kW]    0\n",
       "Dishwasher [kW]       0\n",
       "Furnace 1 [kW]        0\n",
       "Furnace 2 [kW]        0\n",
       "Home office [kW]      0\n",
       "Fridge [kW]           0\n",
       "Wine cellar [kW]      0\n",
       "Garage door [kW]      0\n",
       "Kitchen 12 [kW]       0\n",
       "Kitchen 14 [kW]       0\n",
       "Kitchen 38 [kW]       0\n",
       "Barn [kW]             0\n",
       "Well [kW]             0\n",
       "Microwave [kW]        0\n",
       "Living room [kW]      0\n",
       "Solar [kW]            0\n",
       "dtype: int64"
      ]
     },
     "execution_count": 9,
     "metadata": {},
     "output_type": "execute_result"
    }
   ],
   "source": [
    "dataset.isna().sum()"
   ]
  },
  {
   "cell_type": "code",
   "execution_count": 10,
   "metadata": {
    "colab": {
     "base_uri": "https://localhost:8080/"
    },
    "id": "rvIAhJST7mJ0",
    "outputId": "dd94aaf9-0c75-422c-801e-ad8f603d2cf2"
   },
   "outputs": [
    {
     "data": {
      "text/plain": [
       "Index(['use', 'gen', 'House overall', 'Dishwasher', 'Furnace 1', 'Furnace 2',\n",
       "       'Home office', 'Fridge', 'Wine cellar', 'Garage door', 'Kitchen 12',\n",
       "       'Kitchen 14', 'Kitchen 38', 'Barn', 'Well', 'Microwave', 'Living room',\n",
       "       'Solar'],\n",
       "      dtype='object')"
      ]
     },
     "execution_count": 10,
     "metadata": {},
     "output_type": "execute_result"
    }
   ],
   "source": [
    "dataset.columns = [col.replace(' [kW]', '') for col in dataset.columns]\n",
    "dataset.columns"
   ]
  },
  {
   "cell_type": "code",
   "execution_count": 11,
   "metadata": {
    "id": "NXHuUFeJa2dK"
   },
   "outputs": [],
   "source": [
    "data_daily = dataset['House overall'].resample('d').mean()"
   ]
  },
  {
   "cell_type": "code",
   "execution_count": 12,
   "metadata": {
    "id": "6Xh5zA3N7usR"
   },
   "outputs": [],
   "source": [
    "import numpy as np\n",
    "\n",
    "class ARIMA:\n",
    "    def __init__(self, p, d, q):\n",
    "        self.p = p\n",
    "        self.d = d\n",
    "        self.q = q\n",
    "    \n",
    "    def fit(self, data):\n",
    "      self.data = np.array(data).reshape(-1, 1)\n",
    "      self.n = len(self.data)\n",
    "      self.mu = np.mean(self.data)\n",
    "      self.phi = np.zeros((self.p,))\n",
    "      self.theta = np.zeros((self.q,))\n",
    "    \n",
    "    # Initialize residuals\n",
    "      self.residuals = np.zeros((self.n,))\n",
    "      self.residuals[:self.p] = self.data[:self.p] - self.mu\n",
    "    \n",
    "    # Fit AR(p) model\n",
    "      if self.p > 0:\n",
    "          for i in range(self.p, self.n):\n",
    "              y = self.data[i-self.p:i]\n",
    "              self.phi = np.linalg.inv(y.T @ y) @ y.T @ self.residuals[i-1]\n",
    "              self.residuals[i] = self.data[i] - self.mu - self.phi @ self.residuals[i-self.p:i][::-1]\n",
    "            \n",
    "    # Fit MA(q) model\n",
    "      if self.q > 0:\n",
    "          for i in range(self.q, self.n):\n",
    "              y = self.residuals[i-self.q:i]\n",
    "              self.theta = np.linalg.inv(y.T @ y) @ y.T @ self.residuals[i]\n",
    "              self.residuals[i] -= self.theta @ self.residuals[i-self.q:i][::-1]\n",
    "\n",
    "                \n",
    "    def predict(self, n):\n",
    "        forecast = np.zeros((n,))\n",
    "        for i in range(n):\n",
    "            if self.p > 0 and i >= self.p:\n",
    "                ar = self.residuals[i-self.p:i][::-1] @ self.phi\n",
    "            else:\n",
    "                ar = 0\n",
    "                \n",
    "            if self.q > 0 and i >= self.q:\n",
    "                ma = self.residuals[i-self.q:i][::-1] @ self.theta\n",
    "            else:\n",
    "                ma = 0\n",
    "                \n",
    "            forecast[i] = self.mu + ar + ma\n",
    "        \n",
    "        return forecast"
   ]
  },
  {
   "cell_type": "code",
   "execution_count": 13,
   "metadata": {
    "colab": {
     "base_uri": "https://localhost:8080/"
    },
    "id": "U0MpyaTG8Lls",
    "outputId": "818c4d60-2997-430a-81ed-c3a5a919289c"
   },
   "outputs": [
    {
     "name": "stdout",
     "output_type": "stream",
     "text": [
      "Number of points in series: 32\n",
      "Number of points in train: 22\n",
      "Number of points in test: 10\n"
     ]
    }
   ],
   "source": [
    "size = int(len(data_daily)*0.7)\n",
    "train = data_daily[:size]\n",
    "test = data_daily[size:]\n",
    "print('Number of points in series:', len(data_daily))\n",
    "print('Number of points in train:', len(train))\n",
    "print('Number of points in test:', len(test))"
   ]
  },
  {
   "cell_type": "code",
   "execution_count": 18,
   "metadata": {},
   "outputs": [],
   "source": [
    "arima = ARIMA(p=1, d=0, q=1)\n"
   ]
  },
  {
   "cell_type": "code",
   "execution_count": 20,
   "metadata": {
    "colab": {
     "base_uri": "https://localhost:8080/"
    },
    "id": "faoz35uYd197",
    "outputId": "48ebb83a-823f-4495-c5f1-fc08426163d8"
   },
   "outputs": [
    {
     "ename": "AttributeError",
     "evalue": "'ARIMA' object has no attribute 'mu'",
     "output_type": "error",
     "traceback": [
      "\u001b[1;31m---------------------------------------------------------------------------\u001b[0m",
      "\u001b[1;31mAttributeError\u001b[0m                            Traceback (most recent call last)",
      "Cell \u001b[1;32mIn[20], line 1\u001b[0m\n\u001b[1;32m----> 1\u001b[0m forecasts \u001b[38;5;241m=\u001b[39m \u001b[43marima\u001b[49m\u001b[38;5;241;43m.\u001b[39;49m\u001b[43mpredict\u001b[49m\u001b[43m(\u001b[49m\u001b[43mn\u001b[49m\u001b[38;5;241;43m=\u001b[39;49m\u001b[38;5;241;43m3\u001b[39;49m\u001b[43m)\u001b[49m\n\u001b[0;32m      2\u001b[0m \u001b[38;5;28mprint\u001b[39m(forecasts)\n",
      "Cell \u001b[1;32mIn[12], line 48\u001b[0m, in \u001b[0;36mARIMA.predict\u001b[1;34m(self, n)\u001b[0m\n\u001b[0;32m     45\u001b[0m     \u001b[38;5;28;01melse\u001b[39;00m:\n\u001b[0;32m     46\u001b[0m         ma \u001b[38;5;241m=\u001b[39m \u001b[38;5;241m0\u001b[39m\n\u001b[1;32m---> 48\u001b[0m     forecast[i] \u001b[38;5;241m=\u001b[39m \u001b[38;5;28;43mself\u001b[39;49m\u001b[38;5;241;43m.\u001b[39;49m\u001b[43mmu\u001b[49m \u001b[38;5;241m+\u001b[39m ar \u001b[38;5;241m+\u001b[39m ma\n\u001b[0;32m     50\u001b[0m \u001b[38;5;28;01mreturn\u001b[39;00m forecast\n",
      "\u001b[1;31mAttributeError\u001b[0m: 'ARIMA' object has no attribute 'mu'"
     ]
    }
   ],
   "source": [
    "forecasts = arima.predict(n=3)\n",
    "print(forecasts)"
   ]
  },
  {
   "cell_type": "code",
   "execution_count": null,
   "metadata": {},
   "outputs": [],
   "source": []
  }
 ],
 "metadata": {
  "accelerator": "GPU",
  "colab": {
   "gpuType": "T4",
   "provenance": []
  },
  "gpuClass": "standard",
  "kernelspec": {
   "display_name": "Python 3 (ipykernel)",
   "language": "python",
   "name": "python3"
  },
  "language_info": {
   "codemirror_mode": {
    "name": "ipython",
    "version": 3
   },
   "file_extension": ".py",
   "mimetype": "text/x-python",
   "name": "python",
   "nbconvert_exporter": "python",
   "pygments_lexer": "ipython3",
   "version": "3.10.9"
  }
 },
 "nbformat": 4,
 "nbformat_minor": 1
}
