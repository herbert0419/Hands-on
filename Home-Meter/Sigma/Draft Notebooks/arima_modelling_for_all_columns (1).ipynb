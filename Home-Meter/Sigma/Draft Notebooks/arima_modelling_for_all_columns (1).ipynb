{
  "cells": [
    {
      "cell_type": "code",
      "execution_count": 11,
      "metadata": {
        "id": "40f52144"
      },
      "outputs": [],
      "source": [
        "import numpy as np\n",
        "import pandas as pd\n",
        "import matplotlib.pyplot as plt\n",
        "import seaborn as sns\n",
        "from datetime import datetime, timedelta, timezone\n"
      ],
      "id": "40f52144"
    },
    {
      "cell_type": "code",
      "execution_count": 12,
      "metadata": {
        "id": "f19ab5d3"
      },
      "outputs": [],
      "source": [
        "dataset = pd.read_csv('HomeC-meter1_2015.csv')"
      ],
      "id": "f19ab5d3"
    },
    {
      "cell_type": "code",
      "source": [],
      "metadata": {
        "id": "XA23bRnsQMdR"
      },
      "id": "XA23bRnsQMdR",
      "execution_count": 12,
      "outputs": []
    },
    {
      "cell_type": "code",
      "execution_count": 13,
      "metadata": {
        "colab": {
          "base_uri": "https://localhost:8080/",
          "height": 478
        },
        "id": "2853e354",
        "outputId": "06340634-6a15-4fcc-cc35-fbb13390aeba"
      },
      "outputs": [
        {
          "output_type": "execute_result",
          "data": {
            "text/plain": [
              "           Date & Time  use [kW]  gen [kW]  House overall [kW]  \\\n",
              "0  2015-01-01 00:00:00  1.167223       0.0            1.167223   \n",
              "1  2015-01-01 00:30:00  1.171444       0.0            1.171444   \n",
              "2  2015-01-01 01:00:00  1.151474       0.0            1.151474   \n",
              "3  2015-01-01 01:30:00  1.398982       0.0            1.398982   \n",
              "4  2015-01-01 02:00:00  1.080775       0.0            1.080775   \n",
              "\n",
              "   Dishwasher [kW]  Furnace 1 [kW]  Furnace 2 [kW]  Home office [kW]  \\\n",
              "0         0.000236        0.229379        0.331326          0.018590   \n",
              "1         0.000225        0.228758        0.300048          0.018604   \n",
              "2         0.000229        0.229446        0.323099          0.018620   \n",
              "3         0.000209        0.277066        0.314399          0.018593   \n",
              "4         0.000239        0.228736        0.308560          0.018638   \n",
              "\n",
              "   Fridge [kW]  Wine cellar [kW]  Garage door [kW]  Kitchen 12 [kW]  \\\n",
              "0     0.067467          0.004420          0.009904         0.000437   \n",
              "1     0.108881          0.004456          0.010001         0.000347   \n",
              "2     0.005851          0.004449          0.009916         0.000612   \n",
              "3     0.005925          0.004457          0.009872         0.000693   \n",
              "4     0.062217          0.004478          0.010046         0.000497   \n",
              "\n",
              "   Kitchen 14 [kW]  Kitchen 38 [kW]  Barn [kW]  Well [kW]  Microwave [kW]  \\\n",
              "0         0.000060         0.000007        0.0        0.0             0.0   \n",
              "1         0.000087         0.000007        0.0        0.0             0.0   \n",
              "2         0.000031         0.000007        0.0        0.0             0.0   \n",
              "3         0.000004         0.000007        0.0        0.0             0.0   \n",
              "4         0.000032         0.000006        0.0        0.0             0.0   \n",
              "\n",
              "   Living room [kW]  Solar [kW]  \n",
              "0               0.0         0.0  \n",
              "1               0.0         0.0  \n",
              "2               0.0         0.0  \n",
              "3               0.0         0.0  \n",
              "4               0.0         0.0  "
            ],
            "text/html": [
              "\n",
              "  <div id=\"df-b5db90fa-7a52-4731-80e7-c27b9fede608\">\n",
              "    <div class=\"colab-df-container\">\n",
              "      <div>\n",
              "<style scoped>\n",
              "    .dataframe tbody tr th:only-of-type {\n",
              "        vertical-align: middle;\n",
              "    }\n",
              "\n",
              "    .dataframe tbody tr th {\n",
              "        vertical-align: top;\n",
              "    }\n",
              "\n",
              "    .dataframe thead th {\n",
              "        text-align: right;\n",
              "    }\n",
              "</style>\n",
              "<table border=\"1\" class=\"dataframe\">\n",
              "  <thead>\n",
              "    <tr style=\"text-align: right;\">\n",
              "      <th></th>\n",
              "      <th>Date &amp; Time</th>\n",
              "      <th>use [kW]</th>\n",
              "      <th>gen [kW]</th>\n",
              "      <th>House overall [kW]</th>\n",
              "      <th>Dishwasher [kW]</th>\n",
              "      <th>Furnace 1 [kW]</th>\n",
              "      <th>Furnace 2 [kW]</th>\n",
              "      <th>Home office [kW]</th>\n",
              "      <th>Fridge [kW]</th>\n",
              "      <th>Wine cellar [kW]</th>\n",
              "      <th>Garage door [kW]</th>\n",
              "      <th>Kitchen 12 [kW]</th>\n",
              "      <th>Kitchen 14 [kW]</th>\n",
              "      <th>Kitchen 38 [kW]</th>\n",
              "      <th>Barn [kW]</th>\n",
              "      <th>Well [kW]</th>\n",
              "      <th>Microwave [kW]</th>\n",
              "      <th>Living room [kW]</th>\n",
              "      <th>Solar [kW]</th>\n",
              "    </tr>\n",
              "  </thead>\n",
              "  <tbody>\n",
              "    <tr>\n",
              "      <th>0</th>\n",
              "      <td>2015-01-01 00:00:00</td>\n",
              "      <td>1.167223</td>\n",
              "      <td>0.0</td>\n",
              "      <td>1.167223</td>\n",
              "      <td>0.000236</td>\n",
              "      <td>0.229379</td>\n",
              "      <td>0.331326</td>\n",
              "      <td>0.018590</td>\n",
              "      <td>0.067467</td>\n",
              "      <td>0.004420</td>\n",
              "      <td>0.009904</td>\n",
              "      <td>0.000437</td>\n",
              "      <td>0.000060</td>\n",
              "      <td>0.000007</td>\n",
              "      <td>0.0</td>\n",
              "      <td>0.0</td>\n",
              "      <td>0.0</td>\n",
              "      <td>0.0</td>\n",
              "      <td>0.0</td>\n",
              "    </tr>\n",
              "    <tr>\n",
              "      <th>1</th>\n",
              "      <td>2015-01-01 00:30:00</td>\n",
              "      <td>1.171444</td>\n",
              "      <td>0.0</td>\n",
              "      <td>1.171444</td>\n",
              "      <td>0.000225</td>\n",
              "      <td>0.228758</td>\n",
              "      <td>0.300048</td>\n",
              "      <td>0.018604</td>\n",
              "      <td>0.108881</td>\n",
              "      <td>0.004456</td>\n",
              "      <td>0.010001</td>\n",
              "      <td>0.000347</td>\n",
              "      <td>0.000087</td>\n",
              "      <td>0.000007</td>\n",
              "      <td>0.0</td>\n",
              "      <td>0.0</td>\n",
              "      <td>0.0</td>\n",
              "      <td>0.0</td>\n",
              "      <td>0.0</td>\n",
              "    </tr>\n",
              "    <tr>\n",
              "      <th>2</th>\n",
              "      <td>2015-01-01 01:00:00</td>\n",
              "      <td>1.151474</td>\n",
              "      <td>0.0</td>\n",
              "      <td>1.151474</td>\n",
              "      <td>0.000229</td>\n",
              "      <td>0.229446</td>\n",
              "      <td>0.323099</td>\n",
              "      <td>0.018620</td>\n",
              "      <td>0.005851</td>\n",
              "      <td>0.004449</td>\n",
              "      <td>0.009916</td>\n",
              "      <td>0.000612</td>\n",
              "      <td>0.000031</td>\n",
              "      <td>0.000007</td>\n",
              "      <td>0.0</td>\n",
              "      <td>0.0</td>\n",
              "      <td>0.0</td>\n",
              "      <td>0.0</td>\n",
              "      <td>0.0</td>\n",
              "    </tr>\n",
              "    <tr>\n",
              "      <th>3</th>\n",
              "      <td>2015-01-01 01:30:00</td>\n",
              "      <td>1.398982</td>\n",
              "      <td>0.0</td>\n",
              "      <td>1.398982</td>\n",
              "      <td>0.000209</td>\n",
              "      <td>0.277066</td>\n",
              "      <td>0.314399</td>\n",
              "      <td>0.018593</td>\n",
              "      <td>0.005925</td>\n",
              "      <td>0.004457</td>\n",
              "      <td>0.009872</td>\n",
              "      <td>0.000693</td>\n",
              "      <td>0.000004</td>\n",
              "      <td>0.000007</td>\n",
              "      <td>0.0</td>\n",
              "      <td>0.0</td>\n",
              "      <td>0.0</td>\n",
              "      <td>0.0</td>\n",
              "      <td>0.0</td>\n",
              "    </tr>\n",
              "    <tr>\n",
              "      <th>4</th>\n",
              "      <td>2015-01-01 02:00:00</td>\n",
              "      <td>1.080775</td>\n",
              "      <td>0.0</td>\n",
              "      <td>1.080775</td>\n",
              "      <td>0.000239</td>\n",
              "      <td>0.228736</td>\n",
              "      <td>0.308560</td>\n",
              "      <td>0.018638</td>\n",
              "      <td>0.062217</td>\n",
              "      <td>0.004478</td>\n",
              "      <td>0.010046</td>\n",
              "      <td>0.000497</td>\n",
              "      <td>0.000032</td>\n",
              "      <td>0.000006</td>\n",
              "      <td>0.0</td>\n",
              "      <td>0.0</td>\n",
              "      <td>0.0</td>\n",
              "      <td>0.0</td>\n",
              "      <td>0.0</td>\n",
              "    </tr>\n",
              "  </tbody>\n",
              "</table>\n",
              "</div>\n",
              "      <button class=\"colab-df-convert\" onclick=\"convertToInteractive('df-b5db90fa-7a52-4731-80e7-c27b9fede608')\"\n",
              "              title=\"Convert this dataframe to an interactive table.\"\n",
              "              style=\"display:none;\">\n",
              "        \n",
              "  <svg xmlns=\"http://www.w3.org/2000/svg\" height=\"24px\"viewBox=\"0 0 24 24\"\n",
              "       width=\"24px\">\n",
              "    <path d=\"M0 0h24v24H0V0z\" fill=\"none\"/>\n",
              "    <path d=\"M18.56 5.44l.94 2.06.94-2.06 2.06-.94-2.06-.94-.94-2.06-.94 2.06-2.06.94zm-11 1L8.5 8.5l.94-2.06 2.06-.94-2.06-.94L8.5 2.5l-.94 2.06-2.06.94zm10 10l.94 2.06.94-2.06 2.06-.94-2.06-.94-.94-2.06-.94 2.06-2.06.94z\"/><path d=\"M17.41 7.96l-1.37-1.37c-.4-.4-.92-.59-1.43-.59-.52 0-1.04.2-1.43.59L10.3 9.45l-7.72 7.72c-.78.78-.78 2.05 0 2.83L4 21.41c.39.39.9.59 1.41.59.51 0 1.02-.2 1.41-.59l7.78-7.78 2.81-2.81c.8-.78.8-2.07 0-2.86zM5.41 20L4 18.59l7.72-7.72 1.47 1.35L5.41 20z\"/>\n",
              "  </svg>\n",
              "      </button>\n",
              "      \n",
              "  <style>\n",
              "    .colab-df-container {\n",
              "      display:flex;\n",
              "      flex-wrap:wrap;\n",
              "      gap: 12px;\n",
              "    }\n",
              "\n",
              "    .colab-df-convert {\n",
              "      background-color: #E8F0FE;\n",
              "      border: none;\n",
              "      border-radius: 50%;\n",
              "      cursor: pointer;\n",
              "      display: none;\n",
              "      fill: #1967D2;\n",
              "      height: 32px;\n",
              "      padding: 0 0 0 0;\n",
              "      width: 32px;\n",
              "    }\n",
              "\n",
              "    .colab-df-convert:hover {\n",
              "      background-color: #E2EBFA;\n",
              "      box-shadow: 0px 1px 2px rgba(60, 64, 67, 0.3), 0px 1px 3px 1px rgba(60, 64, 67, 0.15);\n",
              "      fill: #174EA6;\n",
              "    }\n",
              "\n",
              "    [theme=dark] .colab-df-convert {\n",
              "      background-color: #3B4455;\n",
              "      fill: #D2E3FC;\n",
              "    }\n",
              "\n",
              "    [theme=dark] .colab-df-convert:hover {\n",
              "      background-color: #434B5C;\n",
              "      box-shadow: 0px 1px 3px 1px rgba(0, 0, 0, 0.15);\n",
              "      filter: drop-shadow(0px 1px 2px rgba(0, 0, 0, 0.3));\n",
              "      fill: #FFFFFF;\n",
              "    }\n",
              "  </style>\n",
              "\n",
              "      <script>\n",
              "        const buttonEl =\n",
              "          document.querySelector('#df-b5db90fa-7a52-4731-80e7-c27b9fede608 button.colab-df-convert');\n",
              "        buttonEl.style.display =\n",
              "          google.colab.kernel.accessAllowed ? 'block' : 'none';\n",
              "\n",
              "        async function convertToInteractive(key) {\n",
              "          const element = document.querySelector('#df-b5db90fa-7a52-4731-80e7-c27b9fede608');\n",
              "          const dataTable =\n",
              "            await google.colab.kernel.invokeFunction('convertToInteractive',\n",
              "                                                     [key], {});\n",
              "          if (!dataTable) return;\n",
              "\n",
              "          const docLinkHtml = 'Like what you see? Visit the ' +\n",
              "            '<a target=\"_blank\" href=https://colab.research.google.com/notebooks/data_table.ipynb>data table notebook</a>'\n",
              "            + ' to learn more about interactive tables.';\n",
              "          element.innerHTML = '';\n",
              "          dataTable['output_type'] = 'display_data';\n",
              "          await google.colab.output.renderOutput(dataTable, element);\n",
              "          const docLink = document.createElement('div');\n",
              "          docLink.innerHTML = docLinkHtml;\n",
              "          element.appendChild(docLink);\n",
              "        }\n",
              "      </script>\n",
              "    </div>\n",
              "  </div>\n",
              "  "
            ]
          },
          "metadata": {},
          "execution_count": 13
        }
      ],
      "source": [
        "dataset.head()"
      ],
      "id": "2853e354"
    },
    {
      "cell_type": "code",
      "execution_count": 14,
      "metadata": {
        "colab": {
          "base_uri": "https://localhost:8080/",
          "height": 478
        },
        "id": "207a89c2",
        "outputId": "28859a08-e2c1-408b-93ba-eb9b1c038362"
      },
      "outputs": [
        {
          "output_type": "execute_result",
          "data": {
            "text/plain": [
              "               Date & Time  use [kW]  gen [kW]  House overall [kW]  \\\n",
              "39759  2015-12-31 23:55:00  1.136050  0.003467            1.136050   \n",
              "39760  2015-12-31 23:56:00  0.949633  0.003483            0.949633   \n",
              "39761  2015-12-31 23:57:00  0.944700  0.003467            0.944700   \n",
              "39762  2015-12-31 23:58:00  0.945417  0.003483            0.945417   \n",
              "39763  2015-12-31 23:59:00  0.936550  0.003467            0.936550   \n",
              "\n",
              "       Dishwasher [kW]  Furnace 1 [kW]  Furnace 2 [kW]  Home office [kW]  \\\n",
              "39759         0.000017        0.021117        0.224267          0.441600   \n",
              "39760         0.000033        0.020817        0.063117          0.444967   \n",
              "39761         0.000017        0.020783        0.062550          0.445350   \n",
              "39762         0.000017        0.020783        0.061850          0.450667   \n",
              "39763         0.000000        0.020717        0.062800          0.442717   \n",
              "\n",
              "       Fridge [kW]  Wine cellar [kW]  Garage door [kW]  Kitchen 12 [kW]  \\\n",
              "39759     0.126483          0.007083          0.013217         0.000417   \n",
              "39760     0.126000          0.006967          0.013117         0.000417   \n",
              "39761     0.125467          0.006950          0.013117         0.000417   \n",
              "39762     0.125050          0.007033          0.013100         0.000417   \n",
              "39763     0.124633          0.006950          0.013117         0.000433   \n",
              "\n",
              "       Kitchen 14 [kW]  Kitchen 38 [kW]  Barn [kW]  Well [kW]  Microwave [kW]  \\\n",
              "39759         0.000100         0.000000   0.031483   0.001050        0.004050   \n",
              "39760         0.000167         0.000017   0.031417   0.001000        0.004050   \n",
              "39761         0.000150         0.000000   0.031500   0.001017        0.004050   \n",
              "39762         0.000150         0.000000   0.031467   0.001000        0.004033   \n",
              "39763         0.000133         0.000000   0.031533   0.001000        0.004050   \n",
              "\n",
              "       Living room [kW]  Solar [kW]  \n",
              "39759          0.001517    0.003467  \n",
              "39760          0.001550    0.003483  \n",
              "39761          0.001633    0.003467  \n",
              "39762          0.001583    0.003483  \n",
              "39763          0.001633    0.003467  "
            ],
            "text/html": [
              "\n",
              "  <div id=\"df-cbf17f43-6bc6-4e9b-b3dd-a6e191812b4b\">\n",
              "    <div class=\"colab-df-container\">\n",
              "      <div>\n",
              "<style scoped>\n",
              "    .dataframe tbody tr th:only-of-type {\n",
              "        vertical-align: middle;\n",
              "    }\n",
              "\n",
              "    .dataframe tbody tr th {\n",
              "        vertical-align: top;\n",
              "    }\n",
              "\n",
              "    .dataframe thead th {\n",
              "        text-align: right;\n",
              "    }\n",
              "</style>\n",
              "<table border=\"1\" class=\"dataframe\">\n",
              "  <thead>\n",
              "    <tr style=\"text-align: right;\">\n",
              "      <th></th>\n",
              "      <th>Date &amp; Time</th>\n",
              "      <th>use [kW]</th>\n",
              "      <th>gen [kW]</th>\n",
              "      <th>House overall [kW]</th>\n",
              "      <th>Dishwasher [kW]</th>\n",
              "      <th>Furnace 1 [kW]</th>\n",
              "      <th>Furnace 2 [kW]</th>\n",
              "      <th>Home office [kW]</th>\n",
              "      <th>Fridge [kW]</th>\n",
              "      <th>Wine cellar [kW]</th>\n",
              "      <th>Garage door [kW]</th>\n",
              "      <th>Kitchen 12 [kW]</th>\n",
              "      <th>Kitchen 14 [kW]</th>\n",
              "      <th>Kitchen 38 [kW]</th>\n",
              "      <th>Barn [kW]</th>\n",
              "      <th>Well [kW]</th>\n",
              "      <th>Microwave [kW]</th>\n",
              "      <th>Living room [kW]</th>\n",
              "      <th>Solar [kW]</th>\n",
              "    </tr>\n",
              "  </thead>\n",
              "  <tbody>\n",
              "    <tr>\n",
              "      <th>39759</th>\n",
              "      <td>2015-12-31 23:55:00</td>\n",
              "      <td>1.136050</td>\n",
              "      <td>0.003467</td>\n",
              "      <td>1.136050</td>\n",
              "      <td>0.000017</td>\n",
              "      <td>0.021117</td>\n",
              "      <td>0.224267</td>\n",
              "      <td>0.441600</td>\n",
              "      <td>0.126483</td>\n",
              "      <td>0.007083</td>\n",
              "      <td>0.013217</td>\n",
              "      <td>0.000417</td>\n",
              "      <td>0.000100</td>\n",
              "      <td>0.000000</td>\n",
              "      <td>0.031483</td>\n",
              "      <td>0.001050</td>\n",
              "      <td>0.004050</td>\n",
              "      <td>0.001517</td>\n",
              "      <td>0.003467</td>\n",
              "    </tr>\n",
              "    <tr>\n",
              "      <th>39760</th>\n",
              "      <td>2015-12-31 23:56:00</td>\n",
              "      <td>0.949633</td>\n",
              "      <td>0.003483</td>\n",
              "      <td>0.949633</td>\n",
              "      <td>0.000033</td>\n",
              "      <td>0.020817</td>\n",
              "      <td>0.063117</td>\n",
              "      <td>0.444967</td>\n",
              "      <td>0.126000</td>\n",
              "      <td>0.006967</td>\n",
              "      <td>0.013117</td>\n",
              "      <td>0.000417</td>\n",
              "      <td>0.000167</td>\n",
              "      <td>0.000017</td>\n",
              "      <td>0.031417</td>\n",
              "      <td>0.001000</td>\n",
              "      <td>0.004050</td>\n",
              "      <td>0.001550</td>\n",
              "      <td>0.003483</td>\n",
              "    </tr>\n",
              "    <tr>\n",
              "      <th>39761</th>\n",
              "      <td>2015-12-31 23:57:00</td>\n",
              "      <td>0.944700</td>\n",
              "      <td>0.003467</td>\n",
              "      <td>0.944700</td>\n",
              "      <td>0.000017</td>\n",
              "      <td>0.020783</td>\n",
              "      <td>0.062550</td>\n",
              "      <td>0.445350</td>\n",
              "      <td>0.125467</td>\n",
              "      <td>0.006950</td>\n",
              "      <td>0.013117</td>\n",
              "      <td>0.000417</td>\n",
              "      <td>0.000150</td>\n",
              "      <td>0.000000</td>\n",
              "      <td>0.031500</td>\n",
              "      <td>0.001017</td>\n",
              "      <td>0.004050</td>\n",
              "      <td>0.001633</td>\n",
              "      <td>0.003467</td>\n",
              "    </tr>\n",
              "    <tr>\n",
              "      <th>39762</th>\n",
              "      <td>2015-12-31 23:58:00</td>\n",
              "      <td>0.945417</td>\n",
              "      <td>0.003483</td>\n",
              "      <td>0.945417</td>\n",
              "      <td>0.000017</td>\n",
              "      <td>0.020783</td>\n",
              "      <td>0.061850</td>\n",
              "      <td>0.450667</td>\n",
              "      <td>0.125050</td>\n",
              "      <td>0.007033</td>\n",
              "      <td>0.013100</td>\n",
              "      <td>0.000417</td>\n",
              "      <td>0.000150</td>\n",
              "      <td>0.000000</td>\n",
              "      <td>0.031467</td>\n",
              "      <td>0.001000</td>\n",
              "      <td>0.004033</td>\n",
              "      <td>0.001583</td>\n",
              "      <td>0.003483</td>\n",
              "    </tr>\n",
              "    <tr>\n",
              "      <th>39763</th>\n",
              "      <td>2015-12-31 23:59:00</td>\n",
              "      <td>0.936550</td>\n",
              "      <td>0.003467</td>\n",
              "      <td>0.936550</td>\n",
              "      <td>0.000000</td>\n",
              "      <td>0.020717</td>\n",
              "      <td>0.062800</td>\n",
              "      <td>0.442717</td>\n",
              "      <td>0.124633</td>\n",
              "      <td>0.006950</td>\n",
              "      <td>0.013117</td>\n",
              "      <td>0.000433</td>\n",
              "      <td>0.000133</td>\n",
              "      <td>0.000000</td>\n",
              "      <td>0.031533</td>\n",
              "      <td>0.001000</td>\n",
              "      <td>0.004050</td>\n",
              "      <td>0.001633</td>\n",
              "      <td>0.003467</td>\n",
              "    </tr>\n",
              "  </tbody>\n",
              "</table>\n",
              "</div>\n",
              "      <button class=\"colab-df-convert\" onclick=\"convertToInteractive('df-cbf17f43-6bc6-4e9b-b3dd-a6e191812b4b')\"\n",
              "              title=\"Convert this dataframe to an interactive table.\"\n",
              "              style=\"display:none;\">\n",
              "        \n",
              "  <svg xmlns=\"http://www.w3.org/2000/svg\" height=\"24px\"viewBox=\"0 0 24 24\"\n",
              "       width=\"24px\">\n",
              "    <path d=\"M0 0h24v24H0V0z\" fill=\"none\"/>\n",
              "    <path d=\"M18.56 5.44l.94 2.06.94-2.06 2.06-.94-2.06-.94-.94-2.06-.94 2.06-2.06.94zm-11 1L8.5 8.5l.94-2.06 2.06-.94-2.06-.94L8.5 2.5l-.94 2.06-2.06.94zm10 10l.94 2.06.94-2.06 2.06-.94-2.06-.94-.94-2.06-.94 2.06-2.06.94z\"/><path d=\"M17.41 7.96l-1.37-1.37c-.4-.4-.92-.59-1.43-.59-.52 0-1.04.2-1.43.59L10.3 9.45l-7.72 7.72c-.78.78-.78 2.05 0 2.83L4 21.41c.39.39.9.59 1.41.59.51 0 1.02-.2 1.41-.59l7.78-7.78 2.81-2.81c.8-.78.8-2.07 0-2.86zM5.41 20L4 18.59l7.72-7.72 1.47 1.35L5.41 20z\"/>\n",
              "  </svg>\n",
              "      </button>\n",
              "      \n",
              "  <style>\n",
              "    .colab-df-container {\n",
              "      display:flex;\n",
              "      flex-wrap:wrap;\n",
              "      gap: 12px;\n",
              "    }\n",
              "\n",
              "    .colab-df-convert {\n",
              "      background-color: #E8F0FE;\n",
              "      border: none;\n",
              "      border-radius: 50%;\n",
              "      cursor: pointer;\n",
              "      display: none;\n",
              "      fill: #1967D2;\n",
              "      height: 32px;\n",
              "      padding: 0 0 0 0;\n",
              "      width: 32px;\n",
              "    }\n",
              "\n",
              "    .colab-df-convert:hover {\n",
              "      background-color: #E2EBFA;\n",
              "      box-shadow: 0px 1px 2px rgba(60, 64, 67, 0.3), 0px 1px 3px 1px rgba(60, 64, 67, 0.15);\n",
              "      fill: #174EA6;\n",
              "    }\n",
              "\n",
              "    [theme=dark] .colab-df-convert {\n",
              "      background-color: #3B4455;\n",
              "      fill: #D2E3FC;\n",
              "    }\n",
              "\n",
              "    [theme=dark] .colab-df-convert:hover {\n",
              "      background-color: #434B5C;\n",
              "      box-shadow: 0px 1px 3px 1px rgba(0, 0, 0, 0.15);\n",
              "      filter: drop-shadow(0px 1px 2px rgba(0, 0, 0, 0.3));\n",
              "      fill: #FFFFFF;\n",
              "    }\n",
              "  </style>\n",
              "\n",
              "      <script>\n",
              "        const buttonEl =\n",
              "          document.querySelector('#df-cbf17f43-6bc6-4e9b-b3dd-a6e191812b4b button.colab-df-convert');\n",
              "        buttonEl.style.display =\n",
              "          google.colab.kernel.accessAllowed ? 'block' : 'none';\n",
              "\n",
              "        async function convertToInteractive(key) {\n",
              "          const element = document.querySelector('#df-cbf17f43-6bc6-4e9b-b3dd-a6e191812b4b');\n",
              "          const dataTable =\n",
              "            await google.colab.kernel.invokeFunction('convertToInteractive',\n",
              "                                                     [key], {});\n",
              "          if (!dataTable) return;\n",
              "\n",
              "          const docLinkHtml = 'Like what you see? Visit the ' +\n",
              "            '<a target=\"_blank\" href=https://colab.research.google.com/notebooks/data_table.ipynb>data table notebook</a>'\n",
              "            + ' to learn more about interactive tables.';\n",
              "          element.innerHTML = '';\n",
              "          dataTable['output_type'] = 'display_data';\n",
              "          await google.colab.output.renderOutput(dataTable, element);\n",
              "          const docLink = document.createElement('div');\n",
              "          docLink.innerHTML = docLinkHtml;\n",
              "          element.appendChild(docLink);\n",
              "        }\n",
              "      </script>\n",
              "    </div>\n",
              "  </div>\n",
              "  "
            ]
          },
          "metadata": {},
          "execution_count": 14
        }
      ],
      "source": [
        "dataset.tail()"
      ],
      "id": "207a89c2"
    },
    {
      "cell_type": "code",
      "execution_count": 15,
      "metadata": {
        "colab": {
          "base_uri": "https://localhost:8080/"
        },
        "id": "62f4c223",
        "outputId": "12317b9f-72ba-459c-ba61-d650734abeac"
      },
      "outputs": [
        {
          "output_type": "execute_result",
          "data": {
            "text/plain": [
              "Index(['Date & Time', 'use [kW]', 'gen [kW]', 'House overall [kW]',\n",
              "       'Dishwasher [kW]', 'Furnace 1 [kW]', 'Furnace 2 [kW]',\n",
              "       'Home office [kW]', 'Fridge [kW]', 'Wine cellar [kW]',\n",
              "       'Garage door [kW]', 'Kitchen 12 [kW]', 'Kitchen 14 [kW]',\n",
              "       'Kitchen 38 [kW]', 'Barn [kW]', 'Well [kW]', 'Microwave [kW]',\n",
              "       'Living room [kW]', 'Solar [kW]'],\n",
              "      dtype='object')"
            ]
          },
          "metadata": {},
          "execution_count": 15
        }
      ],
      "source": [
        "dataset.columns"
      ],
      "id": "62f4c223"
    },
    {
      "cell_type": "code",
      "execution_count": 16,
      "metadata": {
        "colab": {
          "base_uri": "https://localhost:8080/"
        },
        "id": "131dbf47",
        "outputId": "2efcd81c-9d42-4f08-afdb-f91aed098965"
      },
      "outputs": [
        {
          "output_type": "execute_result",
          "data": {
            "text/plain": [
              "Index(['Date & Time', 'use', 'gen', 'House overall', 'Dishwasher', 'Furnace 1',\n",
              "       'Furnace 2', 'Home office', 'Fridge', 'Wine cellar', 'Garage door',\n",
              "       'Kitchen 12', 'Kitchen 14', 'Kitchen 38', 'Barn', 'Well', 'Microwave',\n",
              "       'Living room', 'Solar'],\n",
              "      dtype='object')"
            ]
          },
          "metadata": {},
          "execution_count": 16
        }
      ],
      "source": [
        "dataset.columns = [col.replace(' [kW]', '') for col in dataset.columns]\n",
        "dataset.columns"
      ],
      "id": "131dbf47"
    },
    {
      "cell_type": "code",
      "execution_count": 17,
      "metadata": {
        "colab": {
          "base_uri": "https://localhost:8080/",
          "height": 381
        },
        "id": "00b45078",
        "outputId": "50811888-5750-42cb-ff14-b825fe7430ca"
      },
      "outputs": [
        {
          "output_type": "execute_result",
          "data": {
            "text/plain": [
              "                use           gen  House overall    Dishwasher     Furnace 1  \\\n",
              "count  39764.000000  39764.000000   39764.000000  39764.000000  39764.000000   \n",
              "mean       0.893137      0.045883       0.893137      0.038868      0.118660   \n",
              "std        0.737002      0.099776       0.737002      0.199305      0.170315   \n",
              "min        0.000133      0.000000       0.000133      0.000000      0.000067   \n",
              "25%        0.431470      0.003000       0.431470      0.000006      0.020250   \n",
              "50%        0.708066      0.003367       0.708066      0.000030      0.020700   \n",
              "75%        1.132841      0.019825       1.132841      0.000217      0.153071   \n",
              "max        9.890377      1.043312       9.890377      1.370083      1.843700   \n",
              "\n",
              "          Furnace 2   Home office        Fridge   Wine cellar   Garage door  \\\n",
              "count  39764.000000  39764.000000  39764.000000  39764.000000  39764.000000   \n",
              "mean       0.154126      0.082780      0.056743      0.025174      0.013910   \n",
              "std        0.180630      0.096339      0.065954      0.042349      0.009516   \n",
              "min        0.000217      0.000133      0.000017      0.000000      0.000033   \n",
              "25%        0.063540      0.040210      0.005117      0.004484      0.012570   \n",
              "50%        0.065864      0.042333      0.017279      0.007333      0.012900   \n",
              "75%        0.126712      0.080521      0.119886      0.008267      0.013083   \n",
              "max        0.769954      0.870517      0.631167      1.226867      0.275139   \n",
              "\n",
              "         Kitchen 12    Kitchen 14    Kitchen 38          Barn          Well  \\\n",
              "count  39764.000000  39764.000000  39764.000000  39764.000000  39764.000000   \n",
              "mean       0.001548      0.009786      0.000008      0.075229      0.015604   \n",
              "std        0.019522      0.075930      0.000009      0.236358      0.117577   \n",
              "min        0.000000      0.000000      0.000000      0.000000      0.000000   \n",
              "25%        0.000500      0.000029      0.000000      0.029583      0.000997   \n",
              "50%        0.000667      0.000067      0.000004      0.031500      0.001000   \n",
              "75%        0.000733      0.000217      0.000017      0.038300      0.001017   \n",
              "max        0.878183      1.607650      0.000067      6.279317      1.615567   \n",
              "\n",
              "          Microwave   Living room         Solar  \n",
              "count  39764.000000  39764.000000  39764.000000  \n",
              "mean       0.011691      0.039420      0.045883  \n",
              "std        0.094075      0.095368      0.099776  \n",
              "min        0.000000      0.000000      0.000000  \n",
              "25%        0.004000      0.001454      0.003000  \n",
              "50%        0.004003      0.001567      0.003367  \n",
              "75%        0.004167      0.001667      0.019825  \n",
              "max        1.873533      0.372333      1.043312  "
            ],
            "text/html": [
              "\n",
              "  <div id=\"df-f36d2a27-cef9-48da-89fd-aa5213ac9a19\">\n",
              "    <div class=\"colab-df-container\">\n",
              "      <div>\n",
              "<style scoped>\n",
              "    .dataframe tbody tr th:only-of-type {\n",
              "        vertical-align: middle;\n",
              "    }\n",
              "\n",
              "    .dataframe tbody tr th {\n",
              "        vertical-align: top;\n",
              "    }\n",
              "\n",
              "    .dataframe thead th {\n",
              "        text-align: right;\n",
              "    }\n",
              "</style>\n",
              "<table border=\"1\" class=\"dataframe\">\n",
              "  <thead>\n",
              "    <tr style=\"text-align: right;\">\n",
              "      <th></th>\n",
              "      <th>use</th>\n",
              "      <th>gen</th>\n",
              "      <th>House overall</th>\n",
              "      <th>Dishwasher</th>\n",
              "      <th>Furnace 1</th>\n",
              "      <th>Furnace 2</th>\n",
              "      <th>Home office</th>\n",
              "      <th>Fridge</th>\n",
              "      <th>Wine cellar</th>\n",
              "      <th>Garage door</th>\n",
              "      <th>Kitchen 12</th>\n",
              "      <th>Kitchen 14</th>\n",
              "      <th>Kitchen 38</th>\n",
              "      <th>Barn</th>\n",
              "      <th>Well</th>\n",
              "      <th>Microwave</th>\n",
              "      <th>Living room</th>\n",
              "      <th>Solar</th>\n",
              "    </tr>\n",
              "  </thead>\n",
              "  <tbody>\n",
              "    <tr>\n",
              "      <th>count</th>\n",
              "      <td>39764.000000</td>\n",
              "      <td>39764.000000</td>\n",
              "      <td>39764.000000</td>\n",
              "      <td>39764.000000</td>\n",
              "      <td>39764.000000</td>\n",
              "      <td>39764.000000</td>\n",
              "      <td>39764.000000</td>\n",
              "      <td>39764.000000</td>\n",
              "      <td>39764.000000</td>\n",
              "      <td>39764.000000</td>\n",
              "      <td>39764.000000</td>\n",
              "      <td>39764.000000</td>\n",
              "      <td>39764.000000</td>\n",
              "      <td>39764.000000</td>\n",
              "      <td>39764.000000</td>\n",
              "      <td>39764.000000</td>\n",
              "      <td>39764.000000</td>\n",
              "      <td>39764.000000</td>\n",
              "    </tr>\n",
              "    <tr>\n",
              "      <th>mean</th>\n",
              "      <td>0.893137</td>\n",
              "      <td>0.045883</td>\n",
              "      <td>0.893137</td>\n",
              "      <td>0.038868</td>\n",
              "      <td>0.118660</td>\n",
              "      <td>0.154126</td>\n",
              "      <td>0.082780</td>\n",
              "      <td>0.056743</td>\n",
              "      <td>0.025174</td>\n",
              "      <td>0.013910</td>\n",
              "      <td>0.001548</td>\n",
              "      <td>0.009786</td>\n",
              "      <td>0.000008</td>\n",
              "      <td>0.075229</td>\n",
              "      <td>0.015604</td>\n",
              "      <td>0.011691</td>\n",
              "      <td>0.039420</td>\n",
              "      <td>0.045883</td>\n",
              "    </tr>\n",
              "    <tr>\n",
              "      <th>std</th>\n",
              "      <td>0.737002</td>\n",
              "      <td>0.099776</td>\n",
              "      <td>0.737002</td>\n",
              "      <td>0.199305</td>\n",
              "      <td>0.170315</td>\n",
              "      <td>0.180630</td>\n",
              "      <td>0.096339</td>\n",
              "      <td>0.065954</td>\n",
              "      <td>0.042349</td>\n",
              "      <td>0.009516</td>\n",
              "      <td>0.019522</td>\n",
              "      <td>0.075930</td>\n",
              "      <td>0.000009</td>\n",
              "      <td>0.236358</td>\n",
              "      <td>0.117577</td>\n",
              "      <td>0.094075</td>\n",
              "      <td>0.095368</td>\n",
              "      <td>0.099776</td>\n",
              "    </tr>\n",
              "    <tr>\n",
              "      <th>min</th>\n",
              "      <td>0.000133</td>\n",
              "      <td>0.000000</td>\n",
              "      <td>0.000133</td>\n",
              "      <td>0.000000</td>\n",
              "      <td>0.000067</td>\n",
              "      <td>0.000217</td>\n",
              "      <td>0.000133</td>\n",
              "      <td>0.000017</td>\n",
              "      <td>0.000000</td>\n",
              "      <td>0.000033</td>\n",
              "      <td>0.000000</td>\n",
              "      <td>0.000000</td>\n",
              "      <td>0.000000</td>\n",
              "      <td>0.000000</td>\n",
              "      <td>0.000000</td>\n",
              "      <td>0.000000</td>\n",
              "      <td>0.000000</td>\n",
              "      <td>0.000000</td>\n",
              "    </tr>\n",
              "    <tr>\n",
              "      <th>25%</th>\n",
              "      <td>0.431470</td>\n",
              "      <td>0.003000</td>\n",
              "      <td>0.431470</td>\n",
              "      <td>0.000006</td>\n",
              "      <td>0.020250</td>\n",
              "      <td>0.063540</td>\n",
              "      <td>0.040210</td>\n",
              "      <td>0.005117</td>\n",
              "      <td>0.004484</td>\n",
              "      <td>0.012570</td>\n",
              "      <td>0.000500</td>\n",
              "      <td>0.000029</td>\n",
              "      <td>0.000000</td>\n",
              "      <td>0.029583</td>\n",
              "      <td>0.000997</td>\n",
              "      <td>0.004000</td>\n",
              "      <td>0.001454</td>\n",
              "      <td>0.003000</td>\n",
              "    </tr>\n",
              "    <tr>\n",
              "      <th>50%</th>\n",
              "      <td>0.708066</td>\n",
              "      <td>0.003367</td>\n",
              "      <td>0.708066</td>\n",
              "      <td>0.000030</td>\n",
              "      <td>0.020700</td>\n",
              "      <td>0.065864</td>\n",
              "      <td>0.042333</td>\n",
              "      <td>0.017279</td>\n",
              "      <td>0.007333</td>\n",
              "      <td>0.012900</td>\n",
              "      <td>0.000667</td>\n",
              "      <td>0.000067</td>\n",
              "      <td>0.000004</td>\n",
              "      <td>0.031500</td>\n",
              "      <td>0.001000</td>\n",
              "      <td>0.004003</td>\n",
              "      <td>0.001567</td>\n",
              "      <td>0.003367</td>\n",
              "    </tr>\n",
              "    <tr>\n",
              "      <th>75%</th>\n",
              "      <td>1.132841</td>\n",
              "      <td>0.019825</td>\n",
              "      <td>1.132841</td>\n",
              "      <td>0.000217</td>\n",
              "      <td>0.153071</td>\n",
              "      <td>0.126712</td>\n",
              "      <td>0.080521</td>\n",
              "      <td>0.119886</td>\n",
              "      <td>0.008267</td>\n",
              "      <td>0.013083</td>\n",
              "      <td>0.000733</td>\n",
              "      <td>0.000217</td>\n",
              "      <td>0.000017</td>\n",
              "      <td>0.038300</td>\n",
              "      <td>0.001017</td>\n",
              "      <td>0.004167</td>\n",
              "      <td>0.001667</td>\n",
              "      <td>0.019825</td>\n",
              "    </tr>\n",
              "    <tr>\n",
              "      <th>max</th>\n",
              "      <td>9.890377</td>\n",
              "      <td>1.043312</td>\n",
              "      <td>9.890377</td>\n",
              "      <td>1.370083</td>\n",
              "      <td>1.843700</td>\n",
              "      <td>0.769954</td>\n",
              "      <td>0.870517</td>\n",
              "      <td>0.631167</td>\n",
              "      <td>1.226867</td>\n",
              "      <td>0.275139</td>\n",
              "      <td>0.878183</td>\n",
              "      <td>1.607650</td>\n",
              "      <td>0.000067</td>\n",
              "      <td>6.279317</td>\n",
              "      <td>1.615567</td>\n",
              "      <td>1.873533</td>\n",
              "      <td>0.372333</td>\n",
              "      <td>1.043312</td>\n",
              "    </tr>\n",
              "  </tbody>\n",
              "</table>\n",
              "</div>\n",
              "      <button class=\"colab-df-convert\" onclick=\"convertToInteractive('df-f36d2a27-cef9-48da-89fd-aa5213ac9a19')\"\n",
              "              title=\"Convert this dataframe to an interactive table.\"\n",
              "              style=\"display:none;\">\n",
              "        \n",
              "  <svg xmlns=\"http://www.w3.org/2000/svg\" height=\"24px\"viewBox=\"0 0 24 24\"\n",
              "       width=\"24px\">\n",
              "    <path d=\"M0 0h24v24H0V0z\" fill=\"none\"/>\n",
              "    <path d=\"M18.56 5.44l.94 2.06.94-2.06 2.06-.94-2.06-.94-.94-2.06-.94 2.06-2.06.94zm-11 1L8.5 8.5l.94-2.06 2.06-.94-2.06-.94L8.5 2.5l-.94 2.06-2.06.94zm10 10l.94 2.06.94-2.06 2.06-.94-2.06-.94-.94-2.06-.94 2.06-2.06.94z\"/><path d=\"M17.41 7.96l-1.37-1.37c-.4-.4-.92-.59-1.43-.59-.52 0-1.04.2-1.43.59L10.3 9.45l-7.72 7.72c-.78.78-.78 2.05 0 2.83L4 21.41c.39.39.9.59 1.41.59.51 0 1.02-.2 1.41-.59l7.78-7.78 2.81-2.81c.8-.78.8-2.07 0-2.86zM5.41 20L4 18.59l7.72-7.72 1.47 1.35L5.41 20z\"/>\n",
              "  </svg>\n",
              "      </button>\n",
              "      \n",
              "  <style>\n",
              "    .colab-df-container {\n",
              "      display:flex;\n",
              "      flex-wrap:wrap;\n",
              "      gap: 12px;\n",
              "    }\n",
              "\n",
              "    .colab-df-convert {\n",
              "      background-color: #E8F0FE;\n",
              "      border: none;\n",
              "      border-radius: 50%;\n",
              "      cursor: pointer;\n",
              "      display: none;\n",
              "      fill: #1967D2;\n",
              "      height: 32px;\n",
              "      padding: 0 0 0 0;\n",
              "      width: 32px;\n",
              "    }\n",
              "\n",
              "    .colab-df-convert:hover {\n",
              "      background-color: #E2EBFA;\n",
              "      box-shadow: 0px 1px 2px rgba(60, 64, 67, 0.3), 0px 1px 3px 1px rgba(60, 64, 67, 0.15);\n",
              "      fill: #174EA6;\n",
              "    }\n",
              "\n",
              "    [theme=dark] .colab-df-convert {\n",
              "      background-color: #3B4455;\n",
              "      fill: #D2E3FC;\n",
              "    }\n",
              "\n",
              "    [theme=dark] .colab-df-convert:hover {\n",
              "      background-color: #434B5C;\n",
              "      box-shadow: 0px 1px 3px 1px rgba(0, 0, 0, 0.15);\n",
              "      filter: drop-shadow(0px 1px 2px rgba(0, 0, 0, 0.3));\n",
              "      fill: #FFFFFF;\n",
              "    }\n",
              "  </style>\n",
              "\n",
              "      <script>\n",
              "        const buttonEl =\n",
              "          document.querySelector('#df-f36d2a27-cef9-48da-89fd-aa5213ac9a19 button.colab-df-convert');\n",
              "        buttonEl.style.display =\n",
              "          google.colab.kernel.accessAllowed ? 'block' : 'none';\n",
              "\n",
              "        async function convertToInteractive(key) {\n",
              "          const element = document.querySelector('#df-f36d2a27-cef9-48da-89fd-aa5213ac9a19');\n",
              "          const dataTable =\n",
              "            await google.colab.kernel.invokeFunction('convertToInteractive',\n",
              "                                                     [key], {});\n",
              "          if (!dataTable) return;\n",
              "\n",
              "          const docLinkHtml = 'Like what you see? Visit the ' +\n",
              "            '<a target=\"_blank\" href=https://colab.research.google.com/notebooks/data_table.ipynb>data table notebook</a>'\n",
              "            + ' to learn more about interactive tables.';\n",
              "          element.innerHTML = '';\n",
              "          dataTable['output_type'] = 'display_data';\n",
              "          await google.colab.output.renderOutput(dataTable, element);\n",
              "          const docLink = document.createElement('div');\n",
              "          docLink.innerHTML = docLinkHtml;\n",
              "          element.appendChild(docLink);\n",
              "        }\n",
              "      </script>\n",
              "    </div>\n",
              "  </div>\n",
              "  "
            ]
          },
          "metadata": {},
          "execution_count": 17
        }
      ],
      "source": [
        "dataset.describe()"
      ],
      "id": "00b45078"
    },
    {
      "cell_type": "code",
      "execution_count": 18,
      "metadata": {
        "colab": {
          "base_uri": "https://localhost:8080/"
        },
        "id": "4e0cb586",
        "outputId": "7cdac8d8-fc38-40af-affe-d16809b11da2"
      },
      "outputs": [
        {
          "output_type": "execute_result",
          "data": {
            "text/plain": [
              "(39764, 19)"
            ]
          },
          "metadata": {},
          "execution_count": 18
        }
      ],
      "source": [
        "dataset.shape"
      ],
      "id": "4e0cb586"
    },
    {
      "cell_type": "code",
      "execution_count": 19,
      "metadata": {
        "colab": {
          "base_uri": "https://localhost:8080/"
        },
        "id": "e2ece87c",
        "outputId": "c7a75e75-d028-4a79-bc06-147afc92ea6b"
      },
      "outputs": [
        {
          "output_type": "execute_result",
          "data": {
            "text/plain": [
              "Date & Time      0\n",
              "use              0\n",
              "gen              0\n",
              "House overall    0\n",
              "Dishwasher       0\n",
              "Furnace 1        0\n",
              "Furnace 2        0\n",
              "Home office      0\n",
              "Fridge           0\n",
              "Wine cellar      0\n",
              "Garage door      0\n",
              "Kitchen 12       0\n",
              "Kitchen 14       0\n",
              "Kitchen 38       0\n",
              "Barn             0\n",
              "Well             0\n",
              "Microwave        0\n",
              "Living room      0\n",
              "Solar            0\n",
              "dtype: int64"
            ]
          },
          "metadata": {},
          "execution_count": 19
        }
      ],
      "source": [
        "#Checking null values\n",
        "dataset.isnull().sum()"
      ],
      "id": "e2ece87c"
    },
    {
      "cell_type": "code",
      "execution_count": 20,
      "metadata": {
        "colab": {
          "base_uri": "https://localhost:8080/"
        },
        "id": "0b950b35",
        "outputId": "b7318f6a-9604-46b4-a9af-6193578fb624"
      },
      "outputs": [
        {
          "output_type": "execute_result",
          "data": {
            "text/plain": [
              "Date & Time      0\n",
              "use              0\n",
              "gen              0\n",
              "House overall    0\n",
              "Dishwasher       0\n",
              "Furnace 1        0\n",
              "Furnace 2        0\n",
              "Home office      0\n",
              "Fridge           0\n",
              "Wine cellar      0\n",
              "Garage door      0\n",
              "Kitchen 12       0\n",
              "Kitchen 14       0\n",
              "Kitchen 38       0\n",
              "Barn             0\n",
              "Well             0\n",
              "Microwave        0\n",
              "Living room      0\n",
              "Solar            0\n",
              "dtype: int64"
            ]
          },
          "metadata": {},
          "execution_count": 20
        }
      ],
      "source": [
        "dataset.isna().sum()"
      ],
      "id": "0b950b35"
    },
    {
      "cell_type": "code",
      "execution_count": 21,
      "metadata": {
        "colab": {
          "base_uri": "https://localhost:8080/",
          "height": 616
        },
        "id": "a936808d",
        "outputId": "50c7b985-9dac-4ec8-8d1c-f185355703cf"
      },
      "outputs": [
        {
          "output_type": "stream",
          "name": "stdout",
          "text": [
            "<class 'pandas.core.frame.DataFrame'>\n",
            "RangeIndex: 39764 entries, 0 to 39763\n",
            "Data columns (total 19 columns):\n",
            " #   Column         Non-Null Count  Dtype  \n",
            "---  ------         --------------  -----  \n",
            " 0   Date & Time    39764 non-null  object \n",
            " 1   use            39764 non-null  float64\n",
            " 2   gen            39764 non-null  float64\n",
            " 3   House overall  39764 non-null  float64\n",
            " 4   Dishwasher     39764 non-null  float64\n",
            " 5   Furnace 1      39764 non-null  float64\n",
            " 6   Furnace 2      39764 non-null  float64\n",
            " 7   Home office    39764 non-null  float64\n",
            " 8   Fridge         39764 non-null  float64\n",
            " 9   Wine cellar    39764 non-null  float64\n",
            " 10  Garage door    39764 non-null  float64\n",
            " 11  Kitchen 12     39764 non-null  float64\n",
            " 12  Kitchen 14     39764 non-null  float64\n",
            " 13  Kitchen 38     39764 non-null  float64\n",
            " 14  Barn           39764 non-null  float64\n",
            " 15  Well           39764 non-null  float64\n",
            " 16  Microwave      39764 non-null  float64\n",
            " 17  Living room    39764 non-null  float64\n",
            " 18  Solar          39764 non-null  float64\n",
            "dtypes: float64(18), object(1)\n",
            "memory usage: 5.8+ MB\n"
          ]
        },
        {
          "output_type": "display_data",
          "data": {
            "text/plain": [
              "None"
            ]
          },
          "metadata": {}
        },
        {
          "output_type": "execute_result",
          "data": {
            "text/plain": [
              "Empty DataFrame\n",
              "Columns: [Date & Time, use, gen, House overall, Dishwasher, Furnace 1, Furnace 2, Home office, Fridge, Wine cellar, Garage door, Kitchen 12, Kitchen 14, Kitchen 38, Barn, Well, Microwave, Living room, Solar]\n",
              "Index: []"
            ],
            "text/html": [
              "\n",
              "  <div id=\"df-5960eb82-7c2b-4fcb-8524-05612c28e4d8\">\n",
              "    <div class=\"colab-df-container\">\n",
              "      <div>\n",
              "<style scoped>\n",
              "    .dataframe tbody tr th:only-of-type {\n",
              "        vertical-align: middle;\n",
              "    }\n",
              "\n",
              "    .dataframe tbody tr th {\n",
              "        vertical-align: top;\n",
              "    }\n",
              "\n",
              "    .dataframe thead th {\n",
              "        text-align: right;\n",
              "    }\n",
              "</style>\n",
              "<table border=\"1\" class=\"dataframe\">\n",
              "  <thead>\n",
              "    <tr style=\"text-align: right;\">\n",
              "      <th></th>\n",
              "      <th>Date &amp; Time</th>\n",
              "      <th>use</th>\n",
              "      <th>gen</th>\n",
              "      <th>House overall</th>\n",
              "      <th>Dishwasher</th>\n",
              "      <th>Furnace 1</th>\n",
              "      <th>Furnace 2</th>\n",
              "      <th>Home office</th>\n",
              "      <th>Fridge</th>\n",
              "      <th>Wine cellar</th>\n",
              "      <th>Garage door</th>\n",
              "      <th>Kitchen 12</th>\n",
              "      <th>Kitchen 14</th>\n",
              "      <th>Kitchen 38</th>\n",
              "      <th>Barn</th>\n",
              "      <th>Well</th>\n",
              "      <th>Microwave</th>\n",
              "      <th>Living room</th>\n",
              "      <th>Solar</th>\n",
              "    </tr>\n",
              "  </thead>\n",
              "  <tbody>\n",
              "  </tbody>\n",
              "</table>\n",
              "</div>\n",
              "      <button class=\"colab-df-convert\" onclick=\"convertToInteractive('df-5960eb82-7c2b-4fcb-8524-05612c28e4d8')\"\n",
              "              title=\"Convert this dataframe to an interactive table.\"\n",
              "              style=\"display:none;\">\n",
              "        \n",
              "  <svg xmlns=\"http://www.w3.org/2000/svg\" height=\"24px\"viewBox=\"0 0 24 24\"\n",
              "       width=\"24px\">\n",
              "    <path d=\"M0 0h24v24H0V0z\" fill=\"none\"/>\n",
              "    <path d=\"M18.56 5.44l.94 2.06.94-2.06 2.06-.94-2.06-.94-.94-2.06-.94 2.06-2.06.94zm-11 1L8.5 8.5l.94-2.06 2.06-.94-2.06-.94L8.5 2.5l-.94 2.06-2.06.94zm10 10l.94 2.06.94-2.06 2.06-.94-2.06-.94-.94-2.06-.94 2.06-2.06.94z\"/><path d=\"M17.41 7.96l-1.37-1.37c-.4-.4-.92-.59-1.43-.59-.52 0-1.04.2-1.43.59L10.3 9.45l-7.72 7.72c-.78.78-.78 2.05 0 2.83L4 21.41c.39.39.9.59 1.41.59.51 0 1.02-.2 1.41-.59l7.78-7.78 2.81-2.81c.8-.78.8-2.07 0-2.86zM5.41 20L4 18.59l7.72-7.72 1.47 1.35L5.41 20z\"/>\n",
              "  </svg>\n",
              "      </button>\n",
              "      \n",
              "  <style>\n",
              "    .colab-df-container {\n",
              "      display:flex;\n",
              "      flex-wrap:wrap;\n",
              "      gap: 12px;\n",
              "    }\n",
              "\n",
              "    .colab-df-convert {\n",
              "      background-color: #E8F0FE;\n",
              "      border: none;\n",
              "      border-radius: 50%;\n",
              "      cursor: pointer;\n",
              "      display: none;\n",
              "      fill: #1967D2;\n",
              "      height: 32px;\n",
              "      padding: 0 0 0 0;\n",
              "      width: 32px;\n",
              "    }\n",
              "\n",
              "    .colab-df-convert:hover {\n",
              "      background-color: #E2EBFA;\n",
              "      box-shadow: 0px 1px 2px rgba(60, 64, 67, 0.3), 0px 1px 3px 1px rgba(60, 64, 67, 0.15);\n",
              "      fill: #174EA6;\n",
              "    }\n",
              "\n",
              "    [theme=dark] .colab-df-convert {\n",
              "      background-color: #3B4455;\n",
              "      fill: #D2E3FC;\n",
              "    }\n",
              "\n",
              "    [theme=dark] .colab-df-convert:hover {\n",
              "      background-color: #434B5C;\n",
              "      box-shadow: 0px 1px 3px 1px rgba(0, 0, 0, 0.15);\n",
              "      filter: drop-shadow(0px 1px 2px rgba(0, 0, 0, 0.3));\n",
              "      fill: #FFFFFF;\n",
              "    }\n",
              "  </style>\n",
              "\n",
              "      <script>\n",
              "        const buttonEl =\n",
              "          document.querySelector('#df-5960eb82-7c2b-4fcb-8524-05612c28e4d8 button.colab-df-convert');\n",
              "        buttonEl.style.display =\n",
              "          google.colab.kernel.accessAllowed ? 'block' : 'none';\n",
              "\n",
              "        async function convertToInteractive(key) {\n",
              "          const element = document.querySelector('#df-5960eb82-7c2b-4fcb-8524-05612c28e4d8');\n",
              "          const dataTable =\n",
              "            await google.colab.kernel.invokeFunction('convertToInteractive',\n",
              "                                                     [key], {});\n",
              "          if (!dataTable) return;\n",
              "\n",
              "          const docLinkHtml = 'Like what you see? Visit the ' +\n",
              "            '<a target=\"_blank\" href=https://colab.research.google.com/notebooks/data_table.ipynb>data table notebook</a>'\n",
              "            + ' to learn more about interactive tables.';\n",
              "          element.innerHTML = '';\n",
              "          dataTable['output_type'] = 'display_data';\n",
              "          await google.colab.output.renderOutput(dataTable, element);\n",
              "          const docLink = document.createElement('div');\n",
              "          docLink.innerHTML = docLinkHtml;\n",
              "          element.appendChild(docLink);\n",
              "        }\n",
              "      </script>\n",
              "    </div>\n",
              "  </div>\n",
              "  "
            ]
          },
          "metadata": {},
          "execution_count": 21
        }
      ],
      "source": [
        "# Check if there are entries with null values\n",
        "display(dataset.info())\n",
        "dataset[dataset.isnull().any(axis=1)]"
      ],
      "id": "a936808d"
    },
    {
      "cell_type": "code",
      "execution_count": 22,
      "metadata": {
        "colab": {
          "base_uri": "https://localhost:8080/"
        },
        "id": "36e9042d",
        "outputId": "60d25352-7acb-48b8-bc89-1f77e4cd4d84"
      },
      "outputs": [
        {
          "output_type": "execute_result",
          "data": {
            "text/plain": [
              "0    2015-01-01 00:00:00\n",
              "1    2015-01-01 00:30:00\n",
              "2    2015-01-01 01:00:00\n",
              "3    2015-01-01 01:30:00\n",
              "4    2015-01-01 02:00:00\n",
              "Name: Date & Time, dtype: object"
            ]
          },
          "metadata": {},
          "execution_count": 22
        }
      ],
      "source": [
        "dataset['Date & Time'].head()"
      ],
      "id": "36e9042d"
    },
    {
      "cell_type": "code",
      "execution_count": 23,
      "metadata": {
        "colab": {
          "base_uri": "https://localhost:8080/"
        },
        "id": "3969c9be",
        "outputId": "2b87014d-2ba9-4198-d1de-f06fc0b79582"
      },
      "outputs": [
        {
          "output_type": "execute_result",
          "data": {
            "text/plain": [
              "(39764, 19)"
            ]
          },
          "metadata": {},
          "execution_count": 23
        }
      ],
      "source": [
        "dataset.shape"
      ],
      "id": "3969c9be"
    },
    {
      "cell_type": "code",
      "execution_count": 24,
      "metadata": {
        "colab": {
          "base_uri": "https://localhost:8080/",
          "height": 484
        },
        "id": "58735df0",
        "outputId": "34603452-b1ca-45dd-c014-b7f350603777"
      },
      "outputs": [
        {
          "output_type": "execute_result",
          "data": {
            "text/plain": [
              "<AxesSubplot:>"
            ]
          },
          "metadata": {},
          "execution_count": 24
        },
        {
          "output_type": "display_data",
          "data": {
            "text/plain": [
              "<Figure size 1440x576 with 1 Axes>"
            ],
            "image/png": "[encoded data removed]"
          },
          "metadata": {
            "needs_background": "light"
          }
        }
      ],
      "source": [
        "dataset['Dishwasher'].plot(figsize=(20,8))"
      ],
      "id": "58735df0"
    },
    {
      "cell_type": "code",
      "execution_count": 25,
      "metadata": {
        "id": "183b1ffb"
      },
      "outputs": [],
      "source": [
        "dataset['sum_Furnace'] = dataset[['Furnace 1','Furnace 2']].sum(axis=1)\n",
        "dataset['sum_Kitchen'] = dataset[['Kitchen 12','Kitchen 14','Kitchen 38']].sum(axis=1)"
      ],
      "id": "183b1ffb"
    },
    {
      "cell_type": "code",
      "execution_count": 26,
      "metadata": {
        "colab": {
          "base_uri": "https://localhost:8080/"
        },
        "id": "acf859db",
        "outputId": "92a34981-1c99-4029-b4ef-01a98913efd5"
      },
      "outputs": [
        {
          "output_type": "execute_result",
          "data": {
            "text/plain": [
              "Index(['Date & Time', 'use', 'gen', 'House overall', 'Dishwasher',\n",
              "       'Home office', 'Fridge', 'Wine cellar', 'Garage door', 'Barn', 'Well',\n",
              "       'Microwave', 'Living room', 'Solar', 'sum_Furnace', 'sum_Kitchen'],\n",
              "      dtype='object')"
            ]
          },
          "metadata": {},
          "execution_count": 26
        }
      ],
      "source": [
        "dataset = dataset.drop(['Kitchen 12','Kitchen 14','Kitchen 38'], axis=1)\n",
        "dataset = dataset.drop(['Furnace 1','Furnace 2'], axis=1)\n",
        "dataset.columns"
      ],
      "id": "acf859db"
    },
    {
      "cell_type": "code",
      "execution_count": 27,
      "metadata": {
        "colab": {
          "base_uri": "https://localhost:8080/"
        },
        "id": "0a0d9b21",
        "outputId": "34214613-9e1b-4f03-9b43-5e90bd673a9a"
      },
      "outputs": [
        {
          "output_type": "execute_result",
          "data": {
            "text/plain": [
              "(39764, 16)"
            ]
          },
          "metadata": {},
          "execution_count": 27
        }
      ],
      "source": [
        "dataset.shape"
      ],
      "id": "0a0d9b21"
    },
    {
      "cell_type": "code",
      "execution_count": 28,
      "metadata": {
        "id": "062e1f96"
      },
      "outputs": [],
      "source": [
        "import matplotlib.pyplot as plt\n",
        "plt.rcParams[\"figure.figsize\"] = (25,5)"
      ],
      "id": "062e1f96"
    },
    {
      "cell_type": "code",
      "execution_count": 29,
      "metadata": {
        "id": "89d65a9a"
      },
      "outputs": [],
      "source": [
        "# Convert the 'Datetime' column to a datetime object and set it as the index\n",
        "dataset['Date & Time'] = pd.to_datetime(dataset['Date & Time'])\n",
        "dataset.set_index(['Date & Time'], inplace=True)\n"
      ],
      "id": "89d65a9a"
    },
    {
      "cell_type": "code",
      "execution_count": 31,
      "metadata": {
        "colab": {
          "base_uri": "https://localhost:8080/",
          "height": 739
        },
        "id": "fdd663e0",
        "outputId": "3abb4c9f-d54f-4b8a-dc32-df3842f10a37"
      },
      "outputs": [
        {
          "output_type": "error",
          "ename": "KeyError",
          "evalue": "ignored",
          "traceback": [
            "\u001b[0;31m---------------------------------------------------------------------------\u001b[0m",
            "\u001b[0;31mKeyError\u001b[0m                                  Traceback (most recent call last)",
            "\u001b[0;32m/usr/local/lib/python3.8/dist-packages/pandas/core/indexes/base.py\u001b[0m in \u001b[0;36mget_loc\u001b[0;34m(self, key, method, tolerance)\u001b[0m\n\u001b[1;32m   3360\u001b[0m             \u001b[0;32mtry\u001b[0m\u001b[0;34m:\u001b[0m\u001b[0;34m\u001b[0m\u001b[0;34m\u001b[0m\u001b[0m\n\u001b[0;32m-> 3361\u001b[0;31m                 \u001b[0;32mreturn\u001b[0m \u001b[0mself\u001b[0m\u001b[0;34m.\u001b[0m\u001b[0m_engine\u001b[0m\u001b[0;34m.\u001b[0m\u001b[0mget_loc\u001b[0m\u001b[0;34m(\u001b[0m\u001b[0mcasted_key\u001b[0m\u001b[0;34m)\u001b[0m\u001b[0;34m\u001b[0m\u001b[0;34m\u001b[0m\u001b[0m\n\u001b[0m\u001b[1;32m   3362\u001b[0m             \u001b[0;32mexcept\u001b[0m \u001b[0mKeyError\u001b[0m \u001b[0;32mas\u001b[0m \u001b[0merr\u001b[0m\u001b[0;34m:\u001b[0m\u001b[0;34m\u001b[0m\u001b[0;34m\u001b[0m\u001b[0m\n",
            "\u001b[0;32m/usr/local/lib/python3.8/dist-packages/pandas/_libs/index.pyx\u001b[0m in \u001b[0;36mpandas._libs.index.IndexEngine.get_loc\u001b[0;34m()\u001b[0m\n",
            "\u001b[0;32m/usr/local/lib/python3.8/dist-packages/pandas/_libs/index.pyx\u001b[0m in \u001b[0;36mpandas._libs.index.IndexEngine.get_loc\u001b[0;34m()\u001b[0m\n",
            "\u001b[0;32mpandas/_libs/hashtable_class_helper.pxi\u001b[0m in \u001b[0;36mpandas._libs.hashtable.PyObjectHashTable.get_item\u001b[0;34m()\u001b[0m\n",
            "\u001b[0;32mpandas/_libs/hashtable_class_helper.pxi\u001b[0m in \u001b[0;36mpandas._libs.hashtable.PyObjectHashTable.get_item\u001b[0;34m()\u001b[0m\n",
            "\u001b[0;31mKeyError\u001b[0m: 'Use'",
            "\nThe above exception was the direct cause of the following exception:\n",
            "\u001b[0;31mKeyError\u001b[0m                                  Traceback (most recent call last)",
            "\u001b[0;32m<ipython-input-31-18d549b85906>\u001b[0m in \u001b[0;36m<module>\u001b[0;34m\u001b[0m\n\u001b[1;32m      1\u001b[0m \u001b[0mfig\u001b[0m\u001b[0;34m,\u001b[0m \u001b[0maxes\u001b[0m \u001b[0;34m=\u001b[0m \u001b[0mplt\u001b[0m\u001b[0;34m.\u001b[0m\u001b[0msubplots\u001b[0m\u001b[0;34m(\u001b[0m\u001b[0mnrows\u001b[0m\u001b[0;34m=\u001b[0m\u001b[0;36m2\u001b[0m\u001b[0;34m,\u001b[0m \u001b[0mncols\u001b[0m\u001b[0;34m=\u001b[0m\u001b[0;36m1\u001b[0m\u001b[0;34m)\u001b[0m\u001b[0;34m\u001b[0m\u001b[0;34m\u001b[0m\u001b[0m\n\u001b[0;32m----> 2\u001b[0;31m \u001b[0mdataset\u001b[0m\u001b[0;34m[\u001b[0m\u001b[0;34m'Use'\u001b[0m\u001b[0;34m]\u001b[0m\u001b[0;34m.\u001b[0m\u001b[0mresample\u001b[0m\u001b[0;34m(\u001b[0m\u001b[0;34m'D'\u001b[0m\u001b[0;34m)\u001b[0m\u001b[0;34m.\u001b[0m\u001b[0mmean\u001b[0m\u001b[0;34m(\u001b[0m\u001b[0;34m)\u001b[0m\u001b[0;34m.\u001b[0m\u001b[0mplot\u001b[0m\u001b[0;34m(\u001b[0m\u001b[0max\u001b[0m\u001b[0;34m=\u001b[0m\u001b[0maxes\u001b[0m\u001b[0;34m[\u001b[0m\u001b[0;36m0\u001b[0m\u001b[0;34m]\u001b[0m\u001b[0;34m)\u001b[0m\u001b[0;34m\u001b[0m\u001b[0;34m\u001b[0m\u001b[0m\n\u001b[0m\u001b[1;32m      3\u001b[0m \u001b[0mdataset\u001b[0m\u001b[0;34m[\u001b[0m\u001b[0;34m'Gen'\u001b[0m\u001b[0;34m]\u001b[0m\u001b[0;34m.\u001b[0m\u001b[0mresample\u001b[0m\u001b[0;34m(\u001b[0m\u001b[0;34m'D'\u001b[0m\u001b[0;34m)\u001b[0m\u001b[0;34m.\u001b[0m\u001b[0mmean\u001b[0m\u001b[0;34m(\u001b[0m\u001b[0;34m)\u001b[0m\u001b[0;34m.\u001b[0m\u001b[0mplot\u001b[0m\u001b[0;34m(\u001b[0m\u001b[0max\u001b[0m\u001b[0;34m=\u001b[0m\u001b[0maxes\u001b[0m\u001b[0;34m[\u001b[0m\u001b[0;36m1\u001b[0m\u001b[0;34m]\u001b[0m\u001b[0;34m)\u001b[0m\u001b[0;34m\u001b[0m\u001b[0;34m\u001b[0m\u001b[0m\n",
            "\u001b[0;32m/usr/local/lib/python3.8/dist-packages/pandas/core/frame.py\u001b[0m in \u001b[0;36m__getitem__\u001b[0;34m(self, key)\u001b[0m\n\u001b[1;32m   3456\u001b[0m             \u001b[0;32mif\u001b[0m \u001b[0mself\u001b[0m\u001b[0;34m.\u001b[0m\u001b[0mcolumns\u001b[0m\u001b[0;34m.\u001b[0m\u001b[0mnlevels\u001b[0m \u001b[0;34m>\u001b[0m \u001b[0;36m1\u001b[0m\u001b[0;34m:\u001b[0m\u001b[0;34m\u001b[0m\u001b[0;34m\u001b[0m\u001b[0m\n\u001b[1;32m   3457\u001b[0m                 \u001b[0;32mreturn\u001b[0m \u001b[0mself\u001b[0m\u001b[0;34m.\u001b[0m\u001b[0m_getitem_multilevel\u001b[0m\u001b[0;34m(\u001b[0m\u001b[0mkey\u001b[0m\u001b[0;34m)\u001b[0m\u001b[0;34m\u001b[0m\u001b[0;34m\u001b[0m\u001b[0m\n\u001b[0;32m-> 3458\u001b[0;31m             \u001b[0mindexer\u001b[0m \u001b[0;34m=\u001b[0m \u001b[0mself\u001b[0m\u001b[0;34m.\u001b[0m\u001b[0mcolumns\u001b[0m\u001b[0;34m.\u001b[0m\u001b[0mget_loc\u001b[0m\u001b[0;34m(\u001b[0m\u001b[0mkey\u001b[0m\u001b[0;34m)\u001b[0m\u001b[0;34m\u001b[0m\u001b[0;34m\u001b[0m\u001b[0m\n\u001b[0m\u001b[1;32m   3459\u001b[0m             \u001b[0;32mif\u001b[0m \u001b[0mis_integer\u001b[0m\u001b[0;34m(\u001b[0m\u001b[0mindexer\u001b[0m\u001b[0;34m)\u001b[0m\u001b[0;34m:\u001b[0m\u001b[0;34m\u001b[0m\u001b[0;34m\u001b[0m\u001b[0m\n\u001b[1;32m   3460\u001b[0m                 \u001b[0mindexer\u001b[0m \u001b[0;34m=\u001b[0m \u001b[0;34m[\u001b[0m\u001b[0mindexer\u001b[0m\u001b[0;34m]\u001b[0m\u001b[0;34m\u001b[0m\u001b[0;34m\u001b[0m\u001b[0m\n",
            "\u001b[0;32m/usr/local/lib/python3.8/dist-packages/pandas/core/indexes/base.py\u001b[0m in \u001b[0;36mget_loc\u001b[0;34m(self, key, method, tolerance)\u001b[0m\n\u001b[1;32m   3361\u001b[0m                 \u001b[0;32mreturn\u001b[0m \u001b[0mself\u001b[0m\u001b[0;34m.\u001b[0m\u001b[0m_engine\u001b[0m\u001b[0;34m.\u001b[0m\u001b[0mget_loc\u001b[0m\u001b[0;34m(\u001b[0m\u001b[0mcasted_key\u001b[0m\u001b[0;34m)\u001b[0m\u001b[0;34m\u001b[0m\u001b[0;34m\u001b[0m\u001b[0m\n\u001b[1;32m   3362\u001b[0m             \u001b[0;32mexcept\u001b[0m \u001b[0mKeyError\u001b[0m \u001b[0;32mas\u001b[0m \u001b[0merr\u001b[0m\u001b[0;34m:\u001b[0m\u001b[0;34m\u001b[0m\u001b[0;34m\u001b[0m\u001b[0m\n\u001b[0;32m-> 3363\u001b[0;31m                 \u001b[0;32mraise\u001b[0m \u001b[0mKeyError\u001b[0m\u001b[0;34m(\u001b[0m\u001b[0mkey\u001b[0m\u001b[0;34m)\u001b[0m \u001b[0;32mfrom\u001b[0m \u001b[0merr\u001b[0m\u001b[0;34m\u001b[0m\u001b[0;34m\u001b[0m\u001b[0m\n\u001b[0m\u001b[1;32m   3364\u001b[0m \u001b[0;34m\u001b[0m\u001b[0m\n\u001b[1;32m   3365\u001b[0m         \u001b[0;32mif\u001b[0m \u001b[0mis_scalar\u001b[0m\u001b[0;34m(\u001b[0m\u001b[0mkey\u001b[0m\u001b[0;34m)\u001b[0m \u001b[0;32mand\u001b[0m \u001b[0misna\u001b[0m\u001b[0;34m(\u001b[0m\u001b[0mkey\u001b[0m\u001b[0;34m)\u001b[0m \u001b[0;32mand\u001b[0m \u001b[0;32mnot\u001b[0m \u001b[0mself\u001b[0m\u001b[0;34m.\u001b[0m\u001b[0mhasnans\u001b[0m\u001b[0;34m:\u001b[0m\u001b[0;34m\u001b[0m\u001b[0;34m\u001b[0m\u001b[0m\n",
            "\u001b[0;31mKeyError\u001b[0m: 'Use'"
          ]
        },
        {
          "output_type": "display_data",
          "data": {
            "text/plain": [
              "<Figure size 1800x360 with 2 Axes>"
            ],
            "image/png": "[encoded data removed]"
          },
          "metadata": {
            "needs_background": "light"
          }
        }
      ],
      "source": [
        "fig, axes = plt.subplots(nrows=2, ncols=1)\n",
        "dataset['use'].resample('D').mean().plot(ax=axes[0])\n",
        "dataset['gen'].resample('D').mean().plot(ax=axes[1])"
      ],
      "id": "fdd663e0"
    },
    {
      "cell_type": "code",
      "execution_count": 32,
      "metadata": {
        "colab": {
          "base_uri": "https://localhost:8080/"
        },
        "id": "293aed72",
        "outputId": "acd93160-b69d-4491-aa73-c86784a30f29"
      },
      "outputs": [
        {
          "output_type": "execute_result",
          "data": {
            "text/plain": [
              "0.000000    3724\n",
              "0.031283     178\n",
              "0.031317     177\n",
              "0.031017     169\n",
              "0.031050     168\n",
              "            ... \n",
              "0.031584       1\n",
              "0.031934       1\n",
              "0.032023       1\n",
              "0.031804       1\n",
              "0.155067       1\n",
              "Name: Barn, Length: 15404, dtype: int64"
            ]
          },
          "metadata": {},
          "execution_count": 32
        }
      ],
      "source": [
        "dataset['Barn'].value_counts()"
      ],
      "id": "293aed72"
    },
    {
      "cell_type": "code",
      "execution_count": 33,
      "metadata": {
        "colab": {
          "base_uri": "https://localhost:8080/",
          "height": 299
        },
        "id": "7aaf8627",
        "outputId": "e760178c-69b3-468b-c0aa-ada3c5733861"
      },
      "outputs": [
        {
          "output_type": "execute_result",
          "data": {
            "text/plain": [
              "<AxesSubplot:xlabel='Date & Time'>"
            ]
          },
          "metadata": {},
          "execution_count": 33
        },
        {
          "output_type": "display_data",
          "data": {
            "text/plain": [
              "<Figure size 1800x360 with 1 Axes>"
            ],
            "image/png": "[encoded data removed]"
          },
          "metadata": {
            "needs_background": "light"
          }
        }
      ],
      "source": [
        "dataset['sum_Furnace'].resample(\"h\").mean().iloc[:24].plot()"
      ],
      "id": "7aaf8627"
    },
    {
      "cell_type": "code",
      "execution_count": 34,
      "metadata": {
        "id": "da51bd6f"
      },
      "outputs": [],
      "source": [
        "def timeseries_evaluation_metrics_func(y_true, y_pred):\n",
        "    \n",
        "    def mean_absolute_percentage_error(y_true, y_pred): \n",
        "        y_true, y_pred = np.array(y_true), np.array(y_pred)\n",
        "        return np.mean(np.abs((y_true - y_pred) / y_true)) * 100\n",
        "    print('Evaluation metric results:-')\n",
        "    print(f'MSE is : {metrics.mean_squared_error(y_true, y_pred)}')\n",
        "    print(f'MAE is : {metrics.mean_absolute_error(y_true, y_pred)}')\n",
        "    print(f'RMSE is : {np.sqrt(metrics.mean_squared_error(y_true, y_pred))}')\n",
        "    print(f'MAPE is : {mean_absolute_percentage_error(y_true, y_pred)}')\n",
        "    print(f'R2 is : {metrics.r2_score(y_true, y_pred)}',end='\\n\\n')"
      ],
      "id": "da51bd6f"
    },
    {
      "cell_type": "code",
      "execution_count": 35,
      "metadata": {
        "id": "51a14640"
      },
      "outputs": [],
      "source": [
        "def Augmented_Dickey_Fuller_Test_func(series , column_name):\n",
        "    print (f'Results of Dickey-Fuller Test for column: {column_name}')\n",
        "    dftest = adfuller(series, autolag='AIC')\n",
        "    dfoutput = pd.Series(dftest[0:4], index=['Test Statistic','p-value','No Lags Used','Number of Observations Used'])\n",
        "    for key,value in dftest[4].items():\n",
        "       dfoutput['Critical Value (%s)'%key] = value\n",
        "    print (dfoutput)\n",
        "    if dftest[1] <= 0.05:\n",
        "        print(\"Conclusion:====>\")\n",
        "        print(\"Reject the null hypothesis\")\n",
        "        print(\"Data is stationary\")\n",
        "    else:\n",
        "        print(\"Conclusion:====>\")\n",
        "        print(\"Fail to reject the null hypothesis\")\n",
        "        print(\"Data is non-stationary\")"
      ],
      "id": "51a14640"
    },
    {
      "cell_type": "code",
      "execution_count": 36,
      "metadata": {
        "colab": {
          "base_uri": "https://localhost:8080/"
        },
        "id": "5aaa1d2b",
        "outputId": "35705464-c3d9-421c-cae7-069d1bde3714"
      },
      "outputs": [
        {
          "output_type": "execute_result",
          "data": {
            "text/plain": [
              "Index(['use', 'gen', 'House overall', 'Dishwasher', 'Home office', 'Fridge',\n",
              "       'Wine cellar', 'Garage door', 'Barn', 'Well', 'Microwave',\n",
              "       'Living room', 'Solar', 'sum_Furnace', 'sum_Kitchen'],\n",
              "      dtype='object')"
            ]
          },
          "metadata": {},
          "execution_count": 36
        }
      ],
      "source": [
        "dataset.columns\n"
      ],
      "id": "5aaa1d2b"
    },
    {
      "cell_type": "code",
      "execution_count": 37,
      "metadata": {
        "id": "67f1cf10"
      },
      "outputs": [],
      "source": [
        "import pandas as pd\n",
        "import matplotlib.pyplot as plt\n",
        "from statsmodels.tsa.statespace.varmax import VARMAX\n",
        "import numpy as np\n",
        "from statsmodels.tsa.stattools import adfuller\n",
        "from sklearn import metrics\n",
        "from timeit import default_timer as timer\n",
        "import warnings\n",
        "warnings.filterwarnings(\"ignore\")"
      ],
      "id": "67f1cf10"
    },
    {
      "cell_type": "code",
      "execution_count": 38,
      "metadata": {
        "colab": {
          "base_uri": "https://localhost:8080/",
          "height": 1000
        },
        "id": "4c63acd3",
        "outputId": "0549e2f7-20b0-4d68-be3d-de9d52d473b3"
      },
      "outputs": [
        {
          "output_type": "stream",
          "name": "stdout",
          "text": [
            "Results of Dickey-Fuller Test for column: use\n",
            "Test Statistic                -1.285377e+01\n",
            "p-value                        5.284773e-24\n",
            "No Lags Used                   5.400000e+01\n",
            "Number of Observations Used    3.970900e+04\n",
            "Critical Value (1%)           -3.430515e+00\n",
            "Critical Value (5%)           -2.861613e+00\n",
            "Critical Value (10%)          -2.566809e+00\n",
            "dtype: float64\n",
            "Conclusion:====>\n",
            "Reject the null hypothesis\n",
            "Data is stationary\n",
            "\n",
            "\n",
            "Results of Dickey-Fuller Test for column: gen\n",
            "Test Statistic                -7.947922e+00\n",
            "p-value                        3.182905e-12\n",
            "No Lags Used                   5.400000e+01\n",
            "Number of Observations Used    3.970900e+04\n",
            "Critical Value (1%)           -3.430515e+00\n",
            "Critical Value (5%)           -2.861613e+00\n",
            "Critical Value (10%)          -2.566809e+00\n",
            "dtype: float64\n",
            "Conclusion:====>\n",
            "Reject the null hypothesis\n",
            "Data is stationary\n",
            "\n",
            "\n",
            "Results of Dickey-Fuller Test for column: House overall\n",
            "Test Statistic                -1.285377e+01\n",
            "p-value                        5.284773e-24\n",
            "No Lags Used                   5.400000e+01\n",
            "Number of Observations Used    3.970900e+04\n",
            "Critical Value (1%)           -3.430515e+00\n",
            "Critical Value (5%)           -2.861613e+00\n",
            "Critical Value (10%)          -2.566809e+00\n",
            "dtype: float64\n",
            "Conclusion:====>\n",
            "Reject the null hypothesis\n",
            "Data is stationary\n",
            "\n",
            "\n",
            "Results of Dickey-Fuller Test for column: Dishwasher\n"
          ]
        },
        {
          "output_type": "error",
          "ename": "KeyboardInterrupt",
          "evalue": "ignored",
          "traceback": [
            "\u001b[0;31m---------------------------------------------------------------------------\u001b[0m",
            "\u001b[0;31mKeyboardInterrupt\u001b[0m                         Traceback (most recent call last)",
            "\u001b[0;32m<ipython-input-38-2436f3eb4412>\u001b[0m in \u001b[0;36m<module>\u001b[0;34m\u001b[0m\n\u001b[1;32m      2\u001b[0m        \u001b[0;34m'Wine cellar'\u001b[0m\u001b[0;34m,\u001b[0m \u001b[0;34m'Garage door'\u001b[0m\u001b[0;34m,\u001b[0m \u001b[0;34m'Barn'\u001b[0m\u001b[0;34m,\u001b[0m \u001b[0;34m'Well'\u001b[0m\u001b[0;34m,\u001b[0m \u001b[0;34m'Microwave'\u001b[0m\u001b[0;34m,\u001b[0m\u001b[0;34m\u001b[0m\u001b[0;34m\u001b[0m\u001b[0m\n\u001b[1;32m      3\u001b[0m        'Living room', 'Solar', 'sum_Furnace', 'sum_Kitchen']].iteritems():\n\u001b[0;32m----> 4\u001b[0;31m     \u001b[0mAugmented_Dickey_Fuller_Test_func\u001b[0m\u001b[0;34m(\u001b[0m\u001b[0mdataset\u001b[0m\u001b[0;34m[\u001b[0m\u001b[0mname\u001b[0m\u001b[0;34m]\u001b[0m\u001b[0;34m,\u001b[0m\u001b[0mname\u001b[0m\u001b[0;34m)\u001b[0m\u001b[0;34m\u001b[0m\u001b[0;34m\u001b[0m\u001b[0m\n\u001b[0m\u001b[1;32m      5\u001b[0m     \u001b[0mprint\u001b[0m\u001b[0;34m(\u001b[0m\u001b[0;34m'\\n'\u001b[0m\u001b[0;34m)\u001b[0m\u001b[0;34m\u001b[0m\u001b[0;34m\u001b[0m\u001b[0m\n",
            "\u001b[0;32m<ipython-input-35-96c7b7d57763>\u001b[0m in \u001b[0;36mAugmented_Dickey_Fuller_Test_func\u001b[0;34m(series, column_name)\u001b[0m\n\u001b[1;32m      1\u001b[0m \u001b[0;32mdef\u001b[0m \u001b[0mAugmented_Dickey_Fuller_Test_func\u001b[0m\u001b[0;34m(\u001b[0m\u001b[0mseries\u001b[0m \u001b[0;34m,\u001b[0m \u001b[0mcolumn_name\u001b[0m\u001b[0;34m)\u001b[0m\u001b[0;34m:\u001b[0m\u001b[0;34m\u001b[0m\u001b[0;34m\u001b[0m\u001b[0m\n\u001b[1;32m      2\u001b[0m     \u001b[0mprint\u001b[0m \u001b[0;34m(\u001b[0m\u001b[0;34mf'Results of Dickey-Fuller Test for column: {column_name}'\u001b[0m\u001b[0;34m)\u001b[0m\u001b[0;34m\u001b[0m\u001b[0;34m\u001b[0m\u001b[0m\n\u001b[0;32m----> 3\u001b[0;31m     \u001b[0mdftest\u001b[0m \u001b[0;34m=\u001b[0m \u001b[0madfuller\u001b[0m\u001b[0;34m(\u001b[0m\u001b[0mseries\u001b[0m\u001b[0;34m,\u001b[0m \u001b[0mautolag\u001b[0m\u001b[0;34m=\u001b[0m\u001b[0;34m'AIC'\u001b[0m\u001b[0;34m)\u001b[0m\u001b[0;34m\u001b[0m\u001b[0;34m\u001b[0m\u001b[0m\n\u001b[0m\u001b[1;32m      4\u001b[0m     \u001b[0mdfoutput\u001b[0m \u001b[0;34m=\u001b[0m \u001b[0mpd\u001b[0m\u001b[0;34m.\u001b[0m\u001b[0mSeries\u001b[0m\u001b[0;34m(\u001b[0m\u001b[0mdftest\u001b[0m\u001b[0;34m[\u001b[0m\u001b[0;36m0\u001b[0m\u001b[0;34m:\u001b[0m\u001b[0;36m4\u001b[0m\u001b[0;34m]\u001b[0m\u001b[0;34m,\u001b[0m \u001b[0mindex\u001b[0m\u001b[0;34m=\u001b[0m\u001b[0;34m[\u001b[0m\u001b[0;34m'Test Statistic'\u001b[0m\u001b[0;34m,\u001b[0m\u001b[0;34m'p-value'\u001b[0m\u001b[0;34m,\u001b[0m\u001b[0;34m'No Lags Used'\u001b[0m\u001b[0;34m,\u001b[0m\u001b[0;34m'Number of Observations Used'\u001b[0m\u001b[0;34m]\u001b[0m\u001b[0;34m)\u001b[0m\u001b[0;34m\u001b[0m\u001b[0;34m\u001b[0m\u001b[0m\n\u001b[1;32m      5\u001b[0m     \u001b[0;32mfor\u001b[0m \u001b[0mkey\u001b[0m\u001b[0;34m,\u001b[0m\u001b[0mvalue\u001b[0m \u001b[0;32min\u001b[0m \u001b[0mdftest\u001b[0m\u001b[0;34m[\u001b[0m\u001b[0;36m4\u001b[0m\u001b[0;34m]\u001b[0m\u001b[0;34m.\u001b[0m\u001b[0mitems\u001b[0m\u001b[0;34m(\u001b[0m\u001b[0;34m)\u001b[0m\u001b[0;34m:\u001b[0m\u001b[0;34m\u001b[0m\u001b[0;34m\u001b[0m\u001b[0m\n",
            "\u001b[0;32m/usr/local/lib/python3.8/dist-packages/statsmodels/tsa/stattools.py\u001b[0m in \u001b[0;36madfuller\u001b[0;34m(x, maxlag, regression, autolag, store, regresults)\u001b[0m\n\u001b[1;32m    319\u001b[0m \u001b[0;34m\u001b[0m\u001b[0m\n\u001b[1;32m    320\u001b[0m         \u001b[0;32mif\u001b[0m \u001b[0;32mnot\u001b[0m \u001b[0mregresults\u001b[0m\u001b[0;34m:\u001b[0m\u001b[0;34m\u001b[0m\u001b[0;34m\u001b[0m\u001b[0m\n\u001b[0;32m--> 321\u001b[0;31m             icbest, bestlag = _autolag(\n\u001b[0m\u001b[1;32m    322\u001b[0m                 \u001b[0mOLS\u001b[0m\u001b[0;34m,\u001b[0m \u001b[0mxdshort\u001b[0m\u001b[0;34m,\u001b[0m \u001b[0mfullRHS\u001b[0m\u001b[0;34m,\u001b[0m \u001b[0mstartlag\u001b[0m\u001b[0;34m,\u001b[0m \u001b[0mmaxlag\u001b[0m\u001b[0;34m,\u001b[0m \u001b[0mautolag\u001b[0m\u001b[0;34m\u001b[0m\u001b[0;34m\u001b[0m\u001b[0m\n\u001b[1;32m    323\u001b[0m             )\n",
            "\u001b[0;32m/usr/local/lib/python3.8/dist-packages/statsmodels/tsa/stattools.py\u001b[0m in \u001b[0;36m_autolag\u001b[0;34m(mod, endog, exog, startlag, maxlag, method, modargs, fitargs, regresults)\u001b[0m\n\u001b[1;32m    128\u001b[0m     \u001b[0;32mfor\u001b[0m \u001b[0mlag\u001b[0m \u001b[0;32min\u001b[0m \u001b[0mrange\u001b[0m\u001b[0;34m(\u001b[0m\u001b[0mstartlag\u001b[0m\u001b[0;34m,\u001b[0m \u001b[0mstartlag\u001b[0m \u001b[0;34m+\u001b[0m \u001b[0mmaxlag\u001b[0m \u001b[0;34m+\u001b[0m \u001b[0;36m1\u001b[0m\u001b[0;34m)\u001b[0m\u001b[0;34m:\u001b[0m\u001b[0;34m\u001b[0m\u001b[0;34m\u001b[0m\u001b[0m\n\u001b[1;32m    129\u001b[0m         \u001b[0mmod_instance\u001b[0m \u001b[0;34m=\u001b[0m \u001b[0mmod\u001b[0m\u001b[0;34m(\u001b[0m\u001b[0mendog\u001b[0m\u001b[0;34m,\u001b[0m \u001b[0mexog\u001b[0m\u001b[0;34m[\u001b[0m\u001b[0;34m:\u001b[0m\u001b[0;34m,\u001b[0m \u001b[0;34m:\u001b[0m\u001b[0mlag\u001b[0m\u001b[0;34m]\u001b[0m\u001b[0;34m,\u001b[0m \u001b[0;34m*\u001b[0m\u001b[0mmodargs\u001b[0m\u001b[0;34m)\u001b[0m\u001b[0;34m\u001b[0m\u001b[0;34m\u001b[0m\u001b[0m\n\u001b[0;32m--> 130\u001b[0;31m         \u001b[0mresults\u001b[0m\u001b[0;34m[\u001b[0m\u001b[0mlag\u001b[0m\u001b[0;34m]\u001b[0m \u001b[0;34m=\u001b[0m \u001b[0mmod_instance\u001b[0m\u001b[0;34m.\u001b[0m\u001b[0mfit\u001b[0m\u001b[0;34m(\u001b[0m\u001b[0;34m)\u001b[0m\u001b[0;34m\u001b[0m\u001b[0;34m\u001b[0m\u001b[0m\n\u001b[0m\u001b[1;32m    131\u001b[0m \u001b[0;34m\u001b[0m\u001b[0m\n\u001b[1;32m    132\u001b[0m     \u001b[0;32mif\u001b[0m \u001b[0mmethod\u001b[0m \u001b[0;34m==\u001b[0m \u001b[0;34m\"aic\"\u001b[0m\u001b[0;34m:\u001b[0m\u001b[0;34m\u001b[0m\u001b[0;34m\u001b[0m\u001b[0m\n",
            "\u001b[0;32m/usr/local/lib/python3.8/dist-packages/statsmodels/regression/linear_model.py\u001b[0m in \u001b[0;36mfit\u001b[0;34m(self, method, cov_type, cov_kwds, use_t, **kwargs)\u001b[0m\n\u001b[1;32m    320\u001b[0m                     hasattr(self, 'rank')):\n\u001b[1;32m    321\u001b[0m \u001b[0;34m\u001b[0m\u001b[0m\n\u001b[0;32m--> 322\u001b[0;31m                 \u001b[0mself\u001b[0m\u001b[0;34m.\u001b[0m\u001b[0mpinv_wexog\u001b[0m\u001b[0;34m,\u001b[0m \u001b[0msingular_values\u001b[0m \u001b[0;34m=\u001b[0m \u001b[0mpinv_extended\u001b[0m\u001b[0;34m(\u001b[0m\u001b[0mself\u001b[0m\u001b[0;34m.\u001b[0m\u001b[0mwexog\u001b[0m\u001b[0;34m)\u001b[0m\u001b[0;34m\u001b[0m\u001b[0;34m\u001b[0m\u001b[0m\n\u001b[0m\u001b[1;32m    323\u001b[0m                 self.normalized_cov_params = np.dot(\n\u001b[1;32m    324\u001b[0m                     self.pinv_wexog, np.transpose(self.pinv_wexog))\n",
            "\u001b[0;32m/usr/local/lib/python3.8/dist-packages/statsmodels/tools/tools.py\u001b[0m in \u001b[0;36mpinv_extended\u001b[0;34m(x, rcond)\u001b[0m\n\u001b[1;32m    337\u001b[0m     \u001b[0mx\u001b[0m \u001b[0;34m=\u001b[0m \u001b[0mnp\u001b[0m\u001b[0;34m.\u001b[0m\u001b[0masarray\u001b[0m\u001b[0;34m(\u001b[0m\u001b[0mx\u001b[0m\u001b[0;34m)\u001b[0m\u001b[0;34m\u001b[0m\u001b[0;34m\u001b[0m\u001b[0m\n\u001b[1;32m    338\u001b[0m     \u001b[0mx\u001b[0m \u001b[0;34m=\u001b[0m \u001b[0mx\u001b[0m\u001b[0;34m.\u001b[0m\u001b[0mconjugate\u001b[0m\u001b[0;34m(\u001b[0m\u001b[0;34m)\u001b[0m\u001b[0;34m\u001b[0m\u001b[0;34m\u001b[0m\u001b[0m\n\u001b[0;32m--> 339\u001b[0;31m     \u001b[0mu\u001b[0m\u001b[0;34m,\u001b[0m \u001b[0ms\u001b[0m\u001b[0;34m,\u001b[0m \u001b[0mvt\u001b[0m \u001b[0;34m=\u001b[0m \u001b[0mnp\u001b[0m\u001b[0;34m.\u001b[0m\u001b[0mlinalg\u001b[0m\u001b[0;34m.\u001b[0m\u001b[0msvd\u001b[0m\u001b[0;34m(\u001b[0m\u001b[0mx\u001b[0m\u001b[0;34m,\u001b[0m \u001b[0;32mFalse\u001b[0m\u001b[0;34m)\u001b[0m\u001b[0;34m\u001b[0m\u001b[0;34m\u001b[0m\u001b[0m\n\u001b[0m\u001b[1;32m    340\u001b[0m     \u001b[0ms_orig\u001b[0m \u001b[0;34m=\u001b[0m \u001b[0mnp\u001b[0m\u001b[0;34m.\u001b[0m\u001b[0mcopy\u001b[0m\u001b[0;34m(\u001b[0m\u001b[0ms\u001b[0m\u001b[0;34m)\u001b[0m\u001b[0;34m\u001b[0m\u001b[0;34m\u001b[0m\u001b[0m\n\u001b[1;32m    341\u001b[0m     \u001b[0mm\u001b[0m \u001b[0;34m=\u001b[0m \u001b[0mu\u001b[0m\u001b[0;34m.\u001b[0m\u001b[0mshape\u001b[0m\u001b[0;34m[\u001b[0m\u001b[0;36m0\u001b[0m\u001b[0;34m]\u001b[0m\u001b[0;34m\u001b[0m\u001b[0;34m\u001b[0m\u001b[0m\n",
            "\u001b[0;32m/usr/local/lib/python3.8/dist-packages/numpy/core/overrides.py\u001b[0m in \u001b[0;36msvd\u001b[0;34m(*args, **kwargs)\u001b[0m\n",
            "\u001b[0;32m/usr/local/lib/python3.8/dist-packages/numpy/linalg/linalg.py\u001b[0m in \u001b[0;36msvd\u001b[0;34m(a, full_matrices, compute_uv, hermitian)\u001b[0m\n\u001b[1;32m   1646\u001b[0m \u001b[0;34m\u001b[0m\u001b[0m\n\u001b[1;32m   1647\u001b[0m         \u001b[0msignature\u001b[0m \u001b[0;34m=\u001b[0m \u001b[0;34m'D->DdD'\u001b[0m \u001b[0;32mif\u001b[0m \u001b[0misComplexType\u001b[0m\u001b[0;34m(\u001b[0m\u001b[0mt\u001b[0m\u001b[0;34m)\u001b[0m \u001b[0;32melse\u001b[0m \u001b[0;34m'd->ddd'\u001b[0m\u001b[0;34m\u001b[0m\u001b[0;34m\u001b[0m\u001b[0m\n\u001b[0;32m-> 1648\u001b[0;31m         \u001b[0mu\u001b[0m\u001b[0;34m,\u001b[0m \u001b[0ms\u001b[0m\u001b[0;34m,\u001b[0m \u001b[0mvh\u001b[0m \u001b[0;34m=\u001b[0m \u001b[0mgufunc\u001b[0m\u001b[0;34m(\u001b[0m\u001b[0ma\u001b[0m\u001b[0;34m,\u001b[0m \u001b[0msignature\u001b[0m\u001b[0;34m=\u001b[0m\u001b[0msignature\u001b[0m\u001b[0;34m,\u001b[0m \u001b[0mextobj\u001b[0m\u001b[0;34m=\u001b[0m\u001b[0mextobj\u001b[0m\u001b[0;34m)\u001b[0m\u001b[0;34m\u001b[0m\u001b[0;34m\u001b[0m\u001b[0m\n\u001b[0m\u001b[1;32m   1649\u001b[0m         \u001b[0mu\u001b[0m \u001b[0;34m=\u001b[0m \u001b[0mu\u001b[0m\u001b[0;34m.\u001b[0m\u001b[0mastype\u001b[0m\u001b[0;34m(\u001b[0m\u001b[0mresult_t\u001b[0m\u001b[0;34m,\u001b[0m \u001b[0mcopy\u001b[0m\u001b[0;34m=\u001b[0m\u001b[0;32mFalse\u001b[0m\u001b[0;34m)\u001b[0m\u001b[0;34m\u001b[0m\u001b[0;34m\u001b[0m\u001b[0m\n\u001b[1;32m   1650\u001b[0m         \u001b[0ms\u001b[0m \u001b[0;34m=\u001b[0m \u001b[0ms\u001b[0m\u001b[0;34m.\u001b[0m\u001b[0mastype\u001b[0m\u001b[0;34m(\u001b[0m\u001b[0m_realType\u001b[0m\u001b[0;34m(\u001b[0m\u001b[0mresult_t\u001b[0m\u001b[0;34m)\u001b[0m\u001b[0;34m,\u001b[0m \u001b[0mcopy\u001b[0m\u001b[0;34m=\u001b[0m\u001b[0;32mFalse\u001b[0m\u001b[0;34m)\u001b[0m\u001b[0;34m\u001b[0m\u001b[0;34m\u001b[0m\u001b[0m\n",
            "\u001b[0;31mKeyboardInterrupt\u001b[0m: "
          ]
        }
      ],
      "source": [
        "for name, column in dataset[['use', 'gen', 'House overall', 'Dishwasher', 'Home office', 'Fridge',\n",
        "       'Wine cellar', 'Garage door', 'Barn', 'Well', 'Microwave',\n",
        "       'Living room', 'Solar', 'sum_Furnace', 'sum_Kitchen']].iteritems():\n",
        "    Augmented_Dickey_Fuller_Test_func(dataset[name],name)\n",
        "    print('\\n')"
      ],
      "id": "4c63acd3"
    },
    {
      "cell_type": "code",
      "execution_count": null,
      "metadata": {
        "id": "9fb7cfac"
      },
      "outputs": [],
      "source": [
        "X = dataset[['use', 'gen', 'House overall', 'Dishwasher', 'Home office', 'Fridge',\n",
        "       'Wine cellar', 'Garage door', 'Barn', 'Well', 'Microwave',\n",
        "       'Living room', 'Solar', 'sum_Furnace', 'sum_Kitchen' ]]\n",
        "train, test = X[0:-30], X[-30:]"
      ],
      "id": "9fb7cfac"
    },
    {
      "cell_type": "code",
      "execution_count": null,
      "metadata": {
        "id": "cbd353e5"
      },
      "outputs": [],
      "source": [
        "train_diff = train.diff()\n",
        "train_diff.dropna(inplace = True)"
      ],
      "id": "cbd353e5"
    },
    {
      "cell_type": "code",
      "execution_count": null,
      "metadata": {
        "id": "JW9R6rCsmPhr"
      },
      "outputs": [],
      "source": [
        "import pandas as pd\n",
        "from statsmodels.tsa.stattools import adfuller\n",
        "\n",
        "# Load data\n",
        "# data = pd.read_csv('data.csv', index_col='Time', parse_dates=['Time'])\n",
        "\n",
        "# Differencing\n",
        "dataset['living_room_diff'] = dataset['Living room'].diff()\n",
        "dataset['solar_diff'] = dataset['Solar'].diff()\n",
        "\n",
        "# # Drop NaN values\n",
        "# data.dropna(inplace=True)\n",
        "# Replace NaN and Inf values with 0\n",
        "dataset = dataset.replace([np.inf, -np.inf, np.nan], 0)\n",
        "\n",
        "# Augmented Dickey-Fuller test\n",
        "result_living_room = adfuller(dataset['living_room_diff'])\n",
        "result_solar = adfuller(dataset['solar_diff'])\n",
        "\n",
        "print('Living room:')\n",
        "print(f'ADF Statistic: {result_living_room[0]}')\n",
        "print(f'p-value: {result_living_room[1]}')\n",
        "print(f'Critical Values: {result_living_room[4]}')\n",
        "if result_living_room[0] < result_living_room[4]['5%']:\n",
        "    print('Stationary')\n",
        "else:\n",
        "    print('Non-Stationary')\n",
        "\n",
        "print('Solar:')\n",
        "print(f'ADF Statistic: {result_solar[0]}')\n",
        "print(f'p-value: {result_solar[1]}')\n",
        "print(f'Critical Values: {result_solar[4]}')\n",
        "if result_solar[0] < result_solar[4]['5%']:\n",
        "    print('Stationary')\n",
        "else:\n",
        "    print('Non-Stationary')"
      ],
      "id": "JW9R6rCsmPhr"
    },
    {
      "cell_type": "code",
      "execution_count": null,
      "metadata": {
        "id": "9c894806"
      },
      "outputs": [],
      "source": [
        "from statsmodels.tsa.vector_ar.vecm import coint_johansen\n",
        "\n",
        "def cointegration_test(df): \n",
        "    res = coint_johansen(df,-1,5)\n",
        "    d = {'0.90':0, '0.95':1, '0.99':2}\n",
        "    traces = res.lr1\n",
        "    cvts = res.cvt[:, d[str(1-0.05)]]\n",
        "    def adjust(val, length= 6): \n",
        "        return str(val).ljust(length)\n",
        "    print('Column Name   >  Test Stat > C(95%)    =>   Signif  \\n', '--'*20)\n",
        "    for col, trace, cvt in zip(df.columns, traces, cvts):\n",
        "        print(adjust(col), '> ', adjust(round(trace,2), 9), \">\", adjust(cvt, 8), ' =>  ' , trace > cvt)"
      ],
      "id": "9c894806"
    },
    {
      "cell_type": "code",
      "execution_count": null,
      "metadata": {
        "id": "3472542c"
      },
      "outputs": [],
      "source": [
        "!pip install pmdarima\n",
        "\n",
        "from pmdarima import auto_arima\n",
        "\n"
      ],
      "id": "3472542c"
    },
    {
      "cell_type": "code",
      "execution_count": null,
      "metadata": {
        "id": "de4c4dca"
      },
      "outputs": [],
      "source": [
        "import matplotlib.pyplot as plt\n",
        "import statsmodels.api as sm\n",
        "%matplotlib inline\n",
        "\n",
        "# Loop through each column in the dataset\n",
        "for col in dataset.columns:\n",
        "    # Create a new figure\n",
        "    fig = plt.figure(figsize=(12,7))\n",
        "    \n",
        "    # Add subplots for the ACF and PACF\n",
        "    ax1 = fig.add_subplot(211)\n",
        "    fig = sm.graphics.tsa.plot_acf(dataset[col].values.squeeze(), lags=10, ax=ax1)\n",
        "    ax2 = fig.add_subplot(212)\n",
        "    fig = sm.graphics.tsa.plot_pacf(dataset[col], lags=10, ax=ax2)\n",
        "    \n",
        "    # Set the title to the column name\n",
        "    fig.suptitle(col)\n",
        "    \n",
        "    # Show the plot\n",
        "    plt.show()"
      ],
      "id": "de4c4dca"
    },
    {
      "cell_type": "code",
      "execution_count": null,
      "metadata": {
        "id": "36de021b"
      },
      "outputs": [],
      "source": [
        "# Resample each column of the dataset and calculate rolling mean and standard deviation\n",
        "rolling_window = 10\n",
        "data_daily = dataset.resample('d').mean()\n",
        "rolling_mean = data_daily.rolling(window=rolling_window).mean()\n",
        "rolling_std = data_daily.rolling(window=rolling_window).std()\n",
        "\n",
        "# Plot the results for each column\n",
        "fig, axs = plt.subplots(len(dataset.columns), 2, figsize=(16, 6*len(dataset.columns)))\n",
        "plt.subplots_adjust(hspace=0.4)\n",
        "\n",
        "for i, col in enumerate(dataset.columns):\n",
        "    axs[i, 0].plot(data_daily[col], c='blue', label=f'Data - {col}')\n",
        "    axs[i, 0].plot(rolling_mean[col], c='red', label=f'Rolling mean ({rolling_window} days)')\n",
        "    axs[i, 0].legend(fontsize=12)\n",
        "    axs[i, 0].set_ylabel('kW')\n",
        "    axs[i, 0].margins(x=0)\n",
        "    axs[i, 0].grid()\n",
        "    \n",
        "    axs[i, 1].plot(rolling_std[col], c='black', label=f'Rolling Std ({rolling_window} days)')\n",
        "    axs[i, 1].legend(fontsize=12)\n",
        "    axs[i, 1].set_ylabel('kW')\n",
        "    axs[i, 1].margins(x=0)\n",
        "    axs[i, 1].grid()\n",
        "    \n",
        "plt.show()\n"
      ],
      "id": "36de021b"
    },
    {
      "cell_type": "code",
      "execution_count": null,
      "metadata": {
        "id": "83952954"
      },
      "outputs": [],
      "source": [
        "def timeseries_evaluation_metrics_func(y_true, y_pred):\n",
        "    \n",
        "    def mean_absolute_percentage_error(y_true, y_pred): \n",
        "        y_true, y_pred = np.array(y_true), np.array(y_pred)\n",
        "        return np.mean(np.abs((y_true - y_pred) / y_true)) * 100\n",
        "    print('Evaluation metric results:-')\n",
        "    print(f'MSE is : {metrics.mean_squared_error(y_true, y_pred)}')\n",
        "    print(f'MAE is : {metrics.mean_absolute_error(y_true, y_pred)}')\n",
        "    print(f'RMSE is : {np.sqrt(metrics.mean_squared_error(y_true, y_pred))}')\n",
        "    print(f'MAPE is : {mean_absolute_percentage_error(y_true, y_pred)}')\n",
        "    print(f'R2 is : {metrics.r2_score(y_true, y_pred)}',end='\\n\\n')"
      ],
      "id": "83952954"
    },
    {
      "cell_type": "code",
      "execution_count": null,
      "metadata": {
        "id": "b19c060e"
      },
      "outputs": [],
      "source": [
        "def Augmented_Dickey_Fuller_Test_func(series , column_name):\n",
        "    print (f'Results of Dickey-Fuller Test for column: {column_name}')\n",
        "    dftest = adfuller(series, autolag='AIC')\n",
        "    dfoutput = pd.Series(dftest[0:4], index=['Test Statistic','p-value','No Lags Used','Number of Observations Used'])\n",
        "    for key,value in dftest[4].items():\n",
        "       dfoutput['Critical Value (%s)'%key] = value\n",
        "    print (dfoutput)\n",
        "    if dftest[1] <= 0.05:\n",
        "        print(\"Conclusion:====>\")\n",
        "        print(\"Reject the null hypothesis\")\n",
        "        print(\"Data is stationary\")\n",
        "    else:\n",
        "        print(\"Conclusion:====>\")\n",
        "        print(\"Fail to reject the null hypothesis\")\n",
        "        print(\"Data is non-stationary\")"
      ],
      "id": "b19c060e"
    },
    {
      "cell_type": "code",
      "execution_count": null,
      "metadata": {
        "id": "f5e2201f"
      },
      "outputs": [],
      "source": [
        "dataset.columns"
      ],
      "id": "f5e2201f"
    },
    {
      "cell_type": "code",
      "execution_count": null,
      "metadata": {
        "id": "055d2d95"
      },
      "outputs": [],
      "source": [
        "import pandas as pd\n",
        "import matplotlib.pyplot as plt\n",
        "from statsmodels.tsa.statespace.varmax import VARMAX\n",
        "import numpy as np\n",
        "from statsmodels.tsa.stattools import adfuller\n",
        "from sklearn import metrics\n",
        "from timeit import default_timer as timer\n",
        "import warnings\n",
        "warnings.filterwarnings(\"ignore\")"
      ],
      "id": "055d2d95"
    },
    {
      "cell_type": "code",
      "execution_count": null,
      "metadata": {
        "id": "6be18fbe"
      },
      "outputs": [],
      "source": [
        "for name, column in dataset[['use', 'gen', 'House overall', 'Dishwasher', 'Home office', 'Fridge',\n",
        "       'Wine cellar', 'Garage door', 'Barn', 'Well', 'Microwave',\n",
        "       'Living room', 'Solar', 'sum_Furnace', 'sum_Kitchen']].iteritems():\n",
        "    Augmented_Dickey_Fuller_Test_func(dataset[name],name)\n",
        "    print('\\n')"
      ],
      "id": "6be18fbe"
    },
    {
      "cell_type": "code",
      "execution_count": null,
      "metadata": {
        "id": "AJoNLeD6_gmS"
      },
      "outputs": [],
      "source": [
        "train_diff = train.diff()\n",
        "train_diff.dropna(inplace = True)"
      ],
      "id": "AJoNLeD6_gmS"
    },
    {
      "cell_type": "code",
      "execution_count": null,
      "metadata": {
        "id": "oSWOHdYs_jSV"
      },
      "outputs": [],
      "source": [
        "for name, column in dataset[['use', 'gen', 'House overall', 'Dishwasher', 'Home office', 'Fridge',\n",
        "       'Wine cellar', 'Garage door', 'Barn', 'Well', 'Microwave',\n",
        "       'Living room', 'Solar', 'sum_Furnace', 'sum_Kitchen']].iteritems():\n",
        "    Augmented_Dickey_Fuller_Test_func(dataset[name],name)\n",
        "    print('\\n')"
      ],
      "id": "oSWOHdYs_jSV"
    },
    {
      "cell_type": "markdown",
      "metadata": {
        "id": "IYzhrzhNArEM"
      },
      "source": [],
      "id": "IYzhrzhNArEM"
    },
    {
      "cell_type": "code",
      "execution_count": null,
      "metadata": {
        "id": "Z2-H4h9rAiEV"
      },
      "outputs": [],
      "source": [
        "X = dataset[['use', 'gen', 'House overall', 'Dishwasher', 'Home office', 'Fridge',\n",
        "       'Wine cellar', 'Garage door', 'Barn', 'Well', 'Microwave',\n",
        "       'Living room', 'Solar', 'sum_Furnace', 'sum_Kitchen' ]]\n",
        "train, test = X[0:-30], X[-30:]"
      ],
      "id": "Z2-H4h9rAiEV"
    },
    {
      "cell_type": "code",
      "execution_count": null,
      "metadata": {
        "id": "xsLuGkI9Aum-"
      },
      "outputs": [],
      "source": [
        "train_diff = train.diff()\n",
        "train_diff.dropna(inplace = True)"
      ],
      "id": "xsLuGkI9Aum-"
    },
    {
      "cell_type": "code",
      "execution_count": null,
      "metadata": {
        "id": "3NsnQaUjA8h1"
      },
      "outputs": [],
      "source": [
        "for name, column in dataset[['use', 'gen', 'House overall', 'Dishwasher', 'Home office', 'Fridge',\n",
        "       'Wine cellar', 'Garage door', 'Barn', 'Well', 'Microwave',\n",
        "       'Living room', 'Solar', 'sum_Furnace', 'sum_Kitchen']].iteritems():\n",
        "    Augmented_Dickey_Fuller_Test_func(dataset[name],name)\n",
        "    print('\\n')"
      ],
      "id": "3NsnQaUjA8h1"
    },
    {
      "cell_type": "code",
      "execution_count": null,
      "metadata": {
        "id": "1C2VHlvEBmFG"
      },
      "outputs": [],
      "source": [
        "train_diff = train.diff()\n",
        "train_diff.dropna(inplace = True)"
      ],
      "id": "1C2VHlvEBmFG"
    },
    {
      "cell_type": "code",
      "execution_count": null,
      "metadata": {
        "id": "0f87185c"
      },
      "outputs": [],
      "source": [
        "size = int(len(data_daily)*0.7)\n",
        "train = data_daily[:size]\n",
        "test = data_daily[size:]\n",
        "print('Number of points in series:', len(data_daily))\n",
        "print('Number of points in train:', len(train))\n",
        "print('Number of points in test:', len(test))"
      ],
      "id": "0f87185c"
    },
    {
      "cell_type": "code",
      "execution_count": null,
      "metadata": {
        "id": "lTx_AK1gAhSG"
      },
      "outputs": [],
      "source": [],
      "id": "lTx_AK1gAhSG"
    },
    {
      "cell_type": "code",
      "execution_count": null,
      "metadata": {
        "id": "fCMYaR4A_EHk"
      },
      "outputs": [],
      "source": [],
      "id": "fCMYaR4A_EHk"
    },
    {
      "cell_type": "code",
      "execution_count": null,
      "metadata": {
        "id": "de6fcbba"
      },
      "outputs": [],
      "source": [
        "\n",
        "import statsmodels.tsa.api as smt\n",
        "import statsmodels.api as sm\n",
        "from statsmodels.graphics.tsaplots import plot_acf, plot_pacf\n",
        "from statsmodels.tsa.stattools import acf, adfuller, grangercausalitytests\n",
        "import statsmodels.tsa.vector_ar.vecm as vecm\n",
        "from statsmodels.tsa.api import SARIMAX\n",
        "\n",
        "from sklearn.metrics import mean_squared_error, mean_absolute_percentage_error\n",
        "from sklearn.model_selection import TimeSeriesSplit, GridSearchCV\n",
        "from sklearn.decomposition import PCA\n"
      ],
      "id": "de6fcbba"
    },
    {
      "cell_type": "code",
      "execution_count": null,
      "metadata": {
        "id": "68434759"
      },
      "outputs": [],
      "source": [
        "import pandas as pd\n",
        "from statsmodels.tsa.seasonal import seasonal_decompose\n",
        "import matplotlib.pyplot as plt\n",
        "\n",
        "# create a sample time series with daily data\n",
        "dates = pd.date_range(start='2022-01-01', end='2022-12-31', freq='D')\n",
        "data_daily = pd.Series(np.random.randn(len(dates)), index=dates)\n",
        "\n",
        "# decompose the data using seasonal_decompose\n",
        "result = seasonal_decompose(data_daily, model='additive')\n",
        "\n",
        "# plot the decomposition using matplotlib\n",
        "fig, axes = plt.subplots(nrows=4, ncols=1, figsize=(10, 10))\n",
        "result.observed.plot(ax=axes[0])\n",
        "axes[0].set_ylabel('Observed')\n",
        "result.trend.plot(ax=axes[1])\n",
        "axes[1].set_ylabel('Trend')\n",
        "result.seasonal.plot(ax=axes[2])\n",
        "axes[2].set_ylabel('Seasonal')\n",
        "result.resid.plot(ax=axes[3])\n",
        "axes[3].set_ylabel('Residual')\n",
        "plt.tight_layout()\n",
        "plt.show()\n"
      ],
      "id": "68434759"
    },
    {
      "cell_type": "code",
      "execution_count": null,
      "metadata": {
        "id": "5859d34c"
      },
      "outputs": [],
      "source": [
        "# create a sample DataFrame with daily data for 3 columns\n",
        "dates = pd.date_range(start='2022-01-01', end='2022-12-31', freq='D')\n",
        "data_daily = pd.DataFrame(np.random.randn(len(dates), 15), index=dates, \n",
        "                          columns=['use', 'gen', 'House overall', 'Dishwasher', 'Home office', 'Fridge',                                    'Wine cellar', 'Garage door', 'Barn', 'Well', 'Microwave',                                    'Living room', 'Solar', 'sum_Furnace', 'sum_Kitchen'])\n",
        "\n",
        "# select the columns to decompose\n",
        "cols = ['use', 'gen', 'House overall', 'Dishwasher', 'Home office', 'Fridge','Wine cellar', 'Garage door', 'Barn', 'Well', 'Microwave',         'Living room', 'Solar', 'sum_Furnace', 'sum_Kitchen']\n",
        "\n",
        "# loop through each selected column and decompose it using seasonal_decompose\n",
        "for col in cols:\n",
        "    result = seasonal_decompose(data_daily[col], model='additive')\n",
        "\n",
        "    # plot the decomposition using matplotlib\n",
        "    fig, axes = plt.subplots(nrows=4, ncols=1, figsize=(10, 10))\n",
        "    result.observed.plot(ax=axes[0])\n",
        "    axes[0].set_ylabel('Observed')\n",
        "    result.trend.plot(ax=axes[1])\n",
        "    axes[1].set_ylabel('Trend')\n",
        "    result.seasonal.plot(ax=axes[2])\n",
        "    axes[2].set_ylabel('Seasonal')\n",
        "    result.resid.plot(ax=axes[3])\n",
        "    axes[3].set_ylabel('Residual')\n",
        "    plt.tight_layout()\n",
        "    plt.show()\n"
      ],
      "id": "5859d34c"
    },
    {
      "cell_type": "code",
      "execution_count": null,
      "metadata": {
        "id": "4d365521"
      },
      "outputs": [],
      "source": [
        "pdq = []\n",
        "for name, column in train_diff[[ 'use', 'gen', 'House overall', 'Dishwasher', 'Home office', 'Fridge',       'Wine cellar', 'Garage door', 'Barn', 'Well', 'Microwave',       'Living room', 'Solar', 'sum_Furnace', 'sum_Kitchen'   ]].iteritems():\n",
        "    print(f'Searching order of p,d and q for : {name}')\n",
        "    stepwise_model = auto_arima(train_diff[name],start_p=1, start_q=1,max_p=5, max_q=5, max_D=1, seasonal=False,\n",
        "        trace=True,error_action='ignore',suppress_warnings=True, stepwise=True,maxiter=1000)\n",
        "    parameter = stepwise_model.get_params().get('order')\n",
        "    print(f'optimal order for:{name} is: {parameter} \\n\\n')\n",
        "    pdq.append(stepwise_model.get_params().get('order'))\n"
      ],
      "id": "4d365521"
    },
    {
      "cell_type": "code",
      "execution_count": null,
      "metadata": {
        "id": "93751c44"
      },
      "outputs": [],
      "source": [
        "pdq"
      ],
      "id": "93751c44"
    },
    {
      "cell_type": "code",
      "execution_count": null,
      "metadata": {
        "id": "JcGWPZFgoP3K"
      },
      "outputs": [],
      "source": [
        "pdq = []\n",
        "for name, column in train_diff[[ 'Home office', 'Fridge', 'Wine cellar', 'Garage door', 'Barn', 'Well', 'Microwave', 'Living room', 'Solar', 'sum_Furnace', 'sum_Kitchen' ]].iteritems():\n",
        "    print(f'Searching order of p,d and q for : {name}')\n",
        "    stepwise_model = auto_arima(train_diff[name], start_p=1, start_q=1, max_p=5, max_q=5, max_P=2, max_Q=2, seasonal=True, m=12, \n",
        "                                trace=True, error_action='ignore', suppress_warnings=True, stepwise=True, maxiter=1000)\n",
        "    parameter = stepwise_model.get_params().get('order')\n",
        "    seasonal_parameter = stepwise_model.get_params().get('seasonal_order')\n",
        "    print(f'optimal order for:{name} is: {parameter} \\n')\n",
        "    print(f'optimal seasonal order for:{name} is: {seasonal_parameter} \\n\\n')\n",
        "    pdq.append(stepwise_model.get_params().get('order'))"
      ],
      "id": "JcGWPZFgoP3K"
    },
    {
      "cell_type": "code",
      "execution_count": null,
      "metadata": {
        "id": "cO8djPZeol9k"
      },
      "outputs": [],
      "source": [
        "pdq[]"
      ],
      "id": "cO8djPZeol9k"
    },
    {
      "cell_type": "code",
      "execution_count": null,
      "metadata": {
        "id": "89BPFnAOsYGq"
      },
      "outputs": [],
      "source": [
        "# Define the (P, D, Q) orders for each variable\n",
        "orders = {\n",
        "\n",
        "    'use': (1, 0, 1),\n",
        "     'gen': (1, 0, 1),\n",
        "    'House overall': (1, 0, 1),\n",
        "    'Dishwasher': (1, 0, 2),\n",
        "    'Home office': (0, 0, 5),\n",
        "    'Fridge': (0, 0, 1),\n",
        "    'Wine cellar': (0, 0, 1),\n",
        "    'Garage door': (3, 0, 1),\n",
        "    'Barn': (0, 0, 5),\n",
        "    'Well': (2, 0, 2),\n",
        "    'Microwave': (5, 0, 0),\n",
        "    'Living room': (0, 0, 2),\n",
        "    'Solar': (1, 0, 1),\n",
        "    'sum_Furnace': (2, 0, 3),\n",
        "    'sum_Kitchen': (1, 0, 3)\n",
        "\n",
        "   \n",
        "}\n",
        "\n",
        "# Generate synthetic data for one million households\n",
        "num_households = 2\n",
        "start_date = pd.to_datetime('2015-01-01')\n",
        "end_date = pd.to_datetime('2015-12-31')\n",
        "date_range = pd.date_range(start=start_date, end=end_date, freq='H')\n",
        "synthetic_data = pd.DataFrame(index=date_range)\n",
        "\n",
        "for name in orders:\n",
        "    print(f'Generating synthetic data for variable: {name}')\n",
        "    p, d, q = orders[name]\n",
        "    stepwise_model = auto_arima(train_diff[name],order=(p, d, q))\n",
        "    arima_model_fit = stepwise_model.fit(train_diff[name])\n",
        "    for i in range(num_households):\n",
        "        synthetic_data[f'{name}_household_{i+1}'] = arima_model_fit.predict(start=0, end=len(date_range)-1)\n",
        "\n"
      ],
      "id": "89BPFnAOsYGq"
    },
    {
      "cell_type": "code",
      "execution_count": null,
      "metadata": {
        "id": "iNkoyZzktHiW"
      },
      "outputs": [],
      "source": [
        "synthetic_data.to_csv('synthetic_data.csv')"
      ],
      "id": "iNkoyZzktHiW"
    },
    {
      "cell_type": "code",
      "execution_count": null,
      "metadata": {
        "id": "FYiiQrQXBvVq"
      },
      "outputs": [],
      "source": [
        "# Define the (P, D, Q) orders for each variable\n",
        "orders = {\n",
        "    'use': (1, 0, 1),\n",
        "     'gen': (1, 0, 1),\n",
        "    'House overall': (1, 0, 1),\n",
        "    'Dishwasher': (1, 0, 2),\n",
        "    'Home office': (0, 0, 5),\n",
        "    'Fridge': (0, 0, 1),\n",
        "    'Wine cellar': (0, 0, 1),\n",
        "    'Garage door': (3, 0, 1),\n",
        "    'Barn': (0, 0, 5),\n",
        "    'Well': (2, 0, 2),\n",
        "    'Microwave': (5, 0, 0),\n",
        "    'Living room': (0, 0, 2),\n",
        "    'Solar': (1, 0, 1),\n",
        "    'sum_Furnace': (2, 0, 3),\n",
        "    'sum_Kitchen': (1, 0, 3)\n",
        "}\n",
        "\n",
        "# Generate synthetic data for one million households\n",
        "num_households = 2\n",
        "start_date = pd.to_datetime('2015-01-01')\n",
        "end_date = pd.to_datetime('2015-12-31')\n",
        "date_range = pd.date_range(start=start_date, end=end_date, freq='H')\n",
        "synthetic_data = pd.DataFrame(index=date_range)\n",
        "\n",
        "for name in orders:\n",
        "    print(f'Generating synthetic data for variable: {name}')\n",
        "    p, d, q = orders[name]\n",
        "    stepwise_model = auto_arima(train_diff[name],order=(p, d, q))\n",
        "    arima_model_fit =stepwise_model.fit (train_diff[name]\n",
        "    for i in range(num_households):\n",
        "        synthetic_data[f'{name}_household_{i+1}'] = arima_model_fit.predict(start=0, end=len(date_range)-1)\n",
        "\n"
      ],
      "id": "FYiiQrQXBvVq"
    },
    {
      "cell_type": "code",
      "execution_count": null,
      "metadata": {
        "id": "eLGochl_ILun"
      },
      "outputs": [],
      "source": [
        "import numpy as np\n",
        "import pandas as pd\n",
        "import statsmodels.api as sm\n",
        "\n",
        "\n",
        "# Choose the columns to generate synthetic data\n",
        "columns = ['use', 'gen', 'House overall', 'Dishwasher', 'Home office', 'Fridge', 'Wine cellar', 'Garage door', 'Barn', 'Well', 'Microwave', 'Living room', 'Solar', 'sum_Furnace', 'sum_Kitchen']\n",
        "\n",
        "# Set the ARIMA model parameters\n",
        "p = 0\n",
        "d = 1\n",
        "q = 0\n",
        "\n",
        "# Define the number of rows to generate\n",
        "num_rows = 40000\n",
        "\n",
        "# Generate synthetic data using the ARIMA model\n",
        "synthetic_data = np.empty((num_rows, len(columns)))\n",
        "for i, column in enumerate(columns):\n",
        "    data = dataset[column].values\n",
        "    arima = sm.tsa.ARIMA(data, order=(p, d, q))\n",
        "    arima_fit = arima.fit()\n",
        "    synthetic_data[:, i] = arima_fit.simulate(nsimulations=num_rows)\n",
        "\n",
        "# Save the synthetic data to a CSV file\n",
        "pd.DataFrame(synthetic_data, columns=columns).to_csv('synthetic.csv', index=False)\n"
      ],
      "id": "eLGochl_ILun"
    },
    {
      "cell_type": "code",
      "execution_count": null,
      "metadata": {
        "id": "jl-qCmgwyMbk"
      },
      "outputs": [],
      "source": [
        "import numpy as np\n",
        "import pandas as pd\n",
        "from sklearn.preprocessing import MinMaxScaler\n",
        "import statsmodels.api as sm\n",
        "\n",
        "\n",
        "# Choose the columns to generate synthetic data\n",
        "columns = ['use', 'gen', 'House overall', 'Dishwasher', 'Home office', 'Fridge',       'Wine cellar', 'Garage door', 'Barn', 'Well', 'Microwave',       'Living room', 'Solar', 'sum_Furnace', 'sum_Kitchen']\n",
        "\n",
        "# Set the ARIMA model parameters\n",
        "p = 0\n",
        "d = 1\n",
        "q = 0\n",
        "\n",
        "# Generate synthetic data using the ARIMA model\n",
        "synthetic_data = np.empty((len(dataset), len(columns)))\n",
        "for i, column in enumerate(columns):\n",
        "    data = dataset[column].values\n",
        "    arima = sm.tsa.ARIMA(data, order=(p, d, q))\n",
        "    arima_fit = arima.fit()\n",
        "    synthetic_data[:, i] = arima_fit.simulate(nsimulations=len(dataset))\n",
        "\n",
        "# Normalize the synthetic data\n",
        "scaler = MinMaxScaler()\n",
        "synthetic_data_norm = scaler.fit_transform(synthetic_data)\n",
        "\n",
        "# Save the normalized synthetic data to a CSV file\n",
        "pd.DataFrame(synthetic_data_norm, columns=columns).to_csv('synthetic_norm 1.csv', index=False)"
      ],
      "id": "jl-qCmgwyMbk"
    },
    {
      "cell_type": "code",
      "execution_count": null,
      "metadata": {
        "id": "4NQPF6TfsIJG"
      },
      "outputs": [],
      "source": [
        "import numpy as np\n",
        "import pandas as pd\n",
        "from sklearn.preprocessing import MinMaxScaler\n",
        "import statsmodels.api as sm\n",
        "\n",
        "\n",
        "# Choose the columns to generate synthetic data\n",
        "columns = ['use', 'gen', 'House overall', 'Dishwasher', 'Home office', 'Fridge',       'Wine cellar', 'Garage door', 'Barn', 'Well', 'Microwave',       'Living room', 'Solar', 'sum_Furnace', 'sum_Kitchen']\n",
        "\n",
        "# Set the ARIMA model parameters\n",
        "p = 1\n",
        "d = 0\n",
        "q = 1\n",
        "\n",
        "# Generate synthetic data using the ARIMA model\n",
        "synthetic_data = np.empty((len(dataset), len(columns)))\n",
        "for i, column in enumerate(columns):\n",
        "    data = dataset[column].values\n",
        "    arima = sm.tsa.ARIMA(data, order=(p, d, q))\n",
        "    arima_fit = arima.fit()\n",
        "    synthetic_data[:, i] = arima_fit.simulate(nsimulations=len(dataset))\n",
        "\n",
        "# Normalize the synthetic data\n",
        "scaler = MinMaxScaler()\n",
        "synthetic_data_norm = scaler.fit_transform(synthetic_data)\n",
        "\n",
        "# Save the normalized synthetic data to a CSV file\n",
        "pd.DataFrame(synthetic_data_norm, columns=columns).to_csv('synthetic_norm 2.csv', index=False)"
      ],
      "id": "4NQPF6TfsIJG"
    },
    {
      "cell_type": "code",
      "execution_count": null,
      "metadata": {
        "id": "ZnA-cPAU5JQo"
      },
      "outputs": [],
      "source": [
        "import numpy as np\n",
        "import pandas as pd\n",
        "from sklearn.preprocessing import MinMaxScaler\n",
        "import pmdarima as pm\n",
        "\n",
        "\n",
        "# Choose the columns to generate synthetic data\n",
        "columns = ['gen', 'House overall', 'Dishwasher', 'Home office', 'Fridge',       'Wine cellar', 'Garage door', 'Barn', 'Well', 'Microwave',       'Living room', 'Solar', 'sum_Furnace', 'sum_Kitchen']\n",
        "\n",
        "# Generate synthetic data using auto ARIMA\n",
        "synthetic_data = np.empty((len(dataset), len(columns)))\n",
        "for i, column in enumerate(columns):\n",
        "    data = dataset[column].values\n",
        "    arima_model = pm.auto_arima(data, suppress_warnings=True)\n",
        "    synthetic_data[:, i] = arima_model.predict(n_periods=len(dataset))\n",
        "\n",
        "# Normalize the synthetic data\n",
        "scaler = MinMaxScaler()\n",
        "synthetic_data_norm = scaler.fit_transform(synthetic_data)\n",
        "\n",
        "# Save the normalized synthetic data to a CSV file\n",
        "pd.DataFrame(synthetic_data_norm, columns=columns).to_csv('synthetic_norm_auto.csv', index=False)"
      ],
      "id": "ZnA-cPAU5JQo"
    },
    {
      "cell_type": "code",
      "execution_count": null,
      "metadata": {
        "id": "MauP8Mhpw7ML"
      },
      "outputs": [],
      "source": [
        "import numpy as np\n",
        "import pandas as pd\n",
        "import pmdarima as pm\n",
        "\n",
        "\n",
        "# Choose the columns to generate synthetic data\n",
        "columns = ['gen', 'House overall', 'Dishwasher']\n",
        "\n",
        "# Generate synthetic data using the ARIMA model with optimal parameters\n",
        "np.random.seed(123)\n",
        "synthetic_data = np.empty((len(dataset), len(columns)))\n",
        "for i, column in enumerate(columns):\n",
        "    data = dataset[column].values\n",
        "    arima = pm.auto_arima(data, seasonal=False, stepwise=True, suppress_warnings=True)\n",
        "    synthetic_data[:, i] = arima.predict(n_periods=len(dataset))\n",
        "\n",
        "# Save the synthetic data to a CSV file\n",
        "pd.DataFrame(synthetic_data, columns=columns).to_csv('synthetic_data.csv', index=False)"
      ],
      "id": "MauP8Mhpw7ML"
    },
    {
      "cell_type": "code",
      "execution_count": null,
      "metadata": {
        "id": "cd6c0bdf"
      },
      "outputs": [],
      "source": [
        "# Define the (P, D, Q) orders for each variable\n",
        "orders = {\n",
        "    'use': (4, 0, 2),\n",
        "    'gen': (5, 0, 0),\n",
        "    'House overall': (4, 0, 2),\n",
        "    'Dishwasher': (3, 0, 3),\n",
        "    'Home office': (3, 0, 1),\n",
        "    'Fridge': (3, 0, 3),\n",
        "    'Wine cellar': (5, 0, 1),\n",
        "    'Garage door': (2, 0, 5),\n",
        "    'Barn': (5, 0, 4),\n",
        "    'Well': (0, 0, 1),\n",
        "    'Microwave': (5, 0, 3),\n",
        "    'Living room': (3, 0, 1),\n",
        "    'Solar': (5, 0, 0),\n",
        "    'sum_Furnace': (2, 0, 3),\n",
        "    'sum_Kitchen': (0, 0, 3)\n",
        "}\n",
        "\n",
        "# Generate synthetic data for one million households\n",
        "num_households = 1\n",
        "start_date = pd.to_datetime('2015-01-01')\n",
        "end_date = pd.to_datetime('2015-12-31')\n",
        "date_range = pd.date_range(start=start_date, end=end_date, freq='H')\n",
        "synthetic_data = pd.DataFrame(index=date_range)\n",
        "\n",
        "for name in orders:\n",
        "    print(f'Generating synthetic data for variable: {name}')\n",
        "    p, d, q = orders[name]\n",
        "    stepwise_model = auto_arima(train_diff[name],order=(p, d, q))\n",
        "    arima_model_fit = stepwise_model.fit(train_diff[name])\n",
        "    for i in range(num_households):\n",
        "        synthetic_data[f'{name}_household_{i+1}'] = arima_model_fit.predict(start=0, end=len(date_range)-1)\n",
        "\n",
        "# Aggregate data by day\n",
        "synthetic_data = synthetic_data.resample('D').sum()\n",
        "33"
      ],
      "id": "cd6c0bdf"
    },
    {
      "cell_type": "code",
      "execution_count": 39,
      "metadata": {
        "id": "d7e1a812"
      },
      "outputs": [],
      "source": [
        "import pandas as pd\n",
        "import matplotlib.pyplot as plt\n",
        "\n",
        "# Load datasets\n",
        "dataset1 = pd.read_csv('synthetic_norm 1 (1).csv')\n",
        "\n",
        "# Specify delimiter used in CSV file\n",
        "#dataset2 = pd.read_csv('HomeC-meter1_2015.csv', delimiter=';')\n"
      ],
      "id": "d7e1a812"
    },
    {
      "cell_type": "code",
      "source": [
        "dataset1.columns"
      ],
      "metadata": {
        "colab": {
          "base_uri": "https://localhost:8080/"
        },
        "id": "f45wmNlCY4pN",
        "outputId": "4234c48d-5e69-4227-ed3a-3da0d7898430"
      },
      "id": "f45wmNlCY4pN",
      "execution_count": 40,
      "outputs": [
        {
          "output_type": "execute_result",
          "data": {
            "text/plain": [
              "Index(['use', 'gen', 'House overall', 'Dishwasher', 'Home office', 'Fridge',\n",
              "       'Wine cellar', 'Garage door', 'Barn', 'Well', 'Microwave',\n",
              "       'Living room', 'Solar', 'sum_Furnace', 'sum_Kitchen'],\n",
              "      dtype='object')"
            ]
          },
          "metadata": {},
          "execution_count": 40
        }
      ]
    },
    {
      "cell_type": "code",
      "source": [
        "dataset2.columns"
      ],
      "metadata": {
        "colab": {
          "base_uri": "https://localhost:8080/"
        },
        "id": "iE8YXkHWY6vf",
        "outputId": "8d8e280a-7918-41e4-b6d1-2e9d1581d2b6"
      },
      "id": "iE8YXkHWY6vf",
      "execution_count": 41,
      "outputs": [
        {
          "output_type": "execute_result",
          "data": {
            "text/plain": [
              "Index(['Date & Time,use [kW],gen [kW],House overall [kW],Dishwasher [kW],Furnace 1 [kW],Furnace 2 [kW],Home office [kW],Fridge [kW],Wine cellar [kW],Garage door [kW],Kitchen 12 [kW],Kitchen 14 [kW],Kitchen 38 [kW],Barn [kW],Well [kW],Microwave [kW],Living room [kW],Solar [kW]'], dtype='object')"
            ]
          },
          "metadata": {},
          "execution_count": 41
        }
      ]
    },
    {
      "cell_type": "code",
      "source": [
        "# Extract column of interest\n",
        "column_name = 'column_name'\n",
        "column1 = dataset1['gen']\n",
        "column2 = dataset['gen [kW]']\n",
        "\n",
        "# # Create plots\n",
        "# fig, (ax1, ax2) = plt.subplots(1, 2, figsize=(10, 5))\n",
        "\n",
        "# # Plot data for dataset1\n",
        "# ax1.plot(column1, label='Synthetic Dataset')\n",
        "# ax1.set_xlabel('X label')\n",
        "# ax1.set_ylabel('Power Consumption [kW]')\n",
        "# ax1.legend()\n",
        "\n",
        "# # Plot data for dataset2\n",
        "# ax2.plot(column2, label='Real Dataset')\n",
        "# ax2.set_xlabel('X label')\n",
        "# ax2.set_ylabel('Power Consumption [kW]')\n",
        "# ax2.legend()\n",
        "\n",
        "# # Display the plots\n",
        "# plt.show()\n",
        "\n",
        "\n",
        "# Create plot\n",
        "fig, ax = plt.subplots(figsize=(10, 5))\n",
        "\n",
        "# Plot data for dataset1 and dataset2\n",
        "ax.plot(column1, label='Synthetic Dataset using Auto-ARIMA model')\n",
        "ax.plot(column2, label='Real Dataset')\n",
        "ax.set_xlabel('Gen')\n",
        "ax.set_ylabel('Power Consumption [kW]')\n",
        "ax.legend()\n",
        "\n",
        "# Display the plot\n",
        "plt.show()"
      ],
      "metadata": {
        "colab": {
          "base_uri": "https://localhost:8080/",
          "height": 501
        },
        "id": "77TfsOqpQ5dr",
        "outputId": "5694d315-cefc-41dc-d41b-2b5bb46cc869"
      },
      "id": "77TfsOqpQ5dr",
      "execution_count": 44,
      "outputs": [
        {
          "output_type": "error",
          "ename": "KeyError",
          "evalue": "ignored",
          "traceback": [
            "\u001b[0;31m---------------------------------------------------------------------------\u001b[0m",
            "\u001b[0;31mKeyError\u001b[0m                                  Traceback (most recent call last)",
            "\u001b[0;32m/usr/local/lib/python3.8/dist-packages/pandas/core/indexes/base.py\u001b[0m in \u001b[0;36mget_loc\u001b[0;34m(self, key, method, tolerance)\u001b[0m\n\u001b[1;32m   3360\u001b[0m             \u001b[0;32mtry\u001b[0m\u001b[0;34m:\u001b[0m\u001b[0;34m\u001b[0m\u001b[0;34m\u001b[0m\u001b[0m\n\u001b[0;32m-> 3361\u001b[0;31m                 \u001b[0;32mreturn\u001b[0m \u001b[0mself\u001b[0m\u001b[0;34m.\u001b[0m\u001b[0m_engine\u001b[0m\u001b[0;34m.\u001b[0m\u001b[0mget_loc\u001b[0m\u001b[0;34m(\u001b[0m\u001b[0mcasted_key\u001b[0m\u001b[0;34m)\u001b[0m\u001b[0;34m\u001b[0m\u001b[0;34m\u001b[0m\u001b[0m\n\u001b[0m\u001b[1;32m   3362\u001b[0m             \u001b[0;32mexcept\u001b[0m \u001b[0mKeyError\u001b[0m \u001b[0;32mas\u001b[0m \u001b[0merr\u001b[0m\u001b[0;34m:\u001b[0m\u001b[0;34m\u001b[0m\u001b[0;34m\u001b[0m\u001b[0m\n",
            "\u001b[0;32m/usr/local/lib/python3.8/dist-packages/pandas/_libs/index.pyx\u001b[0m in \u001b[0;36mpandas._libs.index.IndexEngine.get_loc\u001b[0;34m()\u001b[0m\n",
            "\u001b[0;32m/usr/local/lib/python3.8/dist-packages/pandas/_libs/index.pyx\u001b[0m in \u001b[0;36mpandas._libs.index.IndexEngine.get_loc\u001b[0;34m()\u001b[0m\n",
            "\u001b[0;32mpandas/_libs/hashtable_class_helper.pxi\u001b[0m in \u001b[0;36mpandas._libs.hashtable.PyObjectHashTable.get_item\u001b[0;34m()\u001b[0m\n",
            "\u001b[0;32mpandas/_libs/hashtable_class_helper.pxi\u001b[0m in \u001b[0;36mpandas._libs.hashtable.PyObjectHashTable.get_item\u001b[0;34m()\u001b[0m\n",
            "\u001b[0;31mKeyError\u001b[0m: 'gen [kW]'",
            "\nThe above exception was the direct cause of the following exception:\n",
            "\u001b[0;31mKeyError\u001b[0m                                  Traceback (most recent call last)",
            "\u001b[0;32m<ipython-input-44-4a52e62183f0>\u001b[0m in \u001b[0;36m<module>\u001b[0;34m\u001b[0m\n\u001b[1;32m      2\u001b[0m \u001b[0mcolumn_name\u001b[0m \u001b[0;34m=\u001b[0m \u001b[0;34m'column_name'\u001b[0m\u001b[0;34m\u001b[0m\u001b[0;34m\u001b[0m\u001b[0m\n\u001b[1;32m      3\u001b[0m \u001b[0mcolumn1\u001b[0m \u001b[0;34m=\u001b[0m \u001b[0mdataset1\u001b[0m\u001b[0;34m[\u001b[0m\u001b[0;34m'gen'\u001b[0m\u001b[0;34m]\u001b[0m\u001b[0;34m\u001b[0m\u001b[0;34m\u001b[0m\u001b[0m\n\u001b[0;32m----> 4\u001b[0;31m \u001b[0mcolumn2\u001b[0m \u001b[0;34m=\u001b[0m \u001b[0mdataset\u001b[0m\u001b[0;34m[\u001b[0m\u001b[0;34m'gen [kW]'\u001b[0m\u001b[0;34m]\u001b[0m\u001b[0;34m\u001b[0m\u001b[0;34m\u001b[0m\u001b[0m\n\u001b[0m\u001b[1;32m      5\u001b[0m \u001b[0;34m\u001b[0m\u001b[0m\n\u001b[1;32m      6\u001b[0m \u001b[0;31m# # Create plots\u001b[0m\u001b[0;34m\u001b[0m\u001b[0;34m\u001b[0m\u001b[0;34m\u001b[0m\u001b[0m\n",
            "\u001b[0;32m/usr/local/lib/python3.8/dist-packages/pandas/core/frame.py\u001b[0m in \u001b[0;36m__getitem__\u001b[0;34m(self, key)\u001b[0m\n\u001b[1;32m   3456\u001b[0m             \u001b[0;32mif\u001b[0m \u001b[0mself\u001b[0m\u001b[0;34m.\u001b[0m\u001b[0mcolumns\u001b[0m\u001b[0;34m.\u001b[0m\u001b[0mnlevels\u001b[0m \u001b[0;34m>\u001b[0m \u001b[0;36m1\u001b[0m\u001b[0;34m:\u001b[0m\u001b[0;34m\u001b[0m\u001b[0;34m\u001b[0m\u001b[0m\n\u001b[1;32m   3457\u001b[0m                 \u001b[0;32mreturn\u001b[0m \u001b[0mself\u001b[0m\u001b[0;34m.\u001b[0m\u001b[0m_getitem_multilevel\u001b[0m\u001b[0;34m(\u001b[0m\u001b[0mkey\u001b[0m\u001b[0;34m)\u001b[0m\u001b[0;34m\u001b[0m\u001b[0;34m\u001b[0m\u001b[0m\n\u001b[0;32m-> 3458\u001b[0;31m             \u001b[0mindexer\u001b[0m \u001b[0;34m=\u001b[0m \u001b[0mself\u001b[0m\u001b[0;34m.\u001b[0m\u001b[0mcolumns\u001b[0m\u001b[0;34m.\u001b[0m\u001b[0mget_loc\u001b[0m\u001b[0;34m(\u001b[0m\u001b[0mkey\u001b[0m\u001b[0;34m)\u001b[0m\u001b[0;34m\u001b[0m\u001b[0;34m\u001b[0m\u001b[0m\n\u001b[0m\u001b[1;32m   3459\u001b[0m             \u001b[0;32mif\u001b[0m \u001b[0mis_integer\u001b[0m\u001b[0;34m(\u001b[0m\u001b[0mindexer\u001b[0m\u001b[0;34m)\u001b[0m\u001b[0;34m:\u001b[0m\u001b[0;34m\u001b[0m\u001b[0;34m\u001b[0m\u001b[0m\n\u001b[1;32m   3460\u001b[0m                 \u001b[0mindexer\u001b[0m \u001b[0;34m=\u001b[0m \u001b[0;34m[\u001b[0m\u001b[0mindexer\u001b[0m\u001b[0;34m]\u001b[0m\u001b[0;34m\u001b[0m\u001b[0;34m\u001b[0m\u001b[0m\n",
            "\u001b[0;32m/usr/local/lib/python3.8/dist-packages/pandas/core/indexes/base.py\u001b[0m in \u001b[0;36mget_loc\u001b[0;34m(self, key, method, tolerance)\u001b[0m\n\u001b[1;32m   3361\u001b[0m                 \u001b[0;32mreturn\u001b[0m \u001b[0mself\u001b[0m\u001b[0;34m.\u001b[0m\u001b[0m_engine\u001b[0m\u001b[0;34m.\u001b[0m\u001b[0mget_loc\u001b[0m\u001b[0;34m(\u001b[0m\u001b[0mcasted_key\u001b[0m\u001b[0;34m)\u001b[0m\u001b[0;34m\u001b[0m\u001b[0;34m\u001b[0m\u001b[0m\n\u001b[1;32m   3362\u001b[0m             \u001b[0;32mexcept\u001b[0m \u001b[0mKeyError\u001b[0m \u001b[0;32mas\u001b[0m \u001b[0merr\u001b[0m\u001b[0;34m:\u001b[0m\u001b[0;34m\u001b[0m\u001b[0;34m\u001b[0m\u001b[0m\n\u001b[0;32m-> 3363\u001b[0;31m                 \u001b[0;32mraise\u001b[0m \u001b[0mKeyError\u001b[0m\u001b[0;34m(\u001b[0m\u001b[0mkey\u001b[0m\u001b[0;34m)\u001b[0m \u001b[0;32mfrom\u001b[0m \u001b[0merr\u001b[0m\u001b[0;34m\u001b[0m\u001b[0;34m\u001b[0m\u001b[0m\n\u001b[0m\u001b[1;32m   3364\u001b[0m \u001b[0;34m\u001b[0m\u001b[0m\n\u001b[1;32m   3365\u001b[0m         \u001b[0;32mif\u001b[0m \u001b[0mis_scalar\u001b[0m\u001b[0;34m(\u001b[0m\u001b[0mkey\u001b[0m\u001b[0;34m)\u001b[0m \u001b[0;32mand\u001b[0m \u001b[0misna\u001b[0m\u001b[0;34m(\u001b[0m\u001b[0mkey\u001b[0m\u001b[0;34m)\u001b[0m \u001b[0;32mand\u001b[0m \u001b[0;32mnot\u001b[0m \u001b[0mself\u001b[0m\u001b[0;34m.\u001b[0m\u001b[0mhasnans\u001b[0m\u001b[0;34m:\u001b[0m\u001b[0;34m\u001b[0m\u001b[0;34m\u001b[0m\u001b[0m\n",
            "\u001b[0;31mKeyError\u001b[0m: 'gen [kW]'"
          ]
        }
      ]
    }
  ],
  "metadata": {
    "accelerator": "GPU",
    "colab": {
      "provenance": []
    },
    "gpuClass": "standard",
    "kernelspec": {
      "display_name": "Python 3 (ipykernel)",
      "language": "python",
      "name": "python3"
    },
    "language_info": {
      "codemirror_mode": {
        "name": "ipython",
        "version": 3
      },
      "file_extension": ".py",
      "mimetype": "text/x-python",
      "name": "python",
      "nbconvert_exporter": "python",
      "pygments_lexer": "ipython3",
      "version": "3.9.13"
    }
  },
  "nbformat": 4,
  "nbformat_minor": 5
}