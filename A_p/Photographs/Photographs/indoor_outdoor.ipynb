{
 "cells": [
  {
   "cell_type": "markdown",
   "id": "9e9177b7",
   "metadata": {},
   "source": [
    "### Import Necessary Libraries"
   ]
  },
  {
   "cell_type": "code",
   "execution_count": 1,
   "id": "2101a69e",
   "metadata": {},
   "outputs": [],
   "source": [
    "import tensorflow as tf\n",
    "from tensorflow import keras\n",
    "from tensorflow.keras import layers\n",
    "from tensorflow.keras.preprocessing.image import ImageDataGenerator\n",
    "\n",
    "# Define the data directories\n",
    "train_dir = \"train\"\n",
    "test_dir = \"test\""
   ]
  },
  {
   "cell_type": "markdown",
   "id": "c0f0625e",
   "metadata": {},
   "source": [
    "### Scaling & Data Augmentation"
   ]
  },
  {
   "cell_type": "code",
   "execution_count": 2,
   "id": "f6441299",
   "metadata": {},
   "outputs": [],
   "source": [
    "# Define the data generators with data augmentation\n",
    "train_datagen = ImageDataGenerator(\n",
    "    rescale=1./255,\n",
    "    shear_range=0.2,\n",
    "    zoom_range=0.2,\n",
    "    horizontal_flip=True)\n",
    "\n",
    "test_datagen = ImageDataGenerator(rescale=1./255)\n",
    "\n",
    "# Define the batch size and image size\n",
    "batch_size = 32\n",
    "img_height = 224\n",
    "img_width = 224"
   ]
  },
  {
   "cell_type": "markdown",
   "id": "db4c1abb",
   "metadata": {},
   "source": [
    "### Train & Test sets"
   ]
  },
  {
   "cell_type": "code",
   "execution_count": 3,
   "id": "811d2eec",
   "metadata": {},
   "outputs": [
    {
     "name": "stdout",
     "output_type": "stream",
     "text": [
      "Found 400 images belonging to 2 classes.\n",
      "Found 100 images belonging to 2 classes.\n"
     ]
    }
   ],
   "source": [
    "# Define the training and validation datasets\n",
    "train_ds = train_datagen.flow_from_directory(\n",
    "    train_dir,\n",
    "    target_size=(img_height, img_width),\n",
    "    batch_size=batch_size,\n",
    "    class_mode='binary')\n",
    "\n",
    "test_ds = test_datagen.flow_from_directory(\n",
    "    test_dir,\n",
    "    target_size=(img_height, img_width),\n",
    "    batch_size=batch_size,\n",
    "    class_mode='binary')"
   ]
  },
  {
   "cell_type": "markdown",
   "id": "96dd47e5",
   "metadata": {},
   "source": [
    "### Defining the Architecture"
   ]
  },
  {
   "cell_type": "code",
   "execution_count": 4,
   "id": "aae426b9",
   "metadata": {},
   "outputs": [],
   "source": [
    "# Define the neural network model\n",
    "model = keras.Sequential([\n",
    "    layers.Conv2D(32, (3,3), activation='relu', input_shape=(img_height, img_width, 3)),\n",
    "    layers.MaxPooling2D(pool_size=(2,2)),\n",
    "    layers.Conv2D(64, (3,3), activation='relu'),\n",
    "    layers.MaxPooling2D(pool_size=(2,2)),\n",
    "    layers.Conv2D(128, (3,3), activation='relu'),\n",
    "    layers.MaxPooling2D(pool_size=(2,2)),\n",
    "    layers.Flatten(),\n",
    "    layers.Dense(128, activation='relu'),\n",
    "    layers.Dropout(0.5),\n",
    "    layers.Dense(1, activation='sigmoid')\n",
    "])"
   ]
  },
  {
   "cell_type": "markdown",
   "id": "410ae79a",
   "metadata": {},
   "source": [
    "### Model Training"
   ]
  },
  {
   "cell_type": "code",
   "execution_count": 5,
   "id": "932b2328",
   "metadata": {},
   "outputs": [
    {
     "name": "stdout",
     "output_type": "stream",
     "text": [
      "Epoch 1/10\n",
      "13/13 [==============================] - 51s 3s/step - loss: 0.8763 - accuracy: 0.5250 - val_loss: 0.5409 - val_accuracy: 0.6800\n",
      "Epoch 2/10\n",
      "13/13 [==============================] - 40s 3s/step - loss: 0.4065 - accuracy: 0.8325 - val_loss: 0.7100 - val_accuracy: 0.7000\n",
      "Epoch 3/10\n",
      "13/13 [==============================] - 37s 3s/step - loss: 0.3824 - accuracy: 0.8350 - val_loss: 0.2704 - val_accuracy: 0.8900\n",
      "Epoch 4/10\n",
      "13/13 [==============================] - 40s 3s/step - loss: 0.2794 - accuracy: 0.8850 - val_loss: 0.2301 - val_accuracy: 0.9100\n",
      "Epoch 5/10\n",
      "13/13 [==============================] - 49s 4s/step - loss: 0.2834 - accuracy: 0.8950 - val_loss: 0.5158 - val_accuracy: 0.7900\n",
      "Epoch 6/10\n",
      "13/13 [==============================] - 40s 3s/step - loss: 0.2041 - accuracy: 0.9125 - val_loss: 0.4109 - val_accuracy: 0.8300\n",
      "Epoch 7/10\n",
      "13/13 [==============================] - 41s 3s/step - loss: 0.1985 - accuracy: 0.9300 - val_loss: 0.2768 - val_accuracy: 0.8800\n",
      "Epoch 8/10\n",
      "13/13 [==============================] - 42s 3s/step - loss: 0.1535 - accuracy: 0.9350 - val_loss: 0.1582 - val_accuracy: 0.9200\n",
      "Epoch 9/10\n",
      "13/13 [==============================] - 45s 3s/step - loss: 0.1487 - accuracy: 0.9500 - val_loss: 0.3326 - val_accuracy: 0.9000\n",
      "Epoch 10/10\n",
      "13/13 [==============================] - 42s 3s/step - loss: 0.1754 - accuracy: 0.9350 - val_loss: 0.1805 - val_accuracy: 0.9100\n"
     ]
    }
   ],
   "source": [
    "# Compile the model\n",
    "model.compile(optimizer='adam',\n",
    "              loss='binary_crossentropy',\n",
    "              metrics=['accuracy'])\n",
    "\n",
    "# Train the model\n",
    "epochs = 10\n",
    "history = model.fit(\n",
    "    train_ds,\n",
    "    epochs=epochs,\n",
    "    validation_data=test_ds\n",
    ")"
   ]
  },
  {
   "cell_type": "markdown",
   "id": "f23a3b37",
   "metadata": {},
   "source": [
    "### Evaluation of the Model"
   ]
  },
  {
   "cell_type": "code",
   "execution_count": 6,
   "id": "393b4acc",
   "metadata": {},
   "outputs": [
    {
     "name": "stdout",
     "output_type": "stream",
     "text": [
      "4/4 [==============================] - 2s 505ms/step - loss: 0.1805 - accuracy: 0.9100\n",
      "Test accuracy: 0.9100000262260437\n"
     ]
    }
   ],
   "source": [
    "# Evaluate the model\n",
    "loss, accuracy = model.evaluate(test_ds)\n",
    "print(f\"Test accuracy: {accuracy}\")"
   ]
  },
  {
   "cell_type": "markdown",
   "id": "b758c388",
   "metadata": {},
   "source": [
    "### Predict on new data"
   ]
  },
  {
   "cell_type": "code",
   "execution_count": 15,
   "id": "865ab824",
   "metadata": {},
   "outputs": [
    {
     "name": "stdout",
     "output_type": "stream",
     "text": [
      "Indoor\n"
     ]
    }
   ],
   "source": [
    "import numpy as np\n",
    "from tensorflow.keras.preprocessing import image\n",
    "\n",
    "# Load an image to predict\n",
    "new_image = image.load_img(\"train/indoor/images9.jpg\", target_size=(img_height, img_width))\n",
    "new_image = image.img_to_array(new_image)\n",
    "new_image = np.expand_dims(new_image, axis=0)\n",
    "\n",
    "#Make a prediction\n",
    "prediction = model.predict(new_image)\n",
    "\n",
    "if prediction[0][0] > 0.5:\n",
    "    print(\"Outdoor\")\n",
    "else:\n",
    "    print(\"Indoor\")"
   ]
  },
  {
   "cell_type": "code",
   "execution_count": null,
   "id": "e49529b0",
   "metadata": {},
   "outputs": [],
   "source": []
  }
 ],
 "metadata": {
  "kernelspec": {
   "display_name": "Python 3 (ipykernel)",
   "language": "python",
   "name": "python3"
  },
  "language_info": {
   "codemirror_mode": {
    "name": "ipython",
    "version": 3
   },
   "file_extension": ".py",
   "mimetype": "text/x-python",
   "name": "python",
   "nbconvert_exporter": "python",
   "pygments_lexer": "ipython3",
   "version": "3.10.4"
  }
 },
 "nbformat": 4,
 "nbformat_minor": 5
}
