{
 "cells": [
  {
   "cell_type": "code",
   "execution_count": 1,
   "id": "c7da35ae",
   "metadata": {},
   "outputs": [],
   "source": [
    "# Importing the necessary libraries\n",
    "import pandas as pd\n",
    "import matplotlib.pyplot as plt\n",
    "import seaborn as sns"
   ]
  },
  {
   "cell_type": "code",
   "execution_count": 2,
   "id": "9bfa44d0",
   "metadata": {},
   "outputs": [],
   "source": [
    "# Reading the dataset into a pandas dataframe\n",
    "df = pd.read_csv('restaurant_reviews.csv')"
   ]
  },
  {
   "cell_type": "code",
   "execution_count": 3,
   "id": "28c11404",
   "metadata": {},
   "outputs": [
    {
     "name": "stdout",
     "output_type": "stream",
     "text": [
      "             date     rating    res_id   res_name  \\\n",
      "0  17/03/19 22:18  Rated 5.0  18716525  Aura Cafe   \n",
      "1  16/03/19 21:25  Rated 3.0  18716525  Aura Cafe   \n",
      "2  16/03/19 10:18  Rated 4.0  18716525  Aura Cafe   \n",
      "3   14/03/19 9:13  Rated 5.0  18716525  Aura Cafe   \n",
      "4   12/03/19 4:56  Rated 4.0  18716525  Aura Cafe   \n",
      "\n",
      "                     rev_count    rev_id        rev_name  \\\n",
      "0  153 Reviews , 250 Followers   1226687   Hussain Abbas   \n",
      "1    33 Reviews , 86 Followers  27912218  Sunakshi Gupta   \n",
      "2   41 Reviews , 200 Followers  38270346  Bhavya Thamban   \n",
      "3   49 Reviews , 500 Followers  39225454   Lovely Sharma   \n",
      "4   32 Reviews , 345 Followers    740280  Srayana Sanyal   \n",
      "\n",
      "                                                text  \n",
      "0  RATED  Aura has to be my Beautiful Breakfast p...  \n",
      "1  RATED  A decent place to come over for chit ch...  \n",
      "2  RATED  Everything is good about this place exc...  \n",
      "3  RATED  Aura Cafe has a good ambiance with outd...  \n",
      "4  RATED  Aura Cafe is the perfect place for a Su...  \n"
     ]
    }
   ],
   "source": [
    "# Printing the first 5 rows of the dataframe\n",
    "print(df.head())"
   ]
  },
  {
   "cell_type": "code",
   "execution_count": 4,
   "id": "8a2901a4",
   "metadata": {},
   "outputs": [
    {
     "name": "stdout",
     "output_type": "stream",
     "text": [
      "<class 'pandas.core.frame.DataFrame'>\n",
      "RangeIndex: 1079 entries, 0 to 1078\n",
      "Data columns (total 8 columns):\n",
      " #   Column     Non-Null Count  Dtype \n",
      "---  ------     --------------  ----- \n",
      " 0   date       1079 non-null   object\n",
      " 1   rating     1079 non-null   object\n",
      " 2   res_id     1079 non-null   int64 \n",
      " 3   res_name   1079 non-null   object\n",
      " 4   rev_count  1079 non-null   object\n",
      " 5   rev_id     1079 non-null   int64 \n",
      " 6   rev_name   1079 non-null   object\n",
      " 7   text       1079 non-null   object\n",
      "dtypes: int64(2), object(6)\n",
      "memory usage: 67.6+ KB\n",
      "None\n"
     ]
    }
   ],
   "source": [
    "# Getting a summary of the dataframe\n",
    "print(df.info())"
   ]
  },
  {
   "cell_type": "code",
   "execution_count": 5,
   "id": "5c723aaf",
   "metadata": {},
   "outputs": [
    {
     "name": "stdout",
     "output_type": "stream",
     "text": [
      "             res_id        rev_id\n",
      "count  1.079000e+03  1.079000e+03\n",
      "mean   1.432333e+07  2.353338e+07\n",
      "std    7.798584e+06  1.977927e+07\n",
      "min    9.102600e+04  7.372000e+03\n",
      "25%    1.824128e+07  2.115246e+06\n",
      "50%    1.853874e+07  2.956250e+07\n",
      "75%    1.871314e+07  3.805740e+07\n",
      "max    1.892751e+07  9.200588e+07\n"
     ]
    }
   ],
   "source": [
    "# Describing the numerical columns of the dataframe\n",
    "print(df.describe())"
   ]
  },
  {
   "cell_type": "code",
   "execution_count": 6,
   "id": "c6ce6fae",
   "metadata": {},
   "outputs": [
    {
     "name": "stdout",
     "output_type": "stream",
     "text": [
      "date         0\n",
      "rating       0\n",
      "res_id       0\n",
      "res_name     0\n",
      "rev_count    0\n",
      "rev_id       0\n",
      "rev_name     0\n",
      "text         0\n",
      "dtype: int64\n"
     ]
    }
   ],
   "source": [
    "# Checking for any missing values in the dataframe\n",
    "print(df.isnull().sum())"
   ]
  },
  {
   "cell_type": "code",
   "execution_count": 7,
   "id": "c349b613",
   "metadata": {},
   "outputs": [
    {
     "data": {
      "text/plain": [
       "Index(['date', 'rating', 'res_id', 'res_name', 'rev_count', 'rev_id',\n",
       "       'rev_name', 'text'],\n",
       "      dtype='object')"
      ]
     },
     "execution_count": 7,
     "metadata": {},
     "output_type": "execute_result"
    }
   ],
   "source": [
    "df.columns"
   ]
  },
  {
   "cell_type": "code",
   "execution_count": 8,
   "id": "ad5021fb",
   "metadata": {},
   "outputs": [
    {
     "data": {
      "image/png": "[encoded data removed]",
      "text/plain": [
       "<Figure size 640x480 with 1 Axes>"
      ]
     },
     "metadata": {},
     "output_type": "display_data"
    }
   ],
   "source": [
    "# Check the distribution of ratings using a histogram\n",
    "sns.histplot(data=df, x='rating', bins=10)\n",
    "plt.show()"
   ]
  },
  {
   "cell_type": "code",
   "execution_count": 9,
   "id": "c3bb6336",
   "metadata": {},
   "outputs": [
    {
     "data": {
      "image/png": "[encoded data removed]",
      "text/plain": [
       "<Figure size 640x480 with 1 Axes>"
      ]
     },
     "metadata": {},
     "output_type": "display_data"
    }
   ],
   "source": [
    "# Check the distribution of review counts using a histogram\n",
    "sns.histplot(data=df, x='rev_count', bins=10)\n",
    "plt.show()"
   ]
  },
  {
   "cell_type": "code",
   "execution_count": 10,
   "id": "c833ff45",
   "metadata": {},
   "outputs": [
    {
     "name": "stdout",
     "output_type": "stream",
     "text": [
      "res_name\n",
      "The Roastery Coffee House     74\n",
      "eat.fit                       62\n",
      "Lé Vantage Cafe Bar           59\n",
      "Over The Moon Brew Company    53\n",
      "Dhaba Estd 1986 Delhi         51\n",
      "The Fisherman's Wharf         49\n",
      "Zero40 Brewing                48\n",
      "Truffle Tower                 48\n",
      "Nimrah Cafe And Bakery        47\n",
      "Fat Pigeon - Bar Hop          45\n",
      "Name: rev_id, dtype: int64\n"
     ]
    }
   ],
   "source": [
    "# Check the top 10 restaurants by number of reviews\n",
    "top_restaurants = df.groupby('res_name')['rev_id'].count().sort_values(ascending=False).head(10)\n",
    "print(top_restaurants)"
   ]
  },
  {
   "cell_type": "markdown",
   "id": "18a13a4b",
   "metadata": {},
   "source": [
    "### Text document representation using Bag of Words analysis"
   ]
  },
  {
   "cell_type": "code",
   "execution_count": 11,
   "id": "486540bb",
   "metadata": {},
   "outputs": [
    {
     "name": "stdout",
     "output_type": "stream",
     "text": [
      "(1079, 6123)\n",
      "['00' '00pm' '07' ... 'zones' 'zucchini' 'zuchini']\n"
     ]
    }
   ],
   "source": [
    "# Importing the necessary libraries\n",
    "from sklearn.feature_extraction.text import CountVectorizer\n",
    "\n",
    "# Creating a bag of words representation of the reviews\n",
    "vectorizer = CountVectorizer()\n",
    "X = vectorizer.fit_transform(df['text'])\n",
    "print(X.shape)\n",
    "print(vectorizer.get_feature_names_out())"
   ]
  },
  {
   "cell_type": "markdown",
   "id": "1633bc6d",
   "metadata": {},
   "source": [
    "### Sentiment Analysis using Text Classifier"
   ]
  },
  {
   "cell_type": "code",
   "execution_count": 12,
   "id": "815b1ad4",
   "metadata": {},
   "outputs": [
    {
     "name": "stdout",
     "output_type": "stream",
     "text": [
      "count    1079.000000\n",
      "mean      408.460612\n",
      "std       206.127773\n",
      "min       147.000000\n",
      "25%       246.000000\n",
      "50%       360.000000\n",
      "75%       531.500000\n",
      "max      1003.000000\n",
      "Name: text_len, dtype: float64\n"
     ]
    },
    {
     "data": {
      "image/png": "[encoded data removed]",
      "text/plain": [
       "<Figure size 640x480 with 1 Axes>"
      ]
     },
     "metadata": {},
     "output_type": "display_data"
    },
    {
     "name": "stdout",
     "output_type": "stream",
     "text": [
      "[('the', 3073), ('and', 2736), ('a', 1809), ('is', 1540), ('to', 1493), ('was', 1345), ('of', 1211), ('RATED', 1079), ('place', 990), ('I', 921)]\n"
     ]
    }
   ],
   "source": [
    "# Check the length of the reviews\n",
    "df['text_len'] = df['text'].apply(len)\n",
    "print(df['text_len'].describe())\n",
    "\n",
    "# Check the distribution of review lengths using a histogram\n",
    "sns.histplot(data=df, x='text_len', bins=50)\n",
    "plt.show()\n",
    "\n",
    "# Check the most common words in the reviews\n",
    "from collections import Counter\n",
    "word_counts = Counter(\" \".join(df['text']).split())\n",
    "print(word_counts.most_common(10))"
   ]
  },
  {
   "cell_type": "code",
   "execution_count": 15,
   "id": "88c38fd5",
   "metadata": {},
   "outputs": [
    {
     "name": "stdout",
     "output_type": "stream",
     "text": [
      "(1079, 6123)\n",
      "['00' '00pm' '07' ... 'zones' 'zucchini' 'zuchini']\n"
     ]
    }
   ],
   "source": [
    "# Importing the necessary libraries\n",
    "from sklearn.feature_extraction.text import CountVectorizer\n",
    "\n",
    "# Creating a bag of words representation of the reviews\n",
    "vectorizer = CountVectorizer()\n",
    "X = vectorizer.fit_transform(df['text'])\n",
    "print(X.shape)\n",
    "print(vectorizer.get_feature_names_out())"
   ]
  },
  {
   "cell_type": "code",
   "execution_count": 19,
   "id": "20c01dbb",
   "metadata": {},
   "outputs": [
    {
     "name": "stdout",
     "output_type": "stream",
     "text": [
      "count    1079.000000\n",
      "mean      408.460612\n",
      "std       206.127773\n",
      "min       147.000000\n",
      "25%       246.000000\n",
      "50%       360.000000\n",
      "75%       531.500000\n",
      "max      1003.000000\n",
      "Name: text_len, dtype: float64\n"
     ]
    },
    {
     "data": {
      "image/png": "[encoded data removed]",
      "text/plain": [
       "<Figure size 640x480 with 1 Axes>"
      ]
     },
     "metadata": {},
     "output_type": "display_data"
    },
    {
     "name": "stdout",
     "output_type": "stream",
     "text": [
      "[('the', 3073), ('and', 2736), ('a', 1809), ('is', 1540), ('to', 1493), ('was', 1345), ('of', 1211), ('RATED', 1079), ('place', 990), ('I', 921)]\n"
     ]
    }
   ],
   "source": [
    "# Check the length of the reviews\n",
    "df['text_len'] = df['text'].apply(len)\n",
    "print(df['text_len'].describe())\n",
    "\n",
    "# Check the distribution of review lengths using a histogram\n",
    "sns.histplot(data=df, x='text_len', bins=50)\n",
    "plt.show()\n",
    "\n",
    "# Check the most common words in the reviews\n",
    "from collections import Counter\n",
    "word_counts = Counter(\" \".join(df['text']).split())\n",
    "print(word_counts.most_common(10))"
   ]
  },
  {
   "cell_type": "code",
   "execution_count": 22,
   "id": "b41abfe4",
   "metadata": {},
   "outputs": [],
   "source": [
    "# Importing the necessary libraries\n",
    "from sklearn.naive_bayes import MultinomialNB\n",
    "from sklearn.metrics import classification_report\n",
    "from sklearn.model_selection import train_test_split\n",
    "\n",
    "\n",
    "# Splitting the data into train and test sets\n",
    "X_train, X_test, y_train, y_test = train_test_split(df['text'], df['rev_count'], random_state=42)"
   ]
  },
  {
   "cell_type": "code",
   "execution_count": 23,
   "id": "4d6d0ca9",
   "metadata": {},
   "outputs": [
    {
     "name": "stdout",
     "output_type": "stream",
     "text": [
      "                              precision    recall  f1-score   support\n",
      "\n",
      "100 Reviews , 2216 Followers       0.00      0.00      0.00       1.0\n",
      " 102 Reviews , 339 Followers       0.00      0.00      0.00       1.0\n",
      "106 Reviews , 1078 Followers       0.00      0.00      0.00       1.0\n",
      "107 Reviews , 1139 Followers       0.00      0.00      0.00       2.0\n",
      " 108 Reviews , 553 Followers       0.00      0.00      0.00       1.0\n",
      " 111 Reviews , 313 Followers       0.00      0.00      0.00       1.0\n",
      " 111 Reviews , 944 Followers       0.00      0.00      0.00       0.0\n",
      " 114 Reviews , 766 Followers       0.00      0.00      0.00       1.0\n",
      " 115 Reviews , 247 Followers       0.00      0.00      0.00       1.0\n",
      " 115 Reviews , 305 Followers       0.00      0.00      0.00       1.0\n",
      "116 Reviews , 2023 Followers       0.00      0.00      0.00       1.0\n",
      "117 Reviews , 4731 Followers       0.00      0.00      0.00       1.0\n",
      "120 Reviews , 2120 Followers       0.00      0.00      0.00       1.0\n",
      " 120 Reviews , 490 Followers       0.00      0.00      0.00       1.0\n",
      "121 Reviews , 1191 Followers       0.00      0.00      0.00       1.0\n",
      " 121 Reviews , 456 Followers       0.00      0.00      0.00       1.0\n",
      " 122 Reviews , 572 Followers       0.00      0.00      0.00       1.0\n",
      " 124 Reviews , 551 Followers       0.00      0.00      0.00       1.0\n",
      " 124 Reviews , 585 Followers       0.00      0.00      0.00       1.0\n",
      " 128 Reviews , 229 Followers       0.00      0.00      0.00       1.0\n",
      "130 Reviews , 1961 Followers       0.00      0.00      0.00       1.0\n",
      "133 Reviews , 1569 Followers       0.00      0.00      0.00       1.0\n",
      "138 Reviews , 1113 Followers       0.00      0.00      0.00       1.0\n",
      " 138 Reviews , 939 Followers       0.00      0.00      0.00       2.0\n",
      " 142 Reviews , 508 Followers       0.00      0.00      0.00       1.0\n",
      " 143 Reviews , 673 Followers       0.00      0.00      0.00       1.0\n",
      " 146 Reviews , 488 Followers       0.00      0.00      0.00       1.0\n",
      " 155 Reviews , 259 Followers       0.00      0.00      0.00       1.0\n",
      " 157 Reviews , 196 Followers       0.00      0.00      0.00       1.0\n",
      " 157 Reviews , 576 Followers       0.00      0.00      0.00       1.0\n",
      "  16 Reviews , 199 Followers       0.00      0.00      0.00       1.0\n",
      "   16 Reviews , 28 Followers       0.00      0.00      0.00       1.0\n",
      " 160 Reviews , 646 Followers       0.00      0.00      0.00       1.0\n",
      "161 Reviews , 1675 Followers       0.00      0.00      0.00       1.0\n",
      " 161 Reviews , 198 Followers       0.00      0.00      0.00       1.0\n",
      " 161 Reviews , 407 Followers       0.00      0.00      0.00       1.0\n",
      " 161 Reviews , 413 Followers       0.00      0.00      0.00       1.0\n",
      "164 Reviews , 1818 Followers       0.00      0.00      0.00       0.0\n",
      " 166 Reviews , 370 Followers       0.00      0.00      0.00       1.0\n",
      "169 Reviews , 2732 Followers       0.00      0.00      0.00       1.0\n",
      "  17 Reviews , 200 Followers       0.00      0.00      0.00       1.0\n",
      "  17 Reviews , 239 Followers       0.00      0.00      0.00       1.0\n",
      "   17 Reviews , 27 Followers       0.00      0.00      0.00       1.0\n",
      "   17 Reviews , 59 Followers       0.00      0.00      0.00       1.0\n",
      "    17 Reviews , 7 Followers       0.00      0.00      0.00       2.0\n",
      " 171 Reviews , 461 Followers       0.00      0.00      0.00       1.0\n",
      "179 Reviews , 1356 Followers       0.00      0.00      0.00       2.0\n",
      "  18 Reviews , 179 Followers       0.00      0.00      0.00       1.0\n",
      "   18 Reviews , 77 Followers       0.00      0.00      0.00       1.0\n",
      "185 Reviews , 1070 Followers       0.00      0.00      0.00       1.0\n",
      " 188 Reviews , 378 Followers       0.00      0.00      0.00       1.0\n",
      " 189 Reviews , 646 Followers       0.00      0.00      0.00       1.0\n",
      "   19 Reviews , 18 Followers       0.00      0.00      0.00       1.0\n",
      "  19 Reviews , 187 Followers       0.00      0.00      0.00       1.0\n",
      "   19 Reviews , 34 Followers       0.00      0.00      0.00       1.0\n",
      "   19 Reviews , 39 Followers       0.00      0.00      0.00       1.0\n",
      "    19 Reviews , 8 Followers       0.00      0.00      0.00       2.0\n",
      "   19 Reviews , 91 Followers       0.00      0.00      0.00       1.0\n",
      "   20 Reviews , 11 Followers       0.00      0.00      0.00       4.0\n",
      "   20 Reviews , 14 Followers       0.00      0.00      0.00       2.0\n",
      "   20 Reviews , 15 Followers       0.00      0.00      0.00       1.0\n",
      "   20 Reviews , 38 Followers       0.00      0.00      0.00       1.0\n",
      "   20 Reviews , 55 Followers       0.00      0.00      0.00       1.0\n",
      "   20 Reviews , 62 Followers       0.00      0.00      0.00       1.0\n",
      "   20 Reviews , 67 Followers       0.00      0.00      0.00       1.0\n",
      "   20 Reviews , 86 Followers       0.00      0.00      0.00       1.0\n",
      "    20 Reviews , 9 Followers       0.00      0.00      0.00       2.0\n",
      "   20 Reviews , 97 Followers       0.00      0.00      0.00       1.0\n",
      " 200 Reviews , 295 Followers       0.00      0.00      0.00       1.0\n",
      " 204 Reviews , 635 Followers       0.00      0.00      0.00       1.0\n",
      "206 Reviews , 2969 Followers       0.00      0.00      0.00       1.0\n",
      "  21 Reviews , 135 Followers       0.00      0.00      0.00       1.0\n",
      "  21 Reviews , 177 Followers       0.00      0.00      0.00       1.0\n",
      "  21 Reviews , 187 Followers       0.00      0.00      0.00       1.0\n",
      "   21 Reviews , 19 Followers       0.00      0.00      0.00       1.0\n",
      "  21 Reviews , 225 Followers       0.00      0.00      0.00       1.0\n",
      "  21 Reviews , 236 Followers       0.00      0.00      0.00       1.0\n",
      "  21 Reviews , 288 Followers       0.00      0.00      0.00       1.0\n",
      "  21 Reviews , 291 Followers       0.00      0.00      0.00       1.0\n",
      "   21 Reviews , 69 Followers       0.00      0.00      0.00       1.0\n",
      "  21 Reviews , 725 Followers       0.00      0.00      0.00       1.0\n",
      " 213 Reviews , 399 Followers       0.00      0.00      0.00       1.0\n",
      "   22 Reviews , 13 Followers       0.00      0.00      0.00       1.0\n",
      "  22 Reviews , 133 Followers       0.00      0.00      0.00       1.0\n",
      "   22 Reviews , 76 Followers       0.00      0.00      0.00       1.0\n",
      " 228 Reviews , 566 Followers       0.00      0.00      0.00       1.0\n",
      "  23 Reviews , 243 Followers       0.00      0.00      0.00       1.0\n",
      "   23 Reviews , 26 Followers       0.00      0.00      0.00       1.0\n",
      "   23 Reviews , 39 Followers       0.00      0.00      0.00       1.0\n",
      "  24 Reviews , 153 Followers       0.00      0.00      0.00       1.0\n",
      "  24 Reviews , 154 Followers       0.00      0.00      0.00       1.0\n",
      "   24 Reviews , 18 Followers       0.00      0.00      0.00       2.0\n",
      "   24 Reviews , 66 Followers       0.00      0.00      0.00       1.0\n",
      "   24 Reviews , 97 Followers       0.00      0.00      0.00       3.0\n",
      "   25 Reviews , 10 Followers       0.00      0.00      0.00       1.0\n",
      "  25 Reviews , 100 Followers       0.00      0.00      0.00       1.0\n",
      "  25 Reviews , 126 Followers       0.00      0.00      0.00       1.0\n",
      "   25 Reviews , 32 Followers       0.00      0.00      0.00       1.0\n",
      "  26 Reviews , 100 Followers       0.00      0.00      0.00       1.0\n",
      "   26 Reviews , 18 Followers       0.00      0.00      0.00       1.0\n",
      "   27 Reviews , 29 Followers       0.00      0.00      0.00       1.0\n",
      "   27 Reviews , 31 Followers       0.00      0.00      0.00       1.0\n",
      "   27 Reviews , 43 Followers       0.00      0.00      0.00       1.0\n",
      "   27 Reviews , 72 Followers       0.00      0.00      0.00       1.0\n",
      " 275 Reviews , 909 Followers       0.00      0.00      0.00       0.0\n",
      "  28 Reviews , 161 Followers       0.00      0.00      0.00       1.0\n",
      "   28 Reviews , 40 Followers       0.00      0.00      0.00       1.0\n",
      "   28 Reviews , 51 Followers       0.00      0.00      0.00       1.0\n",
      "    29 Posts , 972 Followers       0.00      0.00      0.00       1.0\n",
      " 29 Reviews , 1202 Followers       0.00      0.00      0.00       1.0\n",
      "   29 Reviews , 21 Followers       0.00      0.00      0.00       1.0\n",
      "  30 Reviews , 119 Followers       0.00      0.00      0.00       1.0\n",
      "  31 Reviews , 168 Followers       0.00      0.00      0.00       1.0\n",
      "   31 Reviews , 39 Followers       0.00      0.00      0.00       1.0\n",
      "   31 Reviews , 47 Followers       0.00      0.00      0.00       3.0\n",
      "   31 Reviews , 85 Followers       0.00      0.00      0.00       1.0\n",
      "319 Reviews , 1848 Followers       0.00      0.00      0.00       1.0\n",
      "   32 Reviews , 63 Followers       0.00      0.00      0.00       1.0\n",
      "  33 Reviews , 143 Followers       0.00      0.00      0.00       1.0\n",
      "   33 Reviews , 18 Followers       0.00      0.00      0.00       1.0\n",
      " 33 Reviews , 2019 Followers       0.00      0.00      0.00       1.0\n",
      "  33 Reviews , 206 Followers       0.00      0.00      0.00       1.0\n",
      "  33 Reviews , 574 Followers       0.00      0.00      0.00       1.0\n",
      "   33 Reviews , 60 Followers       0.00      0.00      0.00       1.0\n",
      "  33 Reviews , 862 Followers       0.00      0.00      0.00       1.0\n",
      " 337 Reviews , 822 Followers       0.00      0.00      0.00       1.0\n",
      "  34 Reviews , 118 Followers       0.00      0.00      0.00       1.0\n",
      "  34 Reviews , 121 Followers       0.00      0.00      0.00       1.0\n",
      "  34 Reviews , 133 Followers       0.00      0.00      0.00       1.0\n",
      "  34 Reviews , 147 Followers       0.00      0.00      0.00       1.0\n",
      "  34 Reviews , 200 Followers       0.00      0.00      0.00       1.0\n",
      "  34 Reviews , 535 Followers       0.00      0.00      0.00       1.0\n",
      "   34 Reviews , 60 Followers       0.00      0.00      0.00       1.0\n",
      "   34 Reviews , 77 Followers       0.00      0.00      0.00       2.0\n",
      "   35 Reviews , 13 Followers       0.00      0.00      0.00       1.0\n",
      "   36 Reviews , 36 Followers       0.00      0.00      0.00       1.0\n",
      "   36 Reviews , 97 Followers       0.00      0.00      0.00       1.0\n",
      "   37 Reviews , 44 Followers       0.00      0.00      0.00       1.0\n",
      "   37 Reviews , 91 Followers       0.00      0.00      0.00       1.0\n",
      "  38 Reviews , 101 Followers       0.00      0.00      0.00       1.0\n",
      "   38 Reviews , 30 Followers       0.00      0.00      0.00       1.0\n",
      "  38 Reviews , 352 Followers       0.00      0.00      0.00       1.0\n",
      "    38 Reviews , 6 Followers       0.00      0.00      0.00       1.0\n",
      "  39 Reviews , 141 Followers       0.00      0.00      0.00       1.0\n",
      "  39 Reviews , 481 Followers       0.00      0.00      0.00       1.0\n",
      "   40 Reviews , 32 Followers       0.00      0.00      0.00       1.0\n",
      "   40 Reviews , 56 Followers       0.00      0.00      0.00       1.0\n",
      "406 Reviews , 3058 Followers       0.00      0.00      0.00       1.0\n",
      "  41 Reviews , 138 Followers       0.00      0.00      0.00       1.0\n",
      "  41 Reviews , 200 Followers       0.00      0.00      0.00       1.0\n",
      "   41 Reviews , 93 Followers       0.00      0.00      0.00       1.0\n",
      "  42 Reviews , 237 Followers       0.00      0.00      0.00       1.0\n",
      "  42 Reviews , 373 Followers       0.00      0.00      0.00       1.0\n",
      "   42 Reviews , 62 Followers       0.00      0.00      0.00       1.0\n",
      "   42 Reviews , 67 Followers       0.00      0.00      0.00       1.0\n",
      "   42 Reviews , 89 Followers       0.00      0.00      0.00       1.0\n",
      "   42 Reviews , 95 Followers       0.00      0.00      0.00       1.0\n",
      "  43 Reviews , 137 Followers       0.00      0.00      0.00       1.0\n",
      "  43 Reviews , 254 Followers       0.00      0.00      0.00       1.0\n",
      "   43 Reviews , 75 Followers       0.00      0.00      0.00       3.0\n",
      "   44 Posts , 3982 Followers       0.00      0.00      0.00       1.0\n",
      "  44 Reviews , 144 Followers       0.00      0.00      0.00       1.0\n",
      "  46 Reviews , 172 Followers       0.00      0.00      0.00       1.0\n",
      "  46 Reviews , 273 Followers       0.00      0.00      0.00       1.0\n",
      "  46 Reviews , 278 Followers       0.00      0.00      0.00       1.0\n",
      "  46 Reviews , 689 Followers       0.00      0.00      0.00       1.0\n",
      "  47 Reviews , 166 Followers       0.00      0.00      0.00       1.0\n",
      "   47 Reviews , 41 Followers       0.00      0.00      0.00       1.0\n",
      "  48 Reviews , 108 Followers       0.00      0.00      0.00       1.0\n",
      "   48 Reviews , 53 Followers       0.00      0.00      0.00       1.0\n",
      "   49 Reviews , 41 Followers       0.00      0.00      0.00       1.0\n",
      "  49 Reviews , 500 Followers       0.00      0.00      0.00       1.0\n",
      "  50 Reviews , 123 Followers       0.00      0.00      0.00       2.0\n",
      "  50 Reviews , 195 Followers       0.00      0.00      0.00       1.0\n",
      "  51 Reviews , 245 Followers       0.00      0.00      0.00       1.0\n",
      "   51 Reviews , 74 Followers       0.00      0.00      0.00       1.0\n",
      "  52 Reviews , 123 Followers       0.00      0.00      0.00       1.0\n",
      "   52 Reviews , 41 Followers       0.00      0.00      0.00       1.0\n",
      "  55 Reviews , 362 Followers       0.00      0.00      0.00       1.0\n",
      "551 Reviews , 5543 Followers       0.00      0.00      0.00       1.0\n",
      "   56 Reviews , 80 Followers       0.00      0.00      0.00       1.0\n",
      "  57 Reviews , 194 Followers       0.00      0.00      0.00       3.0\n",
      "   57 Reviews , 78 Followers       0.00      0.00      0.00       1.0\n",
      "  59 Reviews , 262 Followers       0.00      0.00      0.00       1.0\n",
      "   59 Reviews , 43 Followers       0.00      0.00      0.00       1.0\n",
      "  60 Reviews , 140 Followers       0.00      0.00      0.00       1.0\n",
      "  60 Reviews , 177 Followers       0.00      0.00      0.00       1.0\n",
      "  60 Reviews , 233 Followers       0.00      0.00      0.00       1.0\n",
      "  61 Reviews , 116 Followers       0.00      0.00      0.00       1.0\n",
      "  61 Reviews , 120 Followers       0.00      0.00      0.00       1.0\n",
      "  61 Reviews , 311 Followers       0.00      0.00      0.00       1.0\n",
      "  63 Reviews , 489 Followers       0.00      0.00      0.00       1.0\n",
      "   63 Reviews , 57 Followers       0.00      0.00      0.00       2.0\n",
      "   63 Reviews , 87 Followers       0.00      0.00      0.00       1.0\n",
      "   64 Reviews , 60 Followers       0.00      0.00      0.00       0.0\n",
      "  64 Reviews , 988 Followers       0.00      0.00      0.00       1.0\n",
      " 65 Reviews , 1142 Followers       0.00      0.00      0.00       1.0\n",
      "  65 Reviews , 238 Followers       0.00      0.00      0.00       1.0\n",
      "   65 Reviews , 77 Followers       0.00      0.00      0.00       1.0\n",
      "   66 Reviews , 34 Followers       0.00      0.00      0.00       1.0\n",
      "  66 Reviews , 438 Followers       0.00      0.00      0.00       1.0\n",
      " 67 Reviews , 1566 Followers       0.00      0.00      0.00       2.0\n",
      "  67 Reviews , 157 Followers       0.00      0.00      0.00       1.0\n",
      " 67 Reviews , 2332 Followers       0.00      0.00      0.00       1.0\n",
      "  69 Reviews , 109 Followers       0.00      0.00      0.00       1.0\n",
      " 69 Reviews , 1092 Followers       0.00      0.00      0.00       1.0\n",
      "  69 Reviews , 659 Followers       0.00      0.00      0.00       1.0\n",
      "  71 Reviews , 113 Followers       0.00      0.00      0.00       1.0\n",
      "  72 Reviews , 171 Followers       0.00      0.00      0.00       1.0\n",
      "  73 Reviews , 167 Followers       0.00      0.00      0.00       1.0\n",
      "  73 Reviews , 290 Followers       0.00      0.00      0.00       1.0\n",
      "  73 Reviews , 355 Followers       0.00      0.00      0.00       1.0\n",
      "  74 Reviews , 201 Followers       0.00      0.00      0.00       1.0\n",
      " 75 Reviews , 1258 Followers       0.00      0.00      0.00       1.0\n",
      "  75 Reviews , 190 Followers       0.00      0.00      0.00       1.0\n",
      "  75 Reviews , 477 Followers       0.00      0.00      0.00       1.0\n",
      "  75 Reviews , 750 Followers       0.00      0.00      0.00       1.0\n",
      "  77 Reviews , 140 Followers       0.00      0.00      0.00       1.0\n",
      "  78 Reviews , 191 Followers       0.00      0.00      0.00       1.0\n",
      "  78 Reviews , 260 Followers       0.00      0.00      0.00       2.0\n",
      "  78 Reviews , 282 Followers       0.00      0.00      0.00       1.0\n",
      "   78 Reviews , 53 Followers       0.00      0.00      0.00       1.0\n",
      "  80 Reviews , 196 Followers       0.00      0.00      0.00       1.0\n",
      "  80 Reviews , 284 Followers       0.00      0.00      0.00       2.0\n",
      "  81 Reviews , 103 Followers       0.00      0.00      0.00       1.0\n",
      "  82 Reviews , 207 Followers       0.00      0.00      0.00       1.0\n",
      "  83 Reviews , 130 Followers       0.00      0.00      0.00       1.0\n",
      "  83 Reviews , 233 Followers       0.00      0.00      0.00       1.0\n",
      "  84 Reviews , 651 Followers       0.00      0.00      0.00       1.0\n",
      "  84 Reviews , 746 Followers       0.00      0.00      0.00       1.0\n",
      " 85 Reviews , 2929 Followers       0.00      0.00      0.00       2.0\n",
      "  85 Reviews , 294 Followers       0.00      0.00      0.00       1.0\n",
      "  86 Reviews , 142 Followers       0.00      0.00      0.00       4.0\n",
      " 86 Reviews , 3576 Followers       0.00      0.00      0.00       1.0\n",
      "  87 Reviews , 196 Followers       0.00      0.00      0.00       1.0\n",
      "  89 Reviews , 509 Followers       0.00      0.00      0.00       1.0\n",
      " 91 Reviews , 1012 Followers       0.00      0.00      0.00       1.0\n",
      "  91 Reviews , 222 Followers       0.00      0.00      0.00       1.0\n",
      "  92 Reviews , 588 Followers       0.00      0.00      0.00       1.0\n",
      "   93 Reviews , 39 Followers       0.00      0.00      0.00       1.0\n",
      "   93 Reviews , 68 Followers       0.00      0.00      0.00       1.0\n",
      "  95 Reviews , 236 Followers       0.00      0.00      0.00       1.0\n",
      "  97 Reviews , 165 Followers       0.00      0.00      0.00       1.0\n",
      "  98 Reviews , 212 Followers       0.00      0.00      0.00       1.0\n",
      "  98 Reviews , 355 Followers       0.00      0.00      0.00       1.0\n",
      "\n",
      "                    accuracy                           0.00     270.0\n",
      "                   macro avg       0.00      0.00      0.00     270.0\n",
      "                weighted avg       0.00      0.00      0.00     270.0\n",
      "\n"
     ]
    },
    {
     "name": "stderr",
     "output_type": "stream",
     "text": [
      "C:\\Users\\Shobhandeb\\anaconda3\\lib\\site-packages\\sklearn\\metrics\\_classification.py:1344: UndefinedMetricWarning: Precision and F-score are ill-defined and being set to 0.0 in labels with no predicted samples. Use `zero_division` parameter to control this behavior.\n",
      "  _warn_prf(average, modifier, msg_start, len(result))\n",
      "C:\\Users\\Shobhandeb\\anaconda3\\lib\\site-packages\\sklearn\\metrics\\_classification.py:1344: UndefinedMetricWarning: Recall and F-score are ill-defined and being set to 0.0 in labels with no true samples. Use `zero_division` parameter to control this behavior.\n",
      "  _warn_prf(average, modifier, msg_start, len(result))\n",
      "C:\\Users\\Shobhandeb\\anaconda3\\lib\\site-packages\\sklearn\\metrics\\_classification.py:1344: UndefinedMetricWarning: Precision and F-score are ill-defined and being set to 0.0 in labels with no predicted samples. Use `zero_division` parameter to control this behavior.\n",
      "  _warn_prf(average, modifier, msg_start, len(result))\n",
      "C:\\Users\\Shobhandeb\\anaconda3\\lib\\site-packages\\sklearn\\metrics\\_classification.py:1344: UndefinedMetricWarning: Recall and F-score are ill-defined and being set to 0.0 in labels with no true samples. Use `zero_division` parameter to control this behavior.\n",
      "  _warn_prf(average, modifier, msg_start, len(result))\n",
      "C:\\Users\\Shobhandeb\\anaconda3\\lib\\site-packages\\sklearn\\metrics\\_classification.py:1344: UndefinedMetricWarning: Precision and F-score are ill-defined and being set to 0.0 in labels with no predicted samples. Use `zero_division` parameter to control this behavior.\n",
      "  _warn_prf(average, modifier, msg_start, len(result))\n",
      "C:\\Users\\Shobhandeb\\anaconda3\\lib\\site-packages\\sklearn\\metrics\\_classification.py:1344: UndefinedMetricWarning: Recall and F-score are ill-defined and being set to 0.0 in labels with no true samples. Use `zero_division` parameter to control this behavior.\n",
      "  _warn_prf(average, modifier, msg_start, len(result))\n"
     ]
    }
   ],
   "source": [
    "# Creating a bag of words representation of the reviews\n",
    "vectorizer = CountVectorizer()\n",
    "X_train_vec = vectorizer.fit_transform(X_train)\n",
    "\n",
    "# Fitting a Naive Bayes model on the training data\n",
    "nb = MultinomialNB()\n",
    "nb.fit(X_train_vec, y_train)\n",
    "\n",
    "# Creating a bag of words representation of the test data\n",
    "X_test_vec = vectorizer.transform(X_test)\n",
    "\n",
    "# Predicting the sentiment of the test data\n",
    "y_pred = nb.predict(X_test_vec)\n",
    "\n",
    "# Printing the classification report of the Naive Bayes model\n",
    "print(classification_report(y_test, y_pred))"
   ]
  },
  {
   "cell_type": "code",
   "execution_count": null,
   "id": "bcd106b6",
   "metadata": {},
   "outputs": [],
   "source": []
  }
 ],
 "metadata": {
  "kernelspec": {
   "display_name": "shobhandeb",
   "language": "python",
   "name": "shobhandeb"
  },
  "language_info": {
   "codemirror_mode": {
    "name": "ipython",
    "version": 3
   },
   "file_extension": ".py",
   "mimetype": "text/x-python",
   "name": "python",
   "nbconvert_exporter": "python",
   "pygments_lexer": "ipython3",
   "version": "3.10.9"
  }
 },
 "nbformat": 4,
 "nbformat_minor": 5
}
